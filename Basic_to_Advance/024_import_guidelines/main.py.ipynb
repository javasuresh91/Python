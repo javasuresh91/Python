{
 "cells": [
  {
   "cell_type": "code",
   "execution_count": 9,
   "id": "1ae92c7f",
   "metadata": {
    "scrolled": true
   },
   "outputs": [
    {
     "ename": "NameError",
     "evalue": "name 'welcomemsg' is not defined",
     "output_type": "error",
     "traceback": [
      "\u001b[1;31m---------------------------------------------------------------------------\u001b[0m",
      "\u001b[1;31mNameError\u001b[0m                                 Traceback (most recent call last)",
      "\u001b[1;32m~\\AppData\\Local\\Temp/ipykernel_592/2494340461.py\u001b[0m in \u001b[0;36m<module>\u001b[1;34m\u001b[0m\n\u001b[1;32m----> 1\u001b[1;33m \u001b[0mwelcomemsg\u001b[0m\u001b[1;33m(\u001b[0m\u001b[1;33m)\u001b[0m \u001b[1;31m## it gives error\u001b[0m\u001b[1;33m\u001b[0m\u001b[1;33m\u001b[0m\u001b[0m\n\u001b[0m",
      "\u001b[1;31mNameError\u001b[0m: name 'welcomemsg' is not defined"
     ]
    }
   ],
   "source": [
    "welcomemsg() ## it gives error"
   ]
  },
  {
   "cell_type": "code",
   "execution_count": 10,
   "id": "fafc098c",
   "metadata": {},
   "outputs": [],
   "source": [
    "import welcome"
   ]
  },
  {
   "cell_type": "code",
   "execution_count": 11,
   "id": "08e9c59c",
   "metadata": {},
   "outputs": [
    {
     "name": "stdout",
     "output_type": "stream",
     "text": [
      "Welcome\n"
     ]
    }
   ],
   "source": [
    "welcome.welcomemsg()"
   ]
  },
  {
   "cell_type": "code",
   "execution_count": 12,
   "id": "74483669",
   "metadata": {},
   "outputs": [],
   "source": [
    "import welcome as wc"
   ]
  },
  {
   "cell_type": "code",
   "execution_count": 13,
   "id": "cd0fece4",
   "metadata": {},
   "outputs": [
    {
     "name": "stdout",
     "output_type": "stream",
     "text": [
      "Welcome\n"
     ]
    }
   ],
   "source": [
    "wc.welcomemsg()"
   ]
  },
  {
   "cell_type": "code",
   "execution_count": null,
   "id": "efe60ce6",
   "metadata": {},
   "outputs": [],
   "source": []
  }
 ],
 "metadata": {
  "kernelspec": {
   "display_name": "Python 3 (ipykernel)",
   "language": "python",
   "name": "python3"
  },
  "language_info": {
   "codemirror_mode": {
    "name": "ipython",
    "version": 3
   },
   "file_extension": ".py",
   "mimetype": "text/x-python",
   "name": "python",
   "nbconvert_exporter": "python",
   "pygments_lexer": "ipython3",
   "version": "3.9.7"
  }
 },
 "nbformat": 4,
 "nbformat_minor": 5
}
