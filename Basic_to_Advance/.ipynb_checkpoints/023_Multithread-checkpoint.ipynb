{
 "cells": [
  {
   "cell_type": "code",
   "execution_count": 7,
   "id": "24da4d88",
   "metadata": {},
   "outputs": [],
   "source": [
    "import time\n",
    "\n",
    "def returnnum(a):\n",
    "    time.sleep(1)\n",
    "    return a"
   ]
  },
  {
   "cell_type": "code",
   "execution_count": 2,
   "id": "dfd44dcf",
   "metadata": {},
   "outputs": [],
   "source": [
    "from concurrent.futures import ThreadPoolExecutor"
   ]
  },
  {
   "cell_type": "code",
   "execution_count": 3,
   "id": "872e6b0b",
   "metadata": {},
   "outputs": [
    {
     "data": {
      "text/plain": [
       "10"
      ]
     },
     "execution_count": 3,
     "metadata": {},
     "output_type": "execute_result"
    }
   ],
   "source": [
    "returnnum(10)"
   ]
  },
  {
   "cell_type": "code",
   "execution_count": 9,
   "id": "b879bb85",
   "metadata": {},
   "outputs": [
    {
     "name": "stdout",
     "output_type": "stream",
     "text": [
      "count 0\n",
      "count 1\n",
      "count 2\n",
      "count 3\n",
      "count 4\n",
      "count 5\n",
      "count 6\n",
      "count 7\n",
      "count 8\n",
      "count 9\n",
      "count 10\n",
      "count 11\n",
      "count 12\n",
      "count 13\n",
      "count 14\n",
      "count 15\n",
      "count 16\n",
      "count 17\n",
      "count 18\n",
      "count 19\n",
      "count 20\n",
      "count 21\n",
      "count 22\n",
      "count 23\n",
      "count 24\n",
      "count 25\n",
      "count 26\n",
      "count 27\n",
      "count 28\n",
      "count 29\n",
      "count 30\n",
      "count 31\n",
      "count 32\n",
      "count 33\n",
      "count 34\n",
      "count 35\n",
      "count 36\n",
      "count 37\n",
      "count 38\n",
      "count 39\n",
      "count 40\n",
      "count 41\n",
      "count 42\n",
      "count 43\n",
      "count 44\n",
      "count 45\n",
      "count 46\n",
      "count 47\n",
      "count 48\n",
      "count 49\n",
      "count 50\n",
      "count 51\n",
      "count 52\n",
      "count 53\n",
      "count 54\n",
      "count 55\n",
      "count 56\n",
      "count 57\n",
      "count 58\n",
      "count 59\n",
      "count 60\n",
      "count 61\n",
      "count 62\n",
      "count 63\n",
      "count 64\n",
      "count 65\n",
      "count 66\n",
      "count 67\n",
      "count 68\n",
      "count 69\n",
      "count 70\n",
      "count 71\n",
      "count 72\n",
      "count 73\n",
      "count 74\n",
      "count 75\n",
      "count 76\n",
      "count 77\n",
      "count 78\n",
      "count 79\n",
      "count 80\n",
      "count 81\n",
      "count 82\n",
      "count 83\n",
      "count 84\n",
      "count 85\n",
      "count 86\n",
      "count 87\n",
      "count 88\n",
      "count 89\n",
      "count 90\n",
      "count 91\n",
      "count 92\n",
      "count 93\n",
      "count 94\n",
      "count 95\n",
      "count 96\n",
      "count 97\n",
      "count 98\n",
      "count 99\n",
      "50.4625883102417\n"
     ]
    }
   ],
   "source": [
    "start = time.time()\n",
    "with ThreadPoolExecutor(max_workers=2) as executor:\n",
    "    for result in executor.map(returnnum,range(100)):\n",
    "        print(\"count {0}\".format(result))\n",
    "print(time.time() - start)        "
   ]
  },
  {
   "cell_type": "code",
   "execution_count": null,
   "id": "aa5d5b06",
   "metadata": {},
   "outputs": [],
   "source": []
  },
  {
   "cell_type": "code",
   "execution_count": null,
   "id": "3da18327",
   "metadata": {},
   "outputs": [],
   "source": []
  }
 ],
 "metadata": {
  "kernelspec": {
   "display_name": "Python 3 (ipykernel)",
   "language": "python",
   "name": "python3"
  },
  "language_info": {
   "codemirror_mode": {
    "name": "ipython",
    "version": 3
   },
   "file_extension": ".py",
   "mimetype": "text/x-python",
   "name": "python",
   "nbconvert_exporter": "python",
   "pygments_lexer": "ipython3",
   "version": "3.9.7"
  }
 },
 "nbformat": 4,
 "nbformat_minor": 5
}
