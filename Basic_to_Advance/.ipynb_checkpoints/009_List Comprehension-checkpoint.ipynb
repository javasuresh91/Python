{
 "cells": [
  {
   "cell_type": "markdown",
   "id": "7f102804",
   "metadata": {},
   "source": [
    "# List Comprehension\n",
    "\n",
    "List comprehension provides a concise way to create lists. It consists of brackets containing an expression followed by a for caluse, then zero or more for or if clauses. The expressions can be anything,meaning you can put in all kinds of objects in list."
   ]
  },
  {
   "cell_type": "code",
   "execution_count": 1,
   "id": "e38fc5d9",
   "metadata": {},
   "outputs": [],
   "source": [
    "lst1 = []\n",
    "def lst_sq(lst):\n",
    "    for i in lst:\n",
    "        lst1.append(i*i)\n",
    "    return lst1    "
   ]
  },
  {
   "cell_type": "code",
   "execution_count": 2,
   "id": "8f444e7d",
   "metadata": {},
   "outputs": [
    {
     "data": {
      "text/plain": [
       "[1, 4, 9, 16, 25, 36, 5929]"
      ]
     },
     "execution_count": 2,
     "metadata": {},
     "output_type": "execute_result"
    }
   ],
   "source": [
    "lst_sq([1,2,3,4,5,6,77])"
   ]
  },
  {
   "cell_type": "markdown",
   "id": "74cc93ac",
   "metadata": {},
   "source": [
    "#### In the above method we tried to iterate the list and find the square of the num, if we calucalte the TIme complexity will be huge. To overcome this on the List data structure , we can go with List Comprehension technique as below"
   ]
  },
  {
   "cell_type": "code",
   "execution_count": 4,
   "id": "227d71b0",
   "metadata": {},
   "outputs": [
    {
     "data": {
      "text/plain": [
       "[1, 4, 9, 16, 25, 36, 5929]"
      ]
     },
     "execution_count": 4,
     "metadata": {},
     "output_type": "execute_result"
    }
   ],
   "source": [
    "example_data = [1,2,3,4,5,6,77]\n",
    "## 1. wrap with []\n",
    "## 2. wrie the expression i * i\n",
    "## 3. for statement\n",
    "## 4. Optional : If condition or additional for stmt\n",
    "[i * i for i in example_data]\n",
    "\n",
    "## Now time complexity is low because line of code is low"
   ]
  },
  {
   "cell_type": "code",
   "execution_count": 5,
   "id": "41683b3b",
   "metadata": {},
   "outputs": [
    {
     "data": {
      "text/plain": [
       "[4, 16, 36]"
      ]
     },
     "execution_count": 5,
     "metadata": {},
     "output_type": "execute_result"
    }
   ],
   "source": [
    "# point 4 is implemented here\n",
    "[i*i for i in example_data if i%2 == 0]"
   ]
  },
  {
   "cell_type": "code",
   "execution_count": null,
   "id": "26dd191d",
   "metadata": {},
   "outputs": [],
   "source": []
  },
  {
   "cell_type": "code",
   "execution_count": null,
   "id": "59c43924",
   "metadata": {},
   "outputs": [],
   "source": []
  }
 ],
 "metadata": {
  "kernelspec": {
   "display_name": "Python 3 (ipykernel)",
   "language": "python",
   "name": "python3"
  },
  "language_info": {
   "codemirror_mode": {
    "name": "ipython",
    "version": 3
   },
   "file_extension": ".py",
   "mimetype": "text/x-python",
   "name": "python",
   "nbconvert_exporter": "python",
   "pygments_lexer": "ipython3",
   "version": "3.9.7"
  }
 },
 "nbformat": 4,
 "nbformat_minor": 5
}
