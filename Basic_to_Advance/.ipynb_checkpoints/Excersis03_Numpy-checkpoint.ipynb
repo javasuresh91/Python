{
 "cells": [
  {
   "cell_type": "code",
   "execution_count": 1,
   "id": "2b645aeb",
   "metadata": {},
   "outputs": [],
   "source": [
    "import numpy as np\n",
    "## https://www.geeksforgeeks.org/python-numpy-practice-exercises-questions-and-solutions/"
   ]
  },
  {
   "cell_type": "markdown",
   "id": "4c4372c3",
   "metadata": {},
   "source": [
    "# Create Empty Array"
   ]
  },
  {
   "cell_type": "code",
   "execution_count": 2,
   "id": "6a6d60b2",
   "metadata": {},
   "outputs": [
    {
     "data": {
      "text/plain": [
       "array([ 1169457113, -1347963513,  1381176688,  1020568799])"
      ]
     },
     "execution_count": 2,
     "metadata": {},
     "output_type": "execute_result"
    }
   ],
   "source": [
    "\n",
    "empArry = np.empty(4,dtype=int)\n",
    "empArry"
   ]
  },
  {
   "cell_type": "code",
   "execution_count": 3,
   "id": "afa188ef",
   "metadata": {},
   "outputs": [
    {
     "data": {
      "text/plain": [
       "array([[  182744720,           0,      131074],\n",
       "       [        425,           0, -1929288702]])"
      ]
     },
     "execution_count": 3,
     "metadata": {},
     "output_type": "execute_result"
    }
   ],
   "source": [
    "empArry = np.empty((2,3),dtype=int, order='F')\n",
    "empArry"
   ]
  },
  {
   "cell_type": "code",
   "execution_count": 4,
   "id": "d3209558",
   "metadata": {},
   "outputs": [
    {
     "data": {
      "text/plain": [
       "array([[182744720,       425,         0],\n",
       "       [        0,    131074, 542978336]])"
      ]
     },
     "execution_count": 4,
     "metadata": {},
     "output_type": "execute_result"
    }
   ],
   "source": [
    "empArry = np.empty((2,3),dtype=int, order='C')\n",
    "empArry"
   ]
  },
  {
   "cell_type": "code",
   "execution_count": 5,
   "id": "f29338a7",
   "metadata": {},
   "outputs": [
    {
     "data": {
      "text/plain": [
       "array([[0., 0., 0.],\n",
       "       [0., 0., 0.]])"
      ]
     },
     "execution_count": 5,
     "metadata": {},
     "output_type": "execute_result"
    }
   ],
   "source": [
    "empArry = np.empty((2,3),dtype=float)\n",
    "empArry"
   ]
  },
  {
   "cell_type": "markdown",
   "id": "f9d0b99e",
   "metadata": {},
   "source": [
    "# Full Array"
   ]
  },
  {
   "cell_type": "code",
   "execution_count": 6,
   "id": "ae8e42e4",
   "metadata": {},
   "outputs": [
    {
     "data": {
      "text/plain": [
       "array([10., 10., 10., 10.])"
      ]
     },
     "execution_count": 6,
     "metadata": {},
     "output_type": "execute_result"
    }
   ],
   "source": [
    "fullArry = np.full(4,10,dtype=float)\n",
    "fullArry"
   ]
  },
  {
   "cell_type": "code",
   "execution_count": 7,
   "id": "13df4f19",
   "metadata": {},
   "outputs": [
    {
     "data": {
      "text/plain": [
       "array([[10., 10., 10., 10., 10.],\n",
       "       [10., 10., 10., 10., 10.],\n",
       "       [10., 10., 10., 10., 10.],\n",
       "       [10., 10., 10., 10., 10.]])"
      ]
     },
     "execution_count": 7,
     "metadata": {},
     "output_type": "execute_result"
    }
   ],
   "source": [
    "fullArry = np.full((4,5),10,dtype=float)\n",
    "fullArry"
   ]
  },
  {
   "cell_type": "code",
   "execution_count": 8,
   "id": "2af168bc",
   "metadata": {},
   "outputs": [
    {
     "data": {
      "text/plain": [
       "array([10, 10, 10, 10])"
      ]
     },
     "execution_count": 8,
     "metadata": {},
     "output_type": "execute_result"
    }
   ],
   "source": [
    "fullArry = np.full(4,10,dtype=int,order='F')\n",
    "fullArry"
   ]
  },
  {
   "cell_type": "code",
   "execution_count": 9,
   "id": "4a3493ad",
   "metadata": {},
   "outputs": [
    {
     "data": {
      "text/plain": [
       "array([[60, 60],\n",
       "       [60, 60],\n",
       "       [60, 60],\n",
       "       [60, 60]])"
      ]
     },
     "execution_count": 9,
     "metadata": {},
     "output_type": "execute_result"
    }
   ],
   "source": [
    "fullArry = np.full([4,2],60,dtype=int,order='F')\n",
    "fullArry"
   ]
  },
  {
   "cell_type": "markdown",
   "id": "95fd3c20",
   "metadata": {},
   "source": [
    "# Zero Matrix/Array"
   ]
  },
  {
   "cell_type": "code",
   "execution_count": 10,
   "id": "e09f0ea0",
   "metadata": {},
   "outputs": [
    {
     "data": {
      "text/plain": [
       "array([[0., 0.],\n",
       "       [0., 0.],\n",
       "       [0., 0.],\n",
       "       [0., 0.]])"
      ]
     },
     "execution_count": 10,
     "metadata": {},
     "output_type": "execute_result"
    }
   ],
   "source": [
    "zeroMar = np.zeros((4,2))\n",
    "zeroMar"
   ]
  },
  {
   "cell_type": "code",
   "execution_count": 11,
   "id": "dc20257c",
   "metadata": {},
   "outputs": [
    {
     "data": {
      "text/plain": [
       "array([[0, 0],\n",
       "       [0, 0],\n",
       "       [0, 0],\n",
       "       [0, 0]])"
      ]
     },
     "execution_count": 11,
     "metadata": {},
     "output_type": "execute_result"
    }
   ],
   "source": [
    "zeroMar = np.zeros((4,2),dtype=int)\n",
    "zeroMar"
   ]
  },
  {
   "cell_type": "code",
   "execution_count": 12,
   "id": "51de254b",
   "metadata": {},
   "outputs": [
    {
     "data": {
      "text/plain": [
       "array([0., 0.])"
      ]
     },
     "execution_count": 12,
     "metadata": {},
     "output_type": "execute_result"
    }
   ],
   "source": [
    "zeroMar = np.zeros(2)\n",
    "zeroMar"
   ]
  },
  {
   "cell_type": "markdown",
   "id": "32fba59d",
   "metadata": {},
   "source": [
    "# One Matrix/Array"
   ]
  },
  {
   "cell_type": "code",
   "execution_count": 13,
   "id": "93f5d20a",
   "metadata": {},
   "outputs": [
    {
     "data": {
      "text/plain": [
       "array([1., 1., 1.])"
      ]
     },
     "execution_count": 13,
     "metadata": {},
     "output_type": "execute_result"
    }
   ],
   "source": [
    "oneMar = np.ones(3)\n",
    "oneMar"
   ]
  },
  {
   "cell_type": "markdown",
   "id": "8dc1cd11",
   "metadata": {},
   "source": [
    "# Check whether a Numpy array contains a specified row"
   ]
  },
  {
   "cell_type": "code",
   "execution_count": 15,
   "id": "a2a321cd",
   "metadata": {},
   "outputs": [],
   "source": [
    "ar = np.array([2,3,4])\n",
    "ar1 = np.array([\"Abc\",\"tt\"])\n",
    "ar2 = np.array([[1,2,3],[5,6,7],[9,8,7]])"
   ]
  },
  {
   "cell_type": "code",
   "execution_count": 22,
   "id": "67d9dcb0",
   "metadata": {},
   "outputs": [
    {
     "name": "stdout",
     "output_type": "stream",
     "text": [
      "True\n",
      "True\n",
      "False\n",
      "False\n",
      "True\n",
      "False\n"
     ]
    }
   ],
   "source": [
    "print(2 in ar.tolist())\n",
    "print(\"Abc\" in ar1.tolist())\n",
    "print(\"abc\" in ar1.tolist())\n",
    "print([1,5,6] in ar2.tolist())\n",
    "print([5,6,7] in ar2.tolist())\n",
    "print([7,8,9] in ar2.tolist())"
   ]
  },
  {
   "cell_type": "markdown",
   "id": "15602194",
   "metadata": {},
   "source": [
    "# Remove rows in Numpy array that contains non-numeric values"
   ]
  },
  {
   "cell_type": "code",
   "execution_count": 20,
   "id": "aa4f01ed",
   "metadata": {},
   "outputs": [
    {
     "name": "stdout",
     "output_type": "stream",
     "text": [
      "Given Array  [[54.6  67.89 34.6   5.  ]\n",
      " [45.     nan 98.     nan]]\n",
      "[[54.6  67.89 34.6   5.  ]]\n"
     ]
    }
   ],
   "source": [
    "list1 = [54.6,67.89,34.6,5]\n",
    "list2 = [45,np.nan,98,np.nan]\n",
    "ar = np.array([list1,list2])\n",
    "print(\"Given Array \" , ar )\n",
    "print(ar[~np.isnan(ar).any(axis=1)])"
   ]
  },
  {
   "cell_type": "markdown",
   "id": "009b18e4",
   "metadata": {},
   "source": [
    "# number of occurrences of a sequence"
   ]
  },
  {
   "cell_type": "code",
   "execution_count": 26,
   "id": "aa3486f3",
   "metadata": {},
   "outputs": [
    {
     "name": "stdout",
     "output_type": "stream",
     "text": [
      "5\n"
     ]
    }
   ],
   "source": [
    "arr = np.array([[2, 8, 9, 4], \n",
    "                   [9, 4, 9, 4],\n",
    "                   [4, 5, 9, 7],\n",
    "                   [2, 9, 4, 3]])\n",
    "op = repr(arr).count(\"9\")\n",
    "print(op)"
   ]
  },
  {
   "cell_type": "markdown",
   "id": "bd6adcf6",
   "metadata": {},
   "source": [
    "# most frequent value in a NumPy array"
   ]
  },
  {
   "cell_type": "code",
   "execution_count": 42,
   "id": "84867cbf",
   "metadata": {},
   "outputs": [
    {
     "name": "stdout",
     "output_type": "stream",
     "text": [
      "[0 3 2 0 1 4 2 0 2 2]\n",
      "5\n",
      "5\n",
      "-------------\n",
      "Count Of Each Unique Elements [0 0 0 0 0 0 0 0 0 0 0 2 0 0 0 0 0 0 0 0 0 1 0 0 0 0 0 0 0 0 0 2 0 0 0 0 0\n",
      " 0 0 0 0 1 0 0 0 0 0 0 0 0 0 2]\n",
      "Maximum Count  2\n",
      "11\n",
      "31\n",
      "51\n"
     ]
    }
   ],
   "source": [
    "x = np.array([1,2,5,9,5,6,8,9,5,1,1,4,2,6,8,5])\n",
    "print(np.bincount(x))\n",
    "print(np.bincount(x).argmax())\n",
    "print(np.bincount(x).argmax(axis=0))\n",
    "print(\"-------------\")\n",
    "x1 = np.array([11,21,31,31,41,51,51,11])\n",
    "a = np.bincount(x1)\n",
    "print(\"Count Of Each Unique Elements\" , a)\n",
    "maxi = max(a)\n",
    "print(\"Maximum Count \",maxi)\n",
    "for i in range(len(a)):\n",
    "    if a[i] == maxi:\n",
    "        print(i)"
   ]
  },
  {
   "cell_type": "markdown",
   "id": "a70aa8d0",
   "metadata": {},
   "source": [
    "# Combining a one and a two-dimensional NumPy Array"
   ]
  },
  {
   "cell_type": "code",
   "execution_count": 6,
   "id": "df16864c",
   "metadata": {},
   "outputs": [
    {
     "name": "stdout",
     "output_type": "stream",
     "text": [
      "One Dim [0 1 2 3 4]\n",
      "Two Dim [[0 1 2 3 4]\n",
      " [5 6 7 8 9]]\n",
      "0 : 0\n",
      "1 : 1\n",
      "2 : 2\n",
      "3 : 3\n",
      "4 : 4\n",
      "0 : 5\n",
      "1 : 6\n",
      "2 : 7\n",
      "3 : 8\n",
      "4 : 9\n",
      "[[ 0  1  4  9 16]\n",
      " [ 0  6 14 24 36]]\n"
     ]
    }
   ],
   "source": [
    "n1d = np.arange(5)\n",
    "print(\"One Dim\",n1d)\n",
    "n2d = np.arange(10).reshape(2,5)\n",
    "print(\"Two Dim\",n2d)\n",
    "for i , j in np.nditer([n1d,n2d]):\n",
    "    print(i , \":\",j)\n",
    "listd = []     \n",
    "for i , j in np.nditer([n1d,n2d]):\n",
    "    listd.append(i*j) \n",
    "print(np.array(listd).reshape(2,5))"
   ]
  },
  {
   "cell_type": "markdown",
   "id": "410d42ac",
   "metadata": {},
   "source": [
    "# build an array of all combinations of two NumPy arrays"
   ]
  },
  {
   "cell_type": "code",
   "execution_count": 16,
   "id": "4f6792a8",
   "metadata": {},
   "outputs": [
    {
     "name": "stdout",
     "output_type": "stream",
     "text": [
      "[[[1 2]\n",
      "  [1 2]\n",
      "  [1 2]]\n",
      "\n",
      " [[3 3]\n",
      "  [4 4]\n",
      "  [5 5]]]\n",
      "==============\n",
      "[[1 3]\n",
      " [1 4]\n",
      " [1 5]\n",
      " [2 3]\n",
      " [2 4]\n",
      " [2 5]]\n"
     ]
    }
   ],
   "source": [
    "arr1 = np.array([1,2])\n",
    "arr2 = np.array([3,4,5])\n",
    "comb_arr = np.array(np.meshgrid(arr1,arr2))\n",
    "print(comb_arr)\n",
    "print(\"==============\")\n",
    "print(comb_arr.T.reshape(-1,2))"
   ]
  },
  {
   "cell_type": "markdown",
   "id": "5e01be66",
   "metadata": {},
   "source": [
    "# Add a border around a NumPy array \n"
   ]
  },
  {
   "cell_type": "code",
   "execution_count": 25,
   "id": "780a2006",
   "metadata": {},
   "outputs": [
    {
     "name": "stdout",
     "output_type": "stream",
     "text": [
      "Given [[0 0]\n",
      " [0 0]]\n",
      "================\n",
      "[[5 5 5 5]\n",
      " [5 0 0 5]\n",
      " [5 0 0 5]\n",
      " [5 5 5 5]]\n",
      "================\n",
      "[[5 5 5 5 5 5 5 5]\n",
      " [5 5 5 5 5 5 5 5]\n",
      " [5 5 5 5 5 5 5 5]\n",
      " [5 5 5 0 0 5 5 5]\n",
      " [5 5 5 0 0 5 5 5]\n",
      " [5 5 5 5 5 5 5 5]\n",
      " [5 5 5 5 5 5 5 5]\n",
      " [5 5 5 5 5 5 5 5]]\n"
     ]
    }
   ],
   "source": [
    "arr1 = np.zeros((2,2),dtype=int)\n",
    "print(\"Given\" , arr1)\n",
    "op = np.pad(arr1,pad_width=1,constant_values=5)\n",
    "print(\"================\")\n",
    "print(op)\n",
    "op = np.pad(arr1,pad_width=3,constant_values=5)\n",
    "print(\"================\")\n",
    "print(op)"
   ]
  },
  {
   "cell_type": "markdown",
   "id": "f6ffb4a9",
   "metadata": {},
   "source": [
    "# Compare two NumPy arrays"
   ]
  },
  {
   "cell_type": "code",
   "execution_count": 28,
   "id": "f1ce2e7e",
   "metadata": {},
   "outputs": [
    {
     "name": "stdout",
     "output_type": "stream",
     "text": [
      "[[ True  True]\n",
      " [ True  True]]\n",
      "True\n",
      "==========\n",
      "False\n"
     ]
    }
   ],
   "source": [
    "aa1 = np.array([[1,2],[3,4]])\n",
    "aa2 = np.array([[1,2],[3,4]])\n",
    "aa3 = np.array([[1,2],[5,4]])\n",
    "compare = aa1 == aa2\n",
    "print(compare)\n",
    "print(compare.all())\n",
    "print(\"==========\")\n",
    "compare = aa1 == aa3\n",
    "print(compare.all())"
   ]
  },
  {
   "cell_type": "code",
   "execution_count": 39,
   "id": "283567bc",
   "metadata": {},
   "outputs": [
    {
     "name": "stdout",
     "output_type": "stream",
     "text": [
      "Given Aray : [0 1 2 3 4] [3 4 5 6 7]\n",
      "a > b [False False False False False]\n",
      "a >= b [False False False False False]\n",
      "a < b [ True  True  True  True  True]\n",
      "a <= b [ True  True  True  True  True]\n"
     ]
    }
   ],
   "source": [
    "a = np.arange(5,dtype=int)\n",
    "b = np.arange(3,8,dtype=int)\n",
    "print(\"Given Aray :\" ,a , b)\n",
    "print(\"a > b\" , np.greater(a , b))\n",
    "print(\"a >= b\" , np.greater_equal(a , b))\n",
    "print(\"a < b\" , np.less(a , b))\n",
    "print(\"a <= b\" , np.less_equal(a , b))"
   ]
  },
  {
   "cell_type": "markdown",
   "id": "8a8fb075",
   "metadata": {},
   "source": [
    "# check whether specified values are present "
   ]
  },
  {
   "cell_type": "code",
   "execution_count": 41,
   "id": "cf5cda54",
   "metadata": {},
   "outputs": [
    {
     "name": "stdout",
     "output_type": "stream",
     "text": [
      "False\n",
      "True\n"
     ]
    }
   ],
   "source": [
    "a = np.array([1,2,3,4])\n",
    "print(6 in a)\n",
    "print(2 in a)"
   ]
  },
  {
   "cell_type": "markdown",
   "id": "8c0d4fc2",
   "metadata": {},
   "source": [
    "# 2D diagonals of a 3D NumPy array"
   ]
  },
  {
   "cell_type": "code",
   "execution_count": 46,
   "id": "4accb3d5",
   "metadata": {},
   "outputs": [
    {
     "name": "stdout",
     "output_type": "stream",
     "text": [
      "[[[ 0  1  2  3]\n",
      "  [ 4  5  6  7]\n",
      "  [ 8  9 10 11]\n",
      "  [12 13 14 15]]\n",
      "\n",
      " [[16 17 18 19]\n",
      "  [20 21 22 23]\n",
      "  [24 25 26 27]\n",
      "  [28 29 30 31]]\n",
      "\n",
      " [[32 33 34 35]\n",
      "  [36 37 38 39]\n",
      "  [40 41 42 43]\n",
      "  [44 45 46 47]]]\n",
      "[[ 0  5 10 15]\n",
      " [16 21 26 31]\n",
      " [32 37 42 47]]\n"
     ]
    }
   ],
   "source": [
    "arr = np.arange(3 * 4 * 4).reshape(3 , 4 , 4)\n",
    "print(arr)\n",
    "dia = np.diagonal(arr , axis1=1,axis2=2)\n",
    "print(dia)"
   ]
  },
  {
   "cell_type": "markdown",
   "id": "060f0e92",
   "metadata": {},
   "source": [
    "# Flatten a Matrix"
   ]
  },
  {
   "cell_type": "code",
   "execution_count": 63,
   "id": "9ffdb1c4",
   "metadata": {},
   "outputs": [
    {
     "name": "stdout",
     "output_type": "stream",
     "text": [
      "[[5 6]\n",
      " [7 8]]\n",
      "[5 6 7 8]\n",
      "[5 7 6 8]\n",
      "[5 6 7 8]\n",
      "[5 6 7 8]\n"
     ]
    }
   ],
   "source": [
    "ord = np.arange(5,9).reshape(2,2)\n",
    "print(ord)\n",
    "f1 = ord.flatten()\n",
    "print(f1)\n",
    "f2 = ord.flatten(order = 'F')\n",
    "print(f2)\n",
    "f3 = ord.flatten(order='A')\n",
    "print(f3)\n",
    "f3 = ord.flatten(order='K')\n",
    "print(f3)"
   ]
  },
  {
   "cell_type": "code",
   "execution_count": 65,
   "id": "75274486",
   "metadata": {},
   "outputs": [
    {
     "name": "stdout",
     "output_type": "stream",
     "text": [
      "[[0 1]\n",
      " [2 3]\n",
      " [4 5]]\n",
      "[0 2 4 1 3 5]\n",
      "[0 1 2 3 4 5]\n"
     ]
    }
   ],
   "source": [
    "ord = np.arange(6).reshape(3,2)\n",
    "print(ord)\n",
    "f2 = ord.flatten(order = 'F')\n",
    "print(f2)\n",
    "f3 = ord.flatten(order='A')\n",
    "print(f3)"
   ]
  },
  {
   "cell_type": "code",
   "execution_count": 66,
   "id": "f2fab393",
   "metadata": {},
   "outputs": [
    {
     "name": "stdout",
     "output_type": "stream",
     "text": [
      "[[0 1]\n",
      " [2 3]\n",
      " [4 5]]\n",
      "[0 1 2 3 4 5]\n"
     ]
    }
   ],
   "source": [
    "ord = np.arange(6).reshape(3,2)\n",
    "print(ord)\n",
    "print(ord.ravel())"
   ]
  },
  {
   "cell_type": "markdown",
   "id": "448de887",
   "metadata": {},
   "source": [
    "# Move axis"
   ]
  },
  {
   "cell_type": "code",
   "execution_count": 79,
   "id": "e7fe1d8d",
   "metadata": {},
   "outputs": [
    {
     "name": "stdout",
     "output_type": "stream",
     "text": [
      "[1 2 3 4 5]\n",
      "(5,)\n"
     ]
    }
   ],
   "source": [
    "arr = np.array([1,2,3,4,5])\n",
    "print(arr)\n",
    "print(np.moveaxis(arr,0,-1).shape)"
   ]
  },
  {
   "cell_type": "markdown",
   "id": "f9d2f2e5",
   "metadata": {},
   "source": [
    "# Trim Zeros"
   ]
  },
  {
   "cell_type": "code",
   "execution_count": 97,
   "id": "077169cb",
   "metadata": {},
   "outputs": [
    {
     "name": "stdout",
     "output_type": "stream",
     "text": [
      "[[ 0 21  5 65  2]\n",
      " [ 0  6  9  0  0]]\n",
      "[  3 560   0   7   8   9]\n",
      "[21  5 65  2  0  6  9]\n"
     ]
    }
   ],
   "source": [
    "arr = np.array((0,3,560,0,7,8,9,0,0))\n",
    "arr1 = np.array([[0,21,5,65,2],[0,6,9,0,0]])\n",
    "print(arr1)\n",
    "re = np.trim_zeros(arr)\n",
    "print(re)\n",
    "re = np.trim_zeros(arr1.flatten())\n",
    "print(re)"
   ]
  },
  {
   "cell_type": "markdown",
   "id": "94c3a093",
   "metadata": {},
   "source": [
    "# Change Type of Element"
   ]
  },
  {
   "cell_type": "code",
   "execution_count": 104,
   "id": "03a4c24d",
   "metadata": {},
   "outputs": [
    {
     "name": "stdout",
     "output_type": "stream",
     "text": [
      "int32\n",
      "[52 36 63]\n",
      "float64\n",
      "[52. 36. 63.]\n"
     ]
    }
   ],
   "source": [
    "arr = np.array([52,36,63])\n",
    "print(arr.dtype)\n",
    "print(arr)\n",
    "arr = arr.astype(\"float64\")\n",
    "print(arr.dtype)\n",
    "print(arr)"
   ]
  },
  {
   "cell_type": "markdown",
   "id": "d1de5b0b",
   "metadata": {},
   "source": [
    "# Reverse a numpy array"
   ]
  },
  {
   "cell_type": "code",
   "execution_count": 106,
   "id": "4bd35dea",
   "metadata": {},
   "outputs": [
    {
     "name": "stdout",
     "output_type": "stream",
     "text": [
      "[0 1 2 3 4]\n",
      "[4 3 2 1 0]\n"
     ]
    }
   ],
   "source": [
    "arr = np.arange(5)\n",
    "print(arr)\n",
    "print(arr[::-1])"
   ]
  },
  {
   "cell_type": "markdown",
   "id": "ed396935",
   "metadata": {},
   "source": [
    "# Change the array to readable"
   ]
  },
  {
   "cell_type": "code",
   "execution_count": 108,
   "id": "36eeb095",
   "metadata": {},
   "outputs": [
    {
     "name": "stdout",
     "output_type": "stream",
     "text": [
      "[0 1 2 3 4]\n",
      "[0 2 2 3 4]\n"
     ]
    },
    {
     "ename": "AttributeError",
     "evalue": "'numpy.flagsobj' object has no attribute 'writable'",
     "output_type": "error",
     "traceback": [
      "\u001b[1;31m---------------------------------------------------------------------------\u001b[0m",
      "\u001b[1;31mAttributeError\u001b[0m                            Traceback (most recent call last)",
      "\u001b[1;32m~\\AppData\\Local\\Temp/ipykernel_30124/254463145.py\u001b[0m in \u001b[0;36m<module>\u001b[1;34m\u001b[0m\n\u001b[0;32m      3\u001b[0m \u001b[0marr\u001b[0m\u001b[1;33m[\u001b[0m\u001b[1;36m1\u001b[0m\u001b[1;33m]\u001b[0m\u001b[1;33m=\u001b[0m\u001b[1;36m2\u001b[0m\u001b[1;33m\u001b[0m\u001b[1;33m\u001b[0m\u001b[0m\n\u001b[0;32m      4\u001b[0m \u001b[0mprint\u001b[0m\u001b[1;33m(\u001b[0m\u001b[0marr\u001b[0m\u001b[1;33m)\u001b[0m\u001b[1;33m\u001b[0m\u001b[1;33m\u001b[0m\u001b[0m\n\u001b[1;32m----> 5\u001b[1;33m \u001b[0marr\u001b[0m\u001b[1;33m.\u001b[0m\u001b[0mflags\u001b[0m\u001b[1;33m.\u001b[0m\u001b[0mwritable\u001b[0m \u001b[1;33m=\u001b[0m\u001b[1;32mFalse\u001b[0m\u001b[1;33m\u001b[0m\u001b[1;33m\u001b[0m\u001b[0m\n\u001b[0m\u001b[0;32m      6\u001b[0m \u001b[0marr\u001b[0m\u001b[1;33m[\u001b[0m\u001b[1;36m1\u001b[0m\u001b[1;33m]\u001b[0m\u001b[1;33m=\u001b[0m\u001b[1;36m3\u001b[0m\u001b[1;33m\u001b[0m\u001b[1;33m\u001b[0m\u001b[0m\n",
      "\u001b[1;31mAttributeError\u001b[0m: 'numpy.flagsobj' object has no attribute 'writable'"
     ]
    }
   ],
   "source": [
    "arr = np.arange(5)\n",
    "print(arr)\n",
    "arr[1]=2\n",
    "print(arr)\n",
    "arr.flags.writable =False\n",
    "arr[1]=3"
   ]
  },
  {
   "cell_type": "code",
   "execution_count": null,
   "id": "3c96f53e",
   "metadata": {},
   "outputs": [],
   "source": []
  }
 ],
 "metadata": {
  "kernelspec": {
   "display_name": "Python 3 (ipykernel)",
   "language": "python",
   "name": "python3"
  },
  "language_info": {
   "codemirror_mode": {
    "name": "ipython",
    "version": 3
   },
   "file_extension": ".py",
   "mimetype": "text/x-python",
   "name": "python",
   "nbconvert_exporter": "python",
   "pygments_lexer": "ipython3",
   "version": "3.9.7"
  }
 },
 "nbformat": 4,
 "nbformat_minor": 5
}
