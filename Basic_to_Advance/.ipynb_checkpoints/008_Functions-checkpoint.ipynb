{
 "cells": [
  {
   "cell_type": "markdown",
   "id": "f03d07ac",
   "metadata": {},
   "source": [
    "# Functions in Python\n",
    "\n",
    "    - Why FUnctions\n",
    "    - Function Definition\n",
    "    - Positional and Keyword Arguments in Functions\n",
    "   "
   ]
  },
  {
   "cell_type": "code",
   "execution_count": 1,
   "id": "5e9b54a3",
   "metadata": {},
   "outputs": [
    {
     "name": "stdout",
     "output_type": "stream",
     "text": [
      "Even number\n"
     ]
    }
   ],
   "source": [
    "num = 24\n",
    "if num % 2 == 0:\n",
    "    print(\"Even number\")\n",
    "else:\n",
    "    print(\"odd number\")"
   ]
  },
  {
   "cell_type": "markdown",
   "id": "34f84608",
   "metadata": {},
   "source": [
    "# Creating a Function"
   ]
  },
  {
   "cell_type": "code",
   "execution_count": 3,
   "id": "a5be43c6",
   "metadata": {},
   "outputs": [],
   "source": [
    "def even_odd(num):\n",
    "    if num % 2 == 0:\n",
    "        print(\"Even number\")\n",
    "    else:\n",
    "        print(\"odd number\")"
   ]
  },
  {
   "cell_type": "code",
   "execution_count": 5,
   "id": "891eeb9e",
   "metadata": {},
   "outputs": [
    {
     "name": "stdout",
     "output_type": "stream",
     "text": [
      "Even number\n",
      "odd number\n"
     ]
    }
   ],
   "source": [
    "## Calling the function\n",
    "even_odd(26)\n",
    "even_odd(13)"
   ]
  },
  {
   "cell_type": "markdown",
   "id": "c65a293b",
   "metadata": {},
   "source": [
    "## Print vs return"
   ]
  },
  {
   "cell_type": "code",
   "execution_count": 6,
   "id": "a169519d",
   "metadata": {},
   "outputs": [],
   "source": [
    "def hello():\n",
    "    print(\"hello welcome\")"
   ]
  },
  {
   "cell_type": "code",
   "execution_count": 7,
   "id": "89e0019d",
   "metadata": {},
   "outputs": [
    {
     "name": "stdout",
     "output_type": "stream",
     "text": [
      "hello welcome\n"
     ]
    }
   ],
   "source": [
    "hello()"
   ]
  },
  {
   "cell_type": "code",
   "execution_count": 8,
   "id": "712859a5",
   "metadata": {},
   "outputs": [
    {
     "name": "stdout",
     "output_type": "stream",
     "text": [
      "hello welcome\n",
      "None\n"
     ]
    }
   ],
   "source": [
    "a = hello()\n",
    "print(a) ## It gives None, it means it does not return anything"
   ]
  },
  {
   "cell_type": "code",
   "execution_count": 9,
   "id": "b0f007a1",
   "metadata": {},
   "outputs": [],
   "source": [
    "def hello():\n",
    "   return \"hello welcome\""
   ]
  },
  {
   "cell_type": "code",
   "execution_count": 11,
   "id": "4357159c",
   "metadata": {},
   "outputs": [
    {
     "name": "stdout",
     "output_type": "stream",
     "text": [
      "hello welcome\n"
     ]
    }
   ],
   "source": [
    "a = hello()\n",
    "print(a) ## Now it is returning value"
   ]
  },
  {
   "cell_type": "code",
   "execution_count": 12,
   "id": "deba9442",
   "metadata": {},
   "outputs": [],
   "source": [
    "def add_num(num1,num2):\n",
    "    return num1+num2"
   ]
  },
  {
   "cell_type": "code",
   "execution_count": 13,
   "id": "5d7cce7f",
   "metadata": {},
   "outputs": [
    {
     "name": "stdout",
     "output_type": "stream",
     "text": [
      "55\n"
     ]
    }
   ],
   "source": [
    "res = add_num(10,45)\n",
    "print(res)"
   ]
  },
  {
   "cell_type": "markdown",
   "id": "aabae61b",
   "metadata": {},
   "source": [
    "## Positional and Keyword Arguments"
   ]
  },
  {
   "cell_type": "code",
   "execution_count": 18,
   "id": "951b56a6",
   "metadata": {},
   "outputs": [],
   "source": [
    "## Way 1:\n",
    "## Positional Arguments ===> name\n",
    "## Keyword argumnets ===. age\n",
    "def hello(name,age = 30):\n",
    "    print(\"My name is {} and age is {}\".format(name,age))"
   ]
  },
  {
   "cell_type": "code",
   "execution_count": 19,
   "id": "64a2b0fe",
   "metadata": {},
   "outputs": [
    {
     "name": "stdout",
     "output_type": "stream",
     "text": [
      "My name is Suresh and age is 30\n",
      "My name is Cat and age is 12\n"
     ]
    },
    {
     "ename": "TypeError",
     "evalue": "hello() missing 1 required positional argument: 'name'",
     "output_type": "error",
     "traceback": [
      "\u001b[1;31m---------------------------------------------------------------------------\u001b[0m",
      "\u001b[1;31mTypeError\u001b[0m                                 Traceback (most recent call last)",
      "\u001b[1;32m~\\AppData\\Local\\Temp/ipykernel_5596/3696397451.py\u001b[0m in \u001b[0;36m<module>\u001b[1;34m\u001b[0m\n\u001b[0;32m      1\u001b[0m \u001b[0mhello\u001b[0m\u001b[1;33m(\u001b[0m\u001b[1;34m\"Suresh\"\u001b[0m\u001b[1;33m)\u001b[0m\u001b[1;33m\u001b[0m\u001b[1;33m\u001b[0m\u001b[0m\n\u001b[0;32m      2\u001b[0m \u001b[0mhello\u001b[0m\u001b[1;33m(\u001b[0m\u001b[1;34m\"Cat\"\u001b[0m\u001b[1;33m,\u001b[0m\u001b[1;36m12\u001b[0m\u001b[1;33m)\u001b[0m\u001b[1;33m\u001b[0m\u001b[1;33m\u001b[0m\u001b[0m\n\u001b[1;32m----> 3\u001b[1;33m \u001b[0mhello\u001b[0m\u001b[1;33m(\u001b[0m\u001b[1;33m)\u001b[0m \u001b[1;31m## it gives error because we are missing the value for positional arguments\u001b[0m\u001b[1;33m\u001b[0m\u001b[1;33m\u001b[0m\u001b[0m\n\u001b[0m",
      "\u001b[1;31mTypeError\u001b[0m: hello() missing 1 required positional argument: 'name'"
     ]
    }
   ],
   "source": [
    "hello(\"Suresh\")\n",
    "hello(\"Cat\",12)\n",
    "hello() ## it gives error because we are missing the value for positional arguments"
   ]
  },
  {
   "cell_type": "code",
   "execution_count": 20,
   "id": "1fc92f49",
   "metadata": {},
   "outputs": [],
   "source": [
    "## Way 2 : Positional Argumnets ===> *args ===> accept N no of values under this\n",
    "## Keyword Arguments ====> **kwargs ===> accept N no of key:value under this\n",
    "\n",
    "def hello(*args,**kwarg):\n",
    "    print(args)\n",
    "    print(kwarg)"
   ]
  },
  {
   "cell_type": "code",
   "execution_count": 21,
   "id": "755498ad",
   "metadata": {},
   "outputs": [
    {
     "name": "stdout",
     "output_type": "stream",
     "text": [
      "('Suresh', 'sooper')\n",
      "{'a': 2, 'b': 45, 'c': 'rt'}\n"
     ]
    }
   ],
   "source": [
    "hello(\"Suresh\",\"sooper\",a=2,b=45,c=\"rt\")"
   ]
  },
  {
   "cell_type": "code",
   "execution_count": 22,
   "id": "15520284",
   "metadata": {},
   "outputs": [
    {
     "name": "stdout",
     "output_type": "stream",
     "text": [
      "('one', 'two', 'three')\n",
      "{'one': 1, 'two': 2, 'data': '45'}\n"
     ]
    }
   ],
   "source": [
    "## Way 3 : can pass the data structure directly into the *args and **kwarg\n",
    "lst = [\"one\",\"two\",\"three\"]\n",
    "sample_dict = {\"one\":1,\"two\":2,\"data\":\"45\"}\n",
    "hello(*lst,**sample_dict)"
   ]
  },
  {
   "cell_type": "markdown",
   "id": "17ac5188",
   "metadata": {},
   "source": [
    "## Return MUltiple value"
   ]
  },
  {
   "cell_type": "code",
   "execution_count": 27,
   "id": "85bf778b",
   "metadata": {},
   "outputs": [],
   "source": [
    "\n",
    "def evenoddnum(lst):\n",
    "    even_sum=0\n",
    "    odd_sum=0\n",
    "    for i in lst:\n",
    "        if i%2 == 0:\n",
    "            even_sum = even_sum + i\n",
    "        else:\n",
    "            odd_sum = odd_sum + i\n",
    "    return even_sum,odd_sum"
   ]
  },
  {
   "cell_type": "code",
   "execution_count": 28,
   "id": "e4089a06",
   "metadata": {},
   "outputs": [
    {
     "data": {
      "text/plain": [
       "(12, 16)"
      ]
     },
     "execution_count": 28,
     "metadata": {},
     "output_type": "execute_result"
    }
   ],
   "source": [
    "lst = [1,2,3,4,5,6,7]\n",
    "evenoddnum(lst)"
   ]
  },
  {
   "cell_type": "markdown",
   "id": "4dd44606",
   "metadata": {},
   "source": [
    "# Lambda Function\n",
    "\n",
    "\n",
    "It is called as Anonymous Function.\n",
    "\n",
    "A function with no name"
   ]
  },
  {
   "cell_type": "code",
   "execution_count": 29,
   "id": "2d69d482",
   "metadata": {},
   "outputs": [
    {
     "name": "stdout",
     "output_type": "stream",
     "text": [
      "11\n"
     ]
    }
   ],
   "source": [
    "## sample Function\n",
    "def add(a,b):\n",
    "    return a+b\n",
    "print(add(1,10))"
   ]
  },
  {
   "cell_type": "markdown",
   "id": "c707f038",
   "metadata": {},
   "source": [
    "#### The above method can be converted to lambda function becuase it has only one line of expression"
   ]
  },
  {
   "cell_type": "code",
   "execution_count": 30,
   "id": "3b39880f",
   "metadata": {},
   "outputs": [],
   "source": [
    "myvar = lambda a,b:a+b"
   ]
  },
  {
   "cell_type": "code",
   "execution_count": 31,
   "id": "429bfa51",
   "metadata": {},
   "outputs": [
    {
     "data": {
      "text/plain": [
       "11"
      ]
     },
     "execution_count": 31,
     "metadata": {},
     "output_type": "execute_result"
    }
   ],
   "source": [
    "myvar(1,10)"
   ]
  },
  {
   "cell_type": "code",
   "execution_count": 32,
   "id": "1f77c3d2",
   "metadata": {},
   "outputs": [],
   "source": [
    "def evennum(num):\n",
    "    if num%2 == 0:\n",
    "        return True"
   ]
  },
  {
   "cell_type": "code",
   "execution_count": 34,
   "id": "e32054d8",
   "metadata": {},
   "outputs": [
    {
     "name": "stdout",
     "output_type": "stream",
     "text": [
      "True\n",
      "None\n"
     ]
    }
   ],
   "source": [
    "print(evennum(12))\n",
    "print(evennum(11))"
   ]
  },
  {
   "cell_type": "markdown",
   "id": "ba248886",
   "metadata": {},
   "source": [
    "#### The above function can be converted to lambda"
   ]
  },
  {
   "cell_type": "code",
   "execution_count": 36,
   "id": "0c92b8c8",
   "metadata": {},
   "outputs": [],
   "source": [
    "myvar1 = lambda n:n%2 == 0"
   ]
  },
  {
   "cell_type": "code",
   "execution_count": 37,
   "id": "2de966df",
   "metadata": {},
   "outputs": [
    {
     "data": {
      "text/plain": [
       "True"
      ]
     },
     "execution_count": 37,
     "metadata": {},
     "output_type": "execute_result"
    }
   ],
   "source": [
    "myvar1(12)"
   ]
  },
  {
   "cell_type": "markdown",
   "id": "d7cc74dd",
   "metadata": {},
   "source": [
    "# Map Function"
   ]
  },
  {
   "cell_type": "code",
   "execution_count": 2,
   "id": "c3aaa67a",
   "metadata": {},
   "outputs": [],
   "source": [
    "def even_odd(num):\n",
    "    if num%2 == 0:\n",
    "        return \"The {} is even\".format(num)\n",
    "    else:\n",
    "        return \"The {} is odd\".format(num)"
   ]
  },
  {
   "cell_type": "code",
   "execution_count": 3,
   "id": "5510948c",
   "metadata": {},
   "outputs": [
    {
     "data": {
      "text/plain": [
       "'The 24 is even'"
      ]
     },
     "execution_count": 3,
     "metadata": {},
     "output_type": "execute_result"
    }
   ],
   "source": [
    "even_odd(24)"
   ]
  },
  {
   "cell_type": "markdown",
   "id": "fc929348",
   "metadata": {},
   "source": [
    "#### In above we are passing one value and finding even or odd, But in case if we have list of values, in that we need to find even or odd, we should iterate and call the above function, To overcome this problem we can use MAP functions"
   ]
  },
  {
   "cell_type": "code",
   "execution_count": 16,
   "id": "f95e57f6",
   "metadata": {},
   "outputs": [
    {
     "name": "stdout",
     "output_type": "stream",
     "text": [
      "<map object at 0x000002387CAA6580>\n"
     ]
    },
    {
     "data": {
      "text/plain": [
       "['The 1 is odd',\n",
       " 'The 3 is odd',\n",
       " 'The 5 is odd',\n",
       " 'The 56 is even',\n",
       " 'The 78 is even',\n",
       " 'The 43 is odd',\n",
       " 'The 683 is odd',\n",
       " 'The 3687 is odd',\n",
       " 'The 64 is even',\n",
       " 'The 8 is even',\n",
       " 'The 7 is odd',\n",
       " 'The 3 is odd']"
      ]
     },
     "execution_count": 16,
     "metadata": {},
     "output_type": "execute_result"
    }
   ],
   "source": [
    "lst = [1,3,5,56,78,43,683,3687,64,8,7,3]\n",
    "v = map(even_odd,lst)\n",
    "print(v)\n",
    "## map object is created but it is memory is not initialize(lazy loading), to get the result need to convert to List as below\n",
    "list(v)"
   ]
  },
  {
   "cell_type": "markdown",
   "id": "3d1b7e9b",
   "metadata": {},
   "source": [
    "# Filter Function"
   ]
  },
  {
   "cell_type": "code",
   "execution_count": 8,
   "id": "c3284562",
   "metadata": {},
   "outputs": [],
   "source": [
    "def get_even(num):\n",
    "    if num%2 == 0:\n",
    "        return True"
   ]
  },
  {
   "cell_type": "code",
   "execution_count": 11,
   "id": "f73c2cfd",
   "metadata": {},
   "outputs": [
    {
     "data": {
      "text/plain": [
       "True"
      ]
     },
     "execution_count": 11,
     "metadata": {},
     "output_type": "execute_result"
    }
   ],
   "source": [
    "get_even(2)\n"
   ]
  },
  {
   "cell_type": "code",
   "execution_count": 14,
   "id": "ff9f9e1b",
   "metadata": {},
   "outputs": [],
   "source": [
    "get_even(3)"
   ]
  },
  {
   "cell_type": "markdown",
   "id": "ba07a9f1",
   "metadata": {},
   "source": [
    "#### In above we are passing one value and finding even , But in case if we have list of values, in that we need to find even , we should iterate and call the above function, To overcome this problem we can use FILTER functions"
   ]
  },
  {
   "cell_type": "code",
   "execution_count": 17,
   "id": "59d620c6",
   "metadata": {},
   "outputs": [
    {
     "name": "stdout",
     "output_type": "stream",
     "text": [
      "<filter object at 0x000002387C08F820>\n"
     ]
    },
    {
     "data": {
      "text/plain": [
       "[56, 78, 64, 8]"
      ]
     },
     "execution_count": 17,
     "metadata": {},
     "output_type": "execute_result"
    }
   ],
   "source": [
    "lst = [1,3,5,56,78,43,683,3687,64,8,7,3]\n",
    "v = filter(get_even,lst)\n",
    "print(v)\n",
    "## filter object is created but it is memory is not initialize(lazy loading), to get the result need to convert to List as below\n",
    "list(v)"
   ]
  },
  {
   "cell_type": "code",
   "execution_count": 19,
   "id": "987bbe3e",
   "metadata": {},
   "outputs": [
    {
     "name": "stdout",
     "output_type": "stream",
     "text": [
      "<filter object at 0x000002387C9322E0>\n"
     ]
    },
    {
     "data": {
      "text/plain": [
       "[56, 78, 64, 8]"
      ]
     },
     "execution_count": 19,
     "metadata": {},
     "output_type": "execute_result"
    }
   ],
   "source": [
    "## If we noted get_even method is single expression, so we can try convert to lambda and use in filter function\n",
    "v = filter(lambda num:num%2 ==0 , lst)\n",
    "print(v)\n",
    "list(v)"
   ]
  },
  {
   "cell_type": "code",
   "execution_count": null,
   "id": "62cc66b9",
   "metadata": {},
   "outputs": [],
   "source": []
  },
  {
   "cell_type": "code",
   "execution_count": null,
   "id": "f31c9234",
   "metadata": {},
   "outputs": [],
   "source": []
  },
  {
   "cell_type": "code",
   "execution_count": null,
   "id": "167091c9",
   "metadata": {},
   "outputs": [],
   "source": []
  }
 ],
 "metadata": {
  "kernelspec": {
   "display_name": "Python 3 (ipykernel)",
   "language": "python",
   "name": "python3"
  },
  "language_info": {
   "codemirror_mode": {
    "name": "ipython",
    "version": 3
   },
   "file_extension": ".py",
   "mimetype": "text/x-python",
   "name": "python",
   "nbconvert_exporter": "python",
   "pygments_lexer": "ipython3",
   "version": "3.9.7"
  }
 },
 "nbformat": 4,
 "nbformat_minor": 5
}
