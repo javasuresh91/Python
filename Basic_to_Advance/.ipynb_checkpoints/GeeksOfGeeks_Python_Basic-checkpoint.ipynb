{
 "cells": [
  {
   "cell_type": "markdown",
   "id": "5b0f23b5",
   "metadata": {},
   "source": [
    "### Print"
   ]
  },
  {
   "cell_type": "code",
   "execution_count": 3,
   "id": "8752e470",
   "metadata": {
    "scrolled": true
   },
   "outputs": [
    {
     "name": "stdout",
     "output_type": "stream",
     "text": [
      "Hello\n",
      "hello Everyone\n",
      "hello~Everyone\n",
      "helo Evryone^^"
     ]
    }
   ],
   "source": [
    "print(\"Hello\")\n",
    "print(\"hello\",\"Everyone\")\n",
    "print(\"hello\",\"Everyone\",sep=\"~\")\n",
    "print(\"helo\",\"Evryone\",end=\"^^\")"
   ]
  },
  {
   "cell_type": "markdown",
   "id": "083baac2",
   "metadata": {},
   "source": [
    "### Variables"
   ]
  },
  {
   "cell_type": "code",
   "execution_count": 6,
   "id": "46503b3d",
   "metadata": {},
   "outputs": [
    {
     "ename": "SyntaxError",
     "evalue": "invalid decimal literal (2668128142.py, line 9)",
     "output_type": "error",
     "traceback": [
      "\u001b[1;36m  Cell \u001b[1;32mIn[6], line 9\u001b[1;36m\u001b[0m\n\u001b[1;33m    54Age=85 ## starts with number\u001b[0m\n\u001b[1;37m     ^\u001b[0m\n\u001b[1;31mSyntaxError\u001b[0m\u001b[1;31m:\u001b[0m invalid decimal literal\n"
     ]
    }
   ],
   "source": [
    "## Valid Variable Name\n",
    "age = 45\n",
    "_Age = 45\n",
    "AGE=45\n",
    "Age=45\n",
    "Age_87 = 87\n",
    "aGe = 8.65\n",
    "\n",
    "## Invalid Variable\n",
    "54Age=85 ## starts with number\n",
    "for=96 ## for is the python keyword"
   ]
  },
  {
   "cell_type": "code",
   "execution_count": 7,
   "id": "63b46a5c",
   "metadata": {},
   "outputs": [
    {
     "name": "stdout",
     "output_type": "stream",
     "text": [
      "100\n",
      "123\n"
     ]
    }
   ],
   "source": [
    "## RE-Declare\n",
    "a = 100\n",
    "print(a)\n",
    "a=123\n",
    "print(a)"
   ]
  },
  {
   "cell_type": "code",
   "execution_count": 10,
   "id": "5c1cc300",
   "metadata": {},
   "outputs": [
    {
     "name": "stdout",
     "output_type": "stream",
     "text": [
      "10\n",
      "10\n",
      "10\n",
      "Redeclare the one variable among multiple variable\n",
      "10\n",
      "15\n",
      "10\n"
     ]
    }
   ],
   "source": [
    "### assigning Single Value to multiple variables\n",
    "a = b =d = 10\n",
    "print(a)\n",
    "print(b)\n",
    "print(d)\n",
    "b = 15\n",
    "print(\"Redeclare the one variable among multiple variable\")\n",
    "print(a)\n",
    "print(b)\n",
    "print(d)"
   ]
  },
  {
   "cell_type": "code",
   "execution_count": 13,
   "id": "6a847e65",
   "metadata": {},
   "outputs": [
    {
     "name": "stdout",
     "output_type": "stream",
     "text": [
      "1\n",
      "20.5\n",
      "Hello\n"
     ]
    }
   ],
   "source": [
    "## Assigning the multiple values for multiple variable in a single line\n",
    "a,b,c = 1,20.5,\"Hello\"\n",
    "print(a)\n",
    "print(b)\n",
    "print(c)\n",
    "# d,e,f = 2.5,\"Welcome\" ## this gives error bcoz of not enough value"
   ]
  },
  {
   "cell_type": "code",
   "execution_count": 17,
   "id": "175d73c7",
   "metadata": {},
   "outputs": [
    {
     "name": "stdout",
     "output_type": "stream",
     "text": [
      "30\n",
      "Hello To everyone\n"
     ]
    }
   ],
   "source": [
    "## Using + Operator in a variable\n",
    "a = 10 \n",
    "b = 20\n",
    "print(a+b)\n",
    "\n",
    "a= \"Hello \"\n",
    "b=\"To everyone\"\n",
    "print(a+b)\n",
    "\n",
    "a = 50\n",
    "b = \" Helo\"\n",
    "# print(a+b) this gives unsupported operand error"
   ]
  },
  {
   "cell_type": "markdown",
   "id": "596688da",
   "metadata": {},
   "source": [
    "### Input"
   ]
  },
  {
   "cell_type": "code",
   "execution_count": 1,
   "id": "e5351199",
   "metadata": {},
   "outputs": [
    {
     "name": "stdout",
     "output_type": "stream",
     "text": [
      "Enter the value10\n",
      "10\n"
     ]
    }
   ],
   "source": [
    "val = input(\"Enter the value\")\n",
    "print(val)"
   ]
  },
  {
   "cell_type": "code",
   "execution_count": 2,
   "id": "d881cca4",
   "metadata": {},
   "outputs": [
    {
     "name": "stdout",
     "output_type": "stream",
     "text": [
      "Enter a number : 56\n",
      "Enter a name : sad\n",
      "<class 'str'>\n",
      "<class 'str'>\n"
     ]
    }
   ],
   "source": [
    "## Everything considered as string \n",
    "num = input(\"Enter a number : \")\n",
    "txt = input(\"Enter a name : \")\n",
    "print(type(num))\n",
    "print(type(txt))"
   ]
  },
  {
   "cell_type": "code",
   "execution_count": 3,
   "id": "90f4524f",
   "metadata": {},
   "outputs": [
    {
     "name": "stdout",
     "output_type": "stream",
     "text": [
      "Enter the number : 58\n",
      "<class 'str'>\n",
      "<class 'int'>\n"
     ]
    }
   ],
   "source": [
    "## TYpe cast the input data\n",
    "num = input(\"Enter the number : \")\n",
    "print(type(num))\n",
    "num = int(num)\n",
    "print(type(num))"
   ]
  },
  {
   "cell_type": "code",
   "execution_count": 4,
   "id": "68bca42e",
   "metadata": {},
   "outputs": [
    {
     "name": "stdout",
     "output_type": "stream",
     "text": [
      "Enter integer vsl1 2 5 3 6\n",
      "[1, 2, 5, 3, 6]\n"
     ]
    }
   ],
   "source": [
    "d = list(map(int , input(\"Enter integer vsl\").strip().split()))\n",
    "print(d)"
   ]
  },
  {
   "cell_type": "code",
   "execution_count": 8,
   "id": "5e86b688",
   "metadata": {},
   "outputs": [
    {
     "name": "stdout",
     "output_type": "stream",
     "text": [
      "Enter the value1 2 3\n",
      "Enter the value4 5 6\n",
      "Enter the value7 8 9\n",
      "Enter the value11 12 13\n",
      "Enter the value10 14 15\n",
      "[[1, 2, 3], [4, 5, 6], [7, 8, 9], [11, 12, 13], [10, 14, 15]]\n"
     ]
    }
   ],
   "source": [
    "a = [list(map(int, input(\"Enter the value\").split())) for b in range(5)]\n",
    "print(a)"
   ]
  },
  {
   "cell_type": "markdown",
   "id": "bd98c1f7",
   "metadata": {},
   "source": [
    "### Arithmetic Operators"
   ]
  },
  {
   "cell_type": "code",
   "execution_count": 11,
   "id": "ff973e81",
   "metadata": {},
   "outputs": [
    {
     "name": "stdout",
     "output_type": "stream",
     "text": [
      "113\n",
      "-23\n",
      "3060\n",
      "0.6617647058823529\n",
      "45\n",
      "26209029322954607950953164655370660912889373969471697508200165908652024861213991613340112962760031223297119140625\n",
      "0\n"
     ]
    }
   ],
   "source": [
    "## Addition\n",
    "a = 45\n",
    "b = 68\n",
    "print(a + b)\n",
    "print(a - b)\n",
    "print(a * b)\n",
    "print(a / b) ## find the quotient along with the decimal(remainder) ===>  FLOAT DIVISION\n",
    "print(a % b) ## find the reminder\n",
    "print(a ** b) ##find the power\n",
    "print(a // b) ## find the Quotient ==> FLOOR DIVISION\n",
    "\n"
   ]
  },
  {
   "cell_type": "markdown",
   "id": "0c90f457",
   "metadata": {},
   "source": [
    "### Type()"
   ]
  },
  {
   "cell_type": "code",
   "execution_count": 12,
   "id": "523984cf",
   "metadata": {},
   "outputs": [],
   "source": [
    "a = (\"shur\",\"sad\",\"qwe\",\"qwe\")\n",
    "b=[\"shur\",\"sad\",\"qwe\",\"qwe\"]\n",
    "c={\"SDas\":1,\"wew\":2,\"ddsf\":3}\n",
    "d = \"hello worl\"\n",
    "e = 25.36\n",
    "f = 12.32"
   ]
  },
  {
   "cell_type": "code",
   "execution_count": 14,
   "id": "c5ef67f0",
   "metadata": {},
   "outputs": [
    {
     "name": "stdout",
     "output_type": "stream",
     "text": [
      "<class 'tuple'>\n",
      "<class 'list'>\n",
      "<class 'dict'>\n",
      "<class 'str'>\n",
      "<class 'float'>\n",
      "<class 'float'>\n",
      "<class 'str'>\n"
     ]
    }
   ],
   "source": [
    "print(type(a))\n",
    "print(type(b))\n",
    "print(type(c))\n",
    "print(type(d))\n",
    "print(type(e))\n",
    "print(type(f))\n",
    "print(type(d.upper()))"
   ]
  },
  {
   "cell_type": "code",
   "execution_count": 15,
   "id": "78e706e0",
   "metadata": {},
   "outputs": [
    {
     "name": "stdout",
     "output_type": "stream",
     "text": [
      "<class 'type'>\n",
      "{'var1': 'GeeksforGeeks', 'b': 2009, '__module__': '__main__', '__dict__': <attribute '__dict__' of 'New' objects>, '__weakref__': <attribute '__weakref__' of 'New' objects>, '__doc__': None}\n",
      "<class 'type'>\n",
      "{'a': 'Geeks', 'b': 2018, '__module__': '__main__', '__doc__': None}\n"
     ]
    }
   ],
   "source": [
    "# New class(has no base) class with the\n",
    "# dynamic class initialization of type()\n",
    "new = type('New', (object, ),\n",
    "\t\tdict(var1='GeeksforGeeks', b=2009))\n",
    "\n",
    "# Print type() which returns class 'type'\n",
    "print(type(new))\n",
    "print(vars(new))\n",
    "\n",
    "\n",
    "# Base class, incorporated\n",
    "# in our new class\n",
    "class test:\n",
    "\ta = \"Geeksforgeeks\"\n",
    "\tb = 2009\n",
    "\n",
    "\n",
    "# Dynamically initialize Newer class\n",
    "# It will derive from the base class test\n",
    "newer = type('Newer', (test, ),\n",
    "\t\t\tdict(a='Geeks', b=2018))\n",
    "\n",
    "print(type(newer))\n",
    "print(vars(newer))\n"
   ]
  },
  {
   "cell_type": "markdown",
   "id": "22dd4eda",
   "metadata": {},
   "source": [
    "### Type Conversion"
   ]
  },
  {
   "cell_type": "code",
   "execution_count": 20,
   "id": "b8279b05",
   "metadata": {},
   "outputs": [
    {
     "name": "stdout",
     "output_type": "stream",
     "text": [
      "x is of type: <class 'int'>\n",
      "y is of type: <class 'float'>\n",
      "z is of type: <class 'float'>\n"
     ]
    }
   ],
   "source": [
    "\n",
    "## Implict Type Conversion\n",
    "x = 10\n",
    "y = 2.3\n",
    "print(\"x is of type:\",type(x))\n",
    "print(\"y is of type:\",type(y))\n",
    "z = x + y\n",
    "print(\"z is of type:\",type(z)) ##The reason for the float value not being converted into an integer \n",
    "## instead is due to type promotion that allows performing operations by converting data into a wider-sized data type without \n",
    "## any loss of information. This is a simple case of Implicit type conversion in python."
   ]
  },
  {
   "cell_type": "code",
   "execution_count": null,
   "id": "f0f0f65d",
   "metadata": {},
   "outputs": [],
   "source": [
    "## Explict Type Conversion\n"
   ]
  },
  {
   "cell_type": "code",
   "execution_count": null,
   "id": "a6ca6ada",
   "metadata": {},
   "outputs": [],
   "source": []
  },
  {
   "cell_type": "code",
   "execution_count": null,
   "id": "b55ef87c",
   "metadata": {},
   "outputs": [],
   "source": []
  },
  {
   "cell_type": "code",
   "execution_count": null,
   "id": "018f14f2",
   "metadata": {},
   "outputs": [],
   "source": []
  },
  {
   "cell_type": "code",
   "execution_count": null,
   "id": "b397f12a",
   "metadata": {},
   "outputs": [],
   "source": []
  },
  {
   "cell_type": "code",
   "execution_count": null,
   "id": "ae369690",
   "metadata": {},
   "outputs": [],
   "source": []
  },
  {
   "cell_type": "code",
   "execution_count": null,
   "id": "b4a4f0e0",
   "metadata": {},
   "outputs": [],
   "source": []
  },
  {
   "cell_type": "code",
   "execution_count": null,
   "id": "3c7733e7",
   "metadata": {},
   "outputs": [],
   "source": []
  },
  {
   "cell_type": "code",
   "execution_count": null,
   "id": "3b2b4140",
   "metadata": {},
   "outputs": [],
   "source": []
  },
  {
   "cell_type": "code",
   "execution_count": null,
   "id": "1aef2860",
   "metadata": {},
   "outputs": [],
   "source": []
  },
  {
   "cell_type": "code",
   "execution_count": null,
   "id": "a1cf3526",
   "metadata": {},
   "outputs": [],
   "source": []
  }
 ],
 "metadata": {
  "kernelspec": {
   "display_name": "Python 3 (ipykernel)",
   "language": "python",
   "name": "python3"
  },
  "language_info": {
   "codemirror_mode": {
    "name": "ipython",
    "version": 3
   },
   "file_extension": ".py",
   "mimetype": "text/x-python",
   "name": "python",
   "nbconvert_exporter": "python",
   "pygments_lexer": "ipython3",
   "version": "3.10.4"
  }
 },
 "nbformat": 4,
 "nbformat_minor": 5
}
