{
 "cells": [
  {
   "cell_type": "markdown",
   "id": "fa599b4e",
   "metadata": {},
   "source": [
    "# Class Methods and Class Variables"
   ]
  },
  {
   "cell_type": "code",
   "execution_count": 2,
   "id": "36960bff",
   "metadata": {},
   "outputs": [],
   "source": [
    "class car:\n",
    "    base_price = 2000 ## Class variable\n",
    "    def __init__(self,windows,door,power):\n",
    "        self.windows = windows ## My instance variable are getting created using self keyword\n",
    "        self.door = door\n",
    "        self.power = power\n",
    "    def what_base_price(self):\n",
    "        print(\"The base price is {} for this car\".format(self.base_price))"
   ]
  },
  {
   "cell_type": "code",
   "execution_count": 4,
   "id": "e9b59bb7",
   "metadata": {},
   "outputs": [],
   "source": [
    "c = car(4,2,1000)"
   ]
  },
  {
   "cell_type": "code",
   "execution_count": 5,
   "id": "b8125f67",
   "metadata": {},
   "outputs": [
    {
     "name": "stdout",
     "output_type": "stream",
     "text": [
      "2000\n",
      "4\n"
     ]
    }
   ],
   "source": [
    "print(c.base_price) ## accessing through the instance variable\n",
    "print(c.windows) ## accessing through the instance variable"
   ]
  },
  {
   "cell_type": "code",
   "execution_count": 7,
   "id": "185c8108",
   "metadata": {},
   "outputs": [
    {
     "name": "stdout",
     "output_type": "stream",
     "text": [
      "2000\n"
     ]
    }
   ],
   "source": [
    "print(car.base_price) ## accessing through the Class name"
   ]
  },
  {
   "cell_type": "markdown",
   "id": "7ad2989b",
   "metadata": {},
   "source": [
    "## Update the class variable in dynamic way"
   ]
  },
  {
   "cell_type": "code",
   "execution_count": 10,
   "id": "8b5c0f2e",
   "metadata": {},
   "outputs": [],
   "source": [
    "class car:\n",
    "    base_price = 2000 ## Class variable\n",
    "    def __init__(self,windows,door,power):\n",
    "        self.windows = windows ## My instance variable are getting created using self keyword\n",
    "        self.door = door\n",
    "        self.power = power\n",
    "    def what_base_price(self):\n",
    "        print(\"The base price is {} for this car\".format(self.base_price))\n",
    "    \n",
    "    @classmethod ## This decorator will be useful for changing the class variables\n",
    "    def changebaseproce(cls,changerate): ## syntax, the parameter should be cls itself along with our parameter variables\n",
    "        cls.base_price = cls.base_price + changerate        "
   ]
  },
  {
   "cell_type": "code",
   "execution_count": 11,
   "id": "67dace99",
   "metadata": {},
   "outputs": [
    {
     "data": {
      "text/plain": [
       "2000"
      ]
     },
     "execution_count": 11,
     "metadata": {},
     "output_type": "execute_result"
    }
   ],
   "source": [
    "c = car(4,5,52)\n",
    "c.base_price"
   ]
  },
  {
   "cell_type": "code",
   "execution_count": 12,
   "id": "304d0b69",
   "metadata": {},
   "outputs": [],
   "source": [
    "car.changebaseproce(10) ## changing the class variable value on the fly"
   ]
  },
  {
   "cell_type": "code",
   "execution_count": 13,
   "id": "af90c259",
   "metadata": {},
   "outputs": [
    {
     "data": {
      "text/plain": [
       "2010"
      ]
     },
     "execution_count": 13,
     "metadata": {},
     "output_type": "execute_result"
    }
   ],
   "source": [
    "c = car(4,5,52)\n",
    "c.base_price"
   ]
  },
  {
   "cell_type": "code",
   "execution_count": null,
   "id": "2b9279a8",
   "metadata": {},
   "outputs": [],
   "source": []
  },
  {
   "cell_type": "code",
   "execution_count": null,
   "id": "6170cf42",
   "metadata": {},
   "outputs": [],
   "source": []
  }
 ],
 "metadata": {
  "kernelspec": {
   "display_name": "Python 3 (ipykernel)",
   "language": "python",
   "name": "python3"
  },
  "language_info": {
   "codemirror_mode": {
    "name": "ipython",
    "version": 3
   },
   "file_extension": ".py",
   "mimetype": "text/x-python",
   "name": "python",
   "nbconvert_exporter": "python",
   "pygments_lexer": "ipython3",
   "version": "3.9.7"
  }
 },
 "nbformat": 4,
 "nbformat_minor": 5
}
