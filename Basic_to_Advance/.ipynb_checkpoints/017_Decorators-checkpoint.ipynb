{
 "cells": [
  {
   "cell_type": "markdown",
   "id": "bcd5f12e",
   "metadata": {},
   "source": [
    "# Python Decorator\n",
    "\n",
    "1. Function Copy\n",
    "2. Closures\n",
    "3. Decorator"
   ]
  },
  {
   "cell_type": "markdown",
   "id": "fb206aed",
   "metadata": {},
   "source": [
    "## Function Copy"
   ]
  },
  {
   "cell_type": "code",
   "execution_count": 4,
   "id": "536652b3",
   "metadata": {},
   "outputs": [],
   "source": [
    "def welcome():\n",
    "    print(\"Welcome to \")"
   ]
  },
  {
   "cell_type": "code",
   "execution_count": 2,
   "id": "9f961796",
   "metadata": {},
   "outputs": [
    {
     "name": "stdout",
     "output_type": "stream",
     "text": [
      "Welcome to krish Naik youtube channel\n"
     ]
    }
   ],
   "source": [
    "wel=welcome()"
   ]
  },
  {
   "cell_type": "code",
   "execution_count": 3,
   "id": "67a8d652",
   "metadata": {},
   "outputs": [],
   "source": [
    "wel ## it wont print anything"
   ]
  },
  {
   "cell_type": "code",
   "execution_count": 5,
   "id": "aa4f7996",
   "metadata": {},
   "outputs": [],
   "source": [
    "def welcome():\n",
    "    return \"Welcome to\""
   ]
  },
  {
   "cell_type": "code",
   "execution_count": 6,
   "id": "eb8b0134",
   "metadata": {},
   "outputs": [],
   "source": [
    "wel=welcome()"
   ]
  },
  {
   "cell_type": "code",
   "execution_count": 7,
   "id": "ae169647",
   "metadata": {},
   "outputs": [
    {
     "data": {
      "text/plain": [
       "'Welcome to'"
      ]
     },
     "execution_count": 7,
     "metadata": {},
     "output_type": "execute_result"
    }
   ],
   "source": [
    "wel ##result will print"
   ]
  },
  {
   "cell_type": "code",
   "execution_count": 8,
   "id": "93b5d4f3",
   "metadata": {},
   "outputs": [
    {
     "data": {
      "text/plain": [
       "'Welcome to'"
      ]
     },
     "execution_count": 8,
     "metadata": {},
     "output_type": "execute_result"
    }
   ],
   "source": [
    "del welcome ## Will delete the method from the memory\n",
    "wel ## but the copy is still exist"
   ]
  },
  {
   "cell_type": "code",
   "execution_count": 10,
   "id": "e1a202f9",
   "metadata": {},
   "outputs": [
    {
     "ename": "NameError",
     "evalue": "name 'welcome' is not defined",
     "output_type": "error",
     "traceback": [
      "\u001b[1;31m---------------------------------------------------------------------------\u001b[0m",
      "\u001b[1;31mNameError\u001b[0m                                 Traceback (most recent call last)",
      "\u001b[1;32m~\\AppData\\Local\\Temp/ipykernel_36948/2099372708.py\u001b[0m in \u001b[0;36m<module>\u001b[1;34m\u001b[0m\n\u001b[1;32m----> 1\u001b[1;33m \u001b[0mwelcome\u001b[0m\u001b[1;33m(\u001b[0m\u001b[1;33m)\u001b[0m \u001b[1;31m## it gives error\u001b[0m\u001b[1;33m\u001b[0m\u001b[1;33m\u001b[0m\u001b[0m\n\u001b[0m",
      "\u001b[1;31mNameError\u001b[0m: name 'welcome' is not defined"
     ]
    }
   ],
   "source": [
    "welcome() ## it gives error"
   ]
  },
  {
   "cell_type": "markdown",
   "id": "c8fd9a62",
   "metadata": {},
   "source": [
    "## Closures \n",
    "\n",
    "Writing a function inside a function it is called as Closures\n",
    "Main function needs to return the sub function in the return of main functions"
   ]
  },
  {
   "cell_type": "code",
   "execution_count": 14,
   "id": "ca53a667",
   "metadata": {},
   "outputs": [],
   "source": [
    "def main_wel(msg):\n",
    "    def sub_main_wel():\n",
    "        print(\"Welcome\",msg)\n",
    "    return sub_main_wel()    "
   ]
  },
  {
   "cell_type": "code",
   "execution_count": 15,
   "id": "32830b22",
   "metadata": {},
   "outputs": [
    {
     "name": "stdout",
     "output_type": "stream",
     "text": [
      "Welcome Hai\n"
     ]
    }
   ],
   "source": [
    "main_wel(\"Hai\")"
   ]
  },
  {
   "cell_type": "markdown",
   "id": "3cb40d36",
   "metadata": {},
   "source": [
    "## Decorators\n",
    "\n",
    "1. Having the Nested function along with the FUnction itself as a parameter"
   ]
  },
  {
   "cell_type": "code",
   "execution_count": 20,
   "id": "ca7a1274",
   "metadata": {},
   "outputs": [],
   "source": [
    "## Closures and initial decorators\n",
    "def main_wel(msg,func):\n",
    "    def sub_main_wel():\n",
    "        func(\"Welcome\",msg)\n",
    "    return sub_main_wel()    "
   ]
  },
  {
   "cell_type": "code",
   "execution_count": 21,
   "id": "66417611",
   "metadata": {},
   "outputs": [
    {
     "name": "stdout",
     "output_type": "stream",
     "text": [
      "Welcome Hai\n"
     ]
    }
   ],
   "source": [
    "main_wel(\"Hai\",print) ## We can pass the inbuild functions as parameter"
   ]
  },
  {
   "cell_type": "code",
   "execution_count": 22,
   "id": "b895cb87",
   "metadata": {},
   "outputs": [],
   "source": [
    "## Decorators\n",
    "def name():\n",
    "    print(\"My Learning\")"
   ]
  },
  {
   "cell_type": "code",
   "execution_count": 23,
   "id": "76ee3ccc",
   "metadata": {},
   "outputs": [],
   "source": [
    "def show(func):\n",
    "    func()"
   ]
  },
  {
   "cell_type": "code",
   "execution_count": 25,
   "id": "33c5cca9",
   "metadata": {},
   "outputs": [
    {
     "name": "stdout",
     "output_type": "stream",
     "text": [
      "My Learning\n"
     ]
    }
   ],
   "source": [
    "show(name)"
   ]
  },
  {
   "cell_type": "code",
   "execution_count": 27,
   "id": "a41a2c8b",
   "metadata": {},
   "outputs": [
    {
     "name": "stdout",
     "output_type": "stream",
     "text": [
      "Decarotors Using annotation \n"
     ]
    }
   ],
   "source": [
    "@show\n",
    "def nameone():\n",
    "    print(\"Decarotors Using annotation \")"
   ]
  },
  {
   "cell_type": "code",
   "execution_count": null,
   "id": "b07cb444",
   "metadata": {},
   "outputs": [],
   "source": []
  },
  {
   "cell_type": "code",
   "execution_count": null,
   "id": "1fb61d7b",
   "metadata": {},
   "outputs": [],
   "source": []
  },
  {
   "cell_type": "code",
   "execution_count": null,
   "id": "7dd7a23a",
   "metadata": {},
   "outputs": [],
   "source": []
  }
 ],
 "metadata": {
  "kernelspec": {
   "display_name": "Python 3 (ipykernel)",
   "language": "python",
   "name": "python3"
  },
  "language_info": {
   "codemirror_mode": {
    "name": "ipython",
    "version": 3
   },
   "file_extension": ".py",
   "mimetype": "text/x-python",
   "name": "python",
   "nbconvert_exporter": "python",
   "pygments_lexer": "ipython3",
   "version": "3.9.7"
  }
 },
 "nbformat": 4,
 "nbformat_minor": 5
}
