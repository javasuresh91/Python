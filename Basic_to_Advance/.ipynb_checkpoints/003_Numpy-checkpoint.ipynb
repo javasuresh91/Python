{
 "cells": [
  {
   "cell_type": "markdown",
   "id": "59e9bd38",
   "metadata": {},
   "source": [
    "# Numpy\n",
    "General Purpose Array Processing Packaging,\n",
    "High-performace,\n",
    "Multidimentional array,\n",
    "Package for scientific computing,\n",
    "Array can store same data type value unlike List,\n",
    "\n"
   ]
  },
  {
   "cell_type": "code",
   "execution_count": 1,
   "id": "889dd94d",
   "metadata": {},
   "outputs": [],
   "source": [
    "## import Numpy\n",
    "import numpy as np"
   ]
  },
  {
   "cell_type": "code",
   "execution_count": 4,
   "id": "6f211ecc",
   "metadata": {},
   "outputs": [],
   "source": [
    "## Initialize List\n",
    "list1=[1,2,3,4,5]"
   ]
  },
  {
   "cell_type": "code",
   "execution_count": 5,
   "id": "efe54527",
   "metadata": {},
   "outputs": [
    {
     "data": {
      "text/plain": [
       "list"
      ]
     },
     "execution_count": 5,
     "metadata": {},
     "output_type": "execute_result"
    }
   ],
   "source": [
    "type(list1)"
   ]
  },
  {
   "cell_type": "code",
   "execution_count": 6,
   "id": "f99cc36b",
   "metadata": {},
   "outputs": [],
   "source": [
    "##Converting List to Array using Numpy\n",
    "arr1=np.array(list1)"
   ]
  },
  {
   "cell_type": "code",
   "execution_count": 7,
   "id": "ba54b2ce",
   "metadata": {},
   "outputs": [
    {
     "data": {
      "text/plain": [
       "numpy.ndarray"
      ]
     },
     "execution_count": 7,
     "metadata": {},
     "output_type": "execute_result"
    }
   ],
   "source": [
    "type(arr1)"
   ]
  },
  {
   "cell_type": "code",
   "execution_count": 8,
   "id": "f832b367",
   "metadata": {},
   "outputs": [
    {
     "name": "stdout",
     "output_type": "stream",
     "text": [
      "[1 2 3 4 5]\n"
     ]
    }
   ],
   "source": [
    "print(arr1)"
   ]
  },
  {
   "cell_type": "code",
   "execution_count": 9,
   "id": "5701baf3",
   "metadata": {},
   "outputs": [
    {
     "data": {
      "text/plain": [
       "array([1, 2, 3, 4, 5])"
      ]
     },
     "execution_count": 9,
     "metadata": {},
     "output_type": "execute_result"
    }
   ],
   "source": [
    "arr1"
   ]
  },
  {
   "cell_type": "code",
   "execution_count": 10,
   "id": "d4fcb178",
   "metadata": {},
   "outputs": [
    {
     "data": {
      "text/plain": [
       "(5,)"
      ]
     },
     "execution_count": 10,
     "metadata": {},
     "output_type": "execute_result"
    }
   ],
   "source": [
    "##Give how many rows and columns are in the array\n",
    "arr1.shape"
   ]
  },
  {
   "cell_type": "code",
   "execution_count": 12,
   "id": "d8b940b8",
   "metadata": {},
   "outputs": [],
   "source": [
    "## MUlti dimentional array\n",
    "li1=[1,2,3,4,5]\n",
    "li2=[6,7,8,9,10]\n",
    "li3=[3,5,7,9,1]\n",
    "arr1 = np.array([li1,li2,li3])"
   ]
  },
  {
   "cell_type": "code",
   "execution_count": 13,
   "id": "acead23f",
   "metadata": {},
   "outputs": [
    {
     "data": {
      "text/plain": [
       "array([[ 1,  2,  3,  4,  5],\n",
       "       [ 6,  7,  8,  9, 10],\n",
       "       [ 3,  5,  7,  9,  1]])"
      ]
     },
     "execution_count": 13,
     "metadata": {},
     "output_type": "execute_result"
    }
   ],
   "source": [
    "arr1"
   ]
  },
  {
   "cell_type": "code",
   "execution_count": 14,
   "id": "31a7b64f",
   "metadata": {},
   "outputs": [
    {
     "data": {
      "text/plain": [
       "(3, 5)"
      ]
     },
     "execution_count": 14,
     "metadata": {},
     "output_type": "execute_result"
    }
   ],
   "source": [
    "arr1.shape"
   ]
  },
  {
   "cell_type": "code",
   "execution_count": 19,
   "id": "5b0214cf",
   "metadata": {},
   "outputs": [
    {
     "data": {
      "text/plain": [
       "array([[ 1,  2,  3],\n",
       "       [ 4,  5,  6],\n",
       "       [ 7,  8,  9],\n",
       "       [10,  3,  5],\n",
       "       [ 7,  9,  1]])"
      ]
     },
     "execution_count": 19,
     "metadata": {},
     "output_type": "execute_result"
    }
   ],
   "source": [
    "## Convertin rows to columns and colums to row and object is immutable\n",
    "arr1.reshape(5,3)"
   ]
  },
  {
   "cell_type": "code",
   "execution_count": 18,
   "id": "db8c12a4",
   "metadata": {},
   "outputs": [
    {
     "data": {
      "text/plain": [
       "(3, 5)"
      ]
     },
     "execution_count": 18,
     "metadata": {},
     "output_type": "execute_result"
    }
   ],
   "source": [
    "arr1.shape"
   ]
  },
  {
   "cell_type": "markdown",
   "id": "557011c6",
   "metadata": {},
   "source": [
    "# Indexing"
   ]
  },
  {
   "cell_type": "code",
   "execution_count": 20,
   "id": "2197f812",
   "metadata": {},
   "outputs": [],
   "source": [
    "arr2= np.array([7,8,3,4,6])"
   ]
  },
  {
   "cell_type": "code",
   "execution_count": 21,
   "id": "8d74d626",
   "metadata": {},
   "outputs": [
    {
     "data": {
      "text/plain": [
       "6"
      ]
     },
     "execution_count": 21,
     "metadata": {},
     "output_type": "execute_result"
    }
   ],
   "source": [
    "## Accessing the elements\n",
    "arr2[4]"
   ]
  },
  {
   "cell_type": "code",
   "execution_count": 23,
   "id": "44688b7d",
   "metadata": {},
   "outputs": [
    {
     "data": {
      "text/plain": [
       "array([[ 1,  2,  3,  4,  5],\n",
       "       [ 6,  7,  8,  9, 10],\n",
       "       [ 3,  5,  7,  9,  1]])"
      ]
     },
     "execution_count": 23,
     "metadata": {},
     "output_type": "execute_result"
    }
   ],
   "source": [
    "## Row and column indexing\n",
    "arr1[:,:]"
   ]
  },
  {
   "cell_type": "code",
   "execution_count": 24,
   "id": "774e5bf2",
   "metadata": {},
   "outputs": [
    {
     "data": {
      "text/plain": [
       "array([8, 7])"
      ]
     },
     "execution_count": 24,
     "metadata": {},
     "output_type": "execute_result"
    }
   ],
   "source": [
    "arr1[1:,2]"
   ]
  },
  {
   "cell_type": "code",
   "execution_count": 25,
   "id": "e0b5f04c",
   "metadata": {},
   "outputs": [
    {
     "data": {
      "text/plain": [
       "array([[ 8,  9, 10],\n",
       "       [ 7,  9,  1]])"
      ]
     },
     "execution_count": 25,
     "metadata": {},
     "output_type": "execute_result"
    }
   ],
   "source": [
    "arr1[1:,2:]"
   ]
  },
  {
   "cell_type": "code",
   "execution_count": 27,
   "id": "5e07cd53",
   "metadata": {},
   "outputs": [
    {
     "data": {
      "text/plain": [
       "array([ 3,  4,  5,  6,  7,  8,  9, 10, 11, 12, 13, 14, 15, 16, 17, 18, 19,\n",
       "       20])"
      ]
     },
     "execution_count": 27,
     "metadata": {},
     "output_type": "execute_result"
    }
   ],
   "source": [
    "## Creating the List with range of values\n",
    "arr3= np.arange(3,21)\n",
    "arr3"
   ]
  },
  {
   "cell_type": "code",
   "execution_count": 28,
   "id": "c20e7946",
   "metadata": {},
   "outputs": [],
   "source": [
    "##Skipping the number in middle\n",
    "arr4=np.arange(3,21,step=2)"
   ]
  },
  {
   "cell_type": "code",
   "execution_count": 29,
   "id": "faf8fda6",
   "metadata": {},
   "outputs": [
    {
     "data": {
      "text/plain": [
       "array([ 3,  5,  7,  9, 11, 13, 15, 17, 19])"
      ]
     },
     "execution_count": 29,
     "metadata": {},
     "output_type": "execute_result"
    }
   ],
   "source": [
    "arr4"
   ]
  },
  {
   "cell_type": "code",
   "execution_count": 31,
   "id": "6f87439e",
   "metadata": {},
   "outputs": [
    {
     "data": {
      "text/plain": [
       "array([ 4.        ,  4.29166667,  4.58333333,  4.875     ,  5.16666667,\n",
       "        5.45833333,  5.75      ,  6.04166667,  6.33333333,  6.625     ,\n",
       "        6.91666667,  7.20833333,  7.5       ,  7.79166667,  8.08333333,\n",
       "        8.375     ,  8.66666667,  8.95833333,  9.25      ,  9.54166667,\n",
       "        9.83333333, 10.125     , 10.41666667, 10.70833333, 11.        ])"
      ]
     },
     "execution_count": 31,
     "metadata": {},
     "output_type": "execute_result"
    }
   ],
   "source": [
    "#Equal seperated values\n",
    "np.linspace(4,11,25)"
   ]
  },
  {
   "cell_type": "code",
   "execution_count": 32,
   "id": "ceea48ea",
   "metadata": {},
   "outputs": [],
   "source": [
    "## Copy\n",
    "arr3[8:] = 20"
   ]
  },
  {
   "cell_type": "code",
   "execution_count": 33,
   "id": "5e32a463",
   "metadata": {},
   "outputs": [
    {
     "data": {
      "text/plain": [
       "array([ 3,  4,  5,  6,  7,  8,  9, 10, 20, 20, 20, 20, 20, 20, 20, 20, 20,\n",
       "       20])"
      ]
     },
     "execution_count": 33,
     "metadata": {},
     "output_type": "execute_result"
    }
   ],
   "source": [
    "arr3"
   ]
  },
  {
   "cell_type": "code",
   "execution_count": 38,
   "id": "0a348cda",
   "metadata": {},
   "outputs": [
    {
     "name": "stdout",
     "output_type": "stream",
     "text": [
      "[ 3  4  5  6  7  8  9 10 66 66 66 66 66 66 66 66 66 66]\n",
      "[ 3  4  5  6  7  8  9 10 66 66 66 66 66 66 66 66 66 66]\n"
     ]
    }
   ],
   "source": [
    "#Copy functions and broadcast(reference type)\n",
    "arr5 = arr3\n",
    "arr5[8:]=66\n",
    "print(arr3)\n",
    "print(arr5)"
   ]
  },
  {
   "cell_type": "code",
   "execution_count": 40,
   "id": "a4666bdd",
   "metadata": {},
   "outputs": [],
   "source": [
    "#To overcome the above problem\n",
    "arr6 = arr5.copy()"
   ]
  },
  {
   "cell_type": "code",
   "execution_count": 41,
   "id": "095b62c1",
   "metadata": {},
   "outputs": [
    {
     "name": "stdout",
     "output_type": "stream",
     "text": [
      "[ 3  4  5  6  7  8  9 10 66 66 66 66 66 66 66 66 66 66]\n",
      "[ 3  4  5  6  7  8  9 10 66 66 66 66 66 66 66 66 66 66]\n"
     ]
    }
   ],
   "source": [
    "print(arr5)\n",
    "print(arr6)"
   ]
  },
  {
   "cell_type": "code",
   "execution_count": 42,
   "id": "99a0a448",
   "metadata": {},
   "outputs": [
    {
     "name": "stdout",
     "output_type": "stream",
     "text": [
      "[ 3  4  5  6  7  8  9 10 99 99 99 99 99 99 99 99 99 99]\n",
      "[ 3  4  5  6  7  8  9 10 66 66 66 66 66 66 66 66 66 66]\n"
     ]
    }
   ],
   "source": [
    "arr5[8:]=99\n",
    "print(arr5)\n",
    "print(arr6)"
   ]
  },
  {
   "cell_type": "code",
   "execution_count": 43,
   "id": "a44353bb",
   "metadata": {},
   "outputs": [
    {
     "name": "stdout",
     "output_type": "stream",
     "text": [
      "[False False False False False False False False False False False False\n",
      " False False False False False False]\n",
      "[  6   8  10  12  14  16  18  20 198 198 198 198 198 198 198 198 198 198]\n"
     ]
    }
   ],
   "source": [
    "## Some conditions are useful in exploratory data Analysis\n",
    "val=2\n",
    "print(arr5 < 2)\n",
    "print(arr5 * 2)"
   ]
  },
  {
   "cell_type": "code",
   "execution_count": 46,
   "id": "2dda2103",
   "metadata": {},
   "outputs": [
    {
     "data": {
      "text/plain": [
       "array([99, 99, 99, 99, 99, 99, 99, 99, 99, 99])"
      ]
     },
     "execution_count": 46,
     "metadata": {},
     "output_type": "execute_result"
    }
   ],
   "source": [
    "## To get condition based values from the array\n",
    "arr5[arr5 >40]"
   ]
  },
  {
   "cell_type": "markdown",
   "id": "e4787f17",
   "metadata": {},
   "source": [
    "# Generating Ones"
   ]
  },
  {
   "cell_type": "code",
   "execution_count": 49,
   "id": "55a12af3",
   "metadata": {},
   "outputs": [
    {
     "data": {
      "text/plain": [
       "array([1., 1., 1., 1., 1.])"
      ]
     },
     "execution_count": 49,
     "metadata": {},
     "output_type": "execute_result"
    }
   ],
   "source": [
    "np.ones(5)"
   ]
  },
  {
   "cell_type": "code",
   "execution_count": 50,
   "id": "147bddef",
   "metadata": {},
   "outputs": [
    {
     "data": {
      "text/plain": [
       "array([1, 1, 1, 1, 1])"
      ]
     },
     "execution_count": 50,
     "metadata": {},
     "output_type": "execute_result"
    }
   ],
   "source": [
    "np.ones(5,dtype=int)"
   ]
  },
  {
   "cell_type": "code",
   "execution_count": 52,
   "id": "03e3329e",
   "metadata": {},
   "outputs": [
    {
     "data": {
      "text/plain": [
       "array([[1, 1],\n",
       "       [1, 1],\n",
       "       [1, 1]])"
      ]
     },
     "execution_count": 52,
     "metadata": {},
     "output_type": "execute_result"
    }
   ],
   "source": [
    "np.ones((3,2),dtype=int)"
   ]
  },
  {
   "cell_type": "markdown",
   "id": "8b7b70d1",
   "metadata": {},
   "source": [
    "# Random Distribution"
   ]
  },
  {
   "cell_type": "code",
   "execution_count": 53,
   "id": "133974c9",
   "metadata": {},
   "outputs": [
    {
     "data": {
      "text/plain": [
       "array([[0.72678516, 0.26372828, 0.80084834],\n",
       "       [0.22502997, 0.16324401, 0.28386746],\n",
       "       [0.97908947, 0.19834355, 0.07705817]])"
      ]
     },
     "execution_count": 53,
     "metadata": {},
     "output_type": "execute_result"
    }
   ],
   "source": [
    "np.random.rand(3,3)"
   ]
  },
  {
   "cell_type": "code",
   "execution_count": 54,
   "id": "0803d37d",
   "metadata": {},
   "outputs": [
    {
     "data": {
      "text/plain": [
       "array([[ 1.55837954, -0.04322113,  2.21549948],\n",
       "       [ 0.70445672, -0.6180687 ,  1.21037398],\n",
       "       [-1.03981557,  0.20308025, -0.26716201]])"
      ]
     },
     "execution_count": 54,
     "metadata": {},
     "output_type": "execute_result"
    }
   ],
   "source": [
    "#Standard Distribution\n",
    "np.random.randn(3,3)"
   ]
  },
  {
   "cell_type": "code",
   "execution_count": 55,
   "id": "4b609cfc",
   "metadata": {},
   "outputs": [
    {
     "data": {
      "text/plain": [
       "array([ 4, 42, 28, 26, 27,  9, 19])"
      ]
     },
     "execution_count": 55,
     "metadata": {},
     "output_type": "execute_result"
    }
   ],
   "source": [
    "np.random.randint(0,50,7)"
   ]
  },
  {
   "cell_type": "code",
   "execution_count": 57,
   "id": "a1a2f422",
   "metadata": {},
   "outputs": [
    {
     "data": {
      "text/plain": [
       "array([[0.66838901, 0.93256021, 0.48539332, 0.16311708, 0.57695043]])"
      ]
     },
     "execution_count": 57,
     "metadata": {},
     "output_type": "execute_result"
    }
   ],
   "source": [
    "np.random.random_sample((1,5))"
   ]
  },
  {
   "cell_type": "code",
   "execution_count": null,
   "id": "ba882db2",
   "metadata": {},
   "outputs": [],
   "source": []
  },
  {
   "cell_type": "code",
   "execution_count": null,
   "id": "41fb3515",
   "metadata": {},
   "outputs": [],
   "source": []
  }
 ],
 "metadata": {
  "kernelspec": {
   "display_name": "Python 3 (ipykernel)",
   "language": "python",
   "name": "python3"
  },
  "language_info": {
   "codemirror_mode": {
    "name": "ipython",
    "version": 3
   },
   "file_extension": ".py",
   "mimetype": "text/x-python",
   "name": "python",
   "nbconvert_exporter": "python",
   "pygments_lexer": "ipython3",
   "version": "3.9.7"
  }
 },
 "nbformat": 4,
 "nbformat_minor": 5
}
