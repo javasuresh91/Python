{
 "cells": [
  {
   "cell_type": "markdown",
   "id": "e67943ad",
   "metadata": {},
   "source": [
    "# Eval Function -- Evaluating Expression Dynamically"
   ]
  },
  {
   "cell_type": "code",
   "execution_count": 3,
   "id": "01003267",
   "metadata": {},
   "outputs": [
    {
     "data": {
      "text/plain": [
       "25"
      ]
     },
     "execution_count": 3,
     "metadata": {},
     "output_type": "execute_result"
    }
   ],
   "source": [
    "5 * 5 ## This is a Python vaild Expression"
   ]
  },
  {
   "cell_type": "markdown",
   "id": "6aa6193b",
   "metadata": {},
   "source": [
    "To evaluate the above stmt like this, we can use the eval function as below"
   ]
  },
  {
   "cell_type": "code",
   "execution_count": 2,
   "id": "a5b9d127",
   "metadata": {},
   "outputs": [
    {
     "data": {
      "text/plain": [
       "25"
      ]
     },
     "execution_count": 2,
     "metadata": {},
     "output_type": "execute_result"
    }
   ],
   "source": [
    "eval(\"5*5\") ## Eval Function evaluate python expression which written as Strings"
   ]
  },
  {
   "cell_type": "code",
   "execution_count": 4,
   "id": "b6bd1e07",
   "metadata": {},
   "outputs": [
    {
     "data": {
      "text/plain": [
       "27.333333333333332"
      ]
     },
     "execution_count": 4,
     "metadata": {},
     "output_type": "execute_result"
    }
   ],
   "source": [
    "eval(\"5*5+7/3\")"
   ]
  },
  {
   "cell_type": "code",
   "execution_count": 5,
   "id": "f31c6762",
   "metadata": {},
   "outputs": [
    {
     "name": "stdout",
     "output_type": "stream",
     "text": [
      "Enter the Expression : 9/3\n"
     ]
    },
    {
     "data": {
      "text/plain": [
       "3.0"
      ]
     },
     "execution_count": 5,
     "metadata": {},
     "output_type": "execute_result"
    }
   ],
   "source": [
    "eval(input(\"Enter the Expression : \"))"
   ]
  },
  {
   "cell_type": "code",
   "execution_count": 7,
   "id": "52a963f0",
   "metadata": {},
   "outputs": [
    {
     "name": "stdout",
     "output_type": "stream",
     "text": [
      "Enter python collection: len([1,2,3,4,5])\n"
     ]
    },
    {
     "data": {
      "text/plain": [
       "5"
      ]
     },
     "execution_count": 7,
     "metadata": {},
     "output_type": "execute_result"
    }
   ],
   "source": [
    "eval(input(\"Enter python collection: \"))"
   ]
  },
  {
   "cell_type": "code",
   "execution_count": 9,
   "id": "9b358fc7",
   "metadata": {},
   "outputs": [
    {
     "name": "stdout",
     "output_type": "stream",
     "text": [
      "Enter python operation: sum([1,3,5,5])\n"
     ]
    },
    {
     "data": {
      "text/plain": [
       "14"
      ]
     },
     "execution_count": 9,
     "metadata": {},
     "output_type": "execute_result"
    }
   ],
   "source": [
    "eval(input(\"Enter python operation: \"))"
   ]
  },
  {
   "cell_type": "code",
   "execution_count": 10,
   "id": "29e92460",
   "metadata": {},
   "outputs": [],
   "source": [
    "def sum_even_num(num):\n",
    "    sum =0\n",
    "    for i in range(num+1):\n",
    "        sum = sum +i\n",
    "    return sum    "
   ]
  },
  {
   "cell_type": "code",
   "execution_count": 11,
   "id": "553e8930",
   "metadata": {},
   "outputs": [
    {
     "data": {
      "text/plain": [
       "55"
      ]
     },
     "execution_count": 11,
     "metadata": {},
     "output_type": "execute_result"
    }
   ],
   "source": [
    "sum_even_num(10)"
   ]
  },
  {
   "cell_type": "code",
   "execution_count": 12,
   "id": "2b241218",
   "metadata": {},
   "outputs": [
    {
     "data": {
      "text/plain": [
       "55"
      ]
     },
     "execution_count": 12,
     "metadata": {},
     "output_type": "execute_result"
    }
   ],
   "source": [
    "eval(\"sum_even_num(10)\")"
   ]
  },
  {
   "cell_type": "markdown",
   "id": "81c88e91",
   "metadata": {},
   "source": [
    "### Eval Works\n",
    "\n",
    "1. Parse python Expression\n",
    "2. Compile into a byte code using compile()\n",
    "3. Evaluate the python expression\n",
    "4. It will return the result"
   ]
  },
  {
   "cell_type": "code",
   "execution_count": 13,
   "id": "fb385a7b",
   "metadata": {},
   "outputs": [
    {
     "data": {
      "text/plain": [
       "<code object <module> at 0x000001BDC07B8BE0, file \"<string>\", line 1>"
      ]
     },
     "execution_count": 13,
     "metadata": {},
     "output_type": "execute_result"
    }
   ],
   "source": [
    "##2\n",
    "c = compile(\"5*5\",\"<string>\",\"eval\")\n",
    "c ## Will see a byte code format"
   ]
  },
  {
   "cell_type": "code",
   "execution_count": 15,
   "id": "71ef3b16",
   "metadata": {},
   "outputs": [
    {
     "data": {
      "text/plain": [
       "25"
      ]
     },
     "execution_count": 15,
     "metadata": {},
     "output_type": "execute_result"
    }
   ],
   "source": [
    "##3\n",
    "eval(c)\n",
    "\n",
    "##4 - Result as below"
   ]
  },
  {
   "cell_type": "markdown",
   "id": "0f8eebc1",
   "metadata": {},
   "source": [
    "## Globals - Used in the Eval Function"
   ]
  },
  {
   "cell_type": "code",
   "execution_count": 16,
   "id": "ba7ba6dc",
   "metadata": {},
   "outputs": [
    {
     "ename": "NameError",
     "evalue": "name 'x' is not defined",
     "output_type": "error",
     "traceback": [
      "\u001b[1;31m---------------------------------------------------------------------------\u001b[0m",
      "\u001b[1;31mNameError\u001b[0m                                 Traceback (most recent call last)",
      "\u001b[1;32m~\\AppData\\Local\\Temp/ipykernel_15560/1703287802.py\u001b[0m in \u001b[0;36m<module>\u001b[1;34m\u001b[0m\n\u001b[1;32m----> 1\u001b[1;33m \u001b[0meval\u001b[0m\u001b[1;33m(\u001b[0m\u001b[1;34m\"x+8\"\u001b[0m\u001b[1;33m)\u001b[0m \u001b[1;31m## this expression has variables it will give error while execution, here the globals comes in\u001b[0m\u001b[1;33m\u001b[0m\u001b[1;33m\u001b[0m\u001b[0m\n\u001b[0m",
      "\u001b[1;32m<string>\u001b[0m in \u001b[0;36m<module>\u001b[1;34m\u001b[0m\n",
      "\u001b[1;31mNameError\u001b[0m: name 'x' is not defined"
     ]
    }
   ],
   "source": [
    "eval(\"x+8\") ## this expression has variables it will give error while execution, here the globals comes in"
   ]
  },
  {
   "cell_type": "code",
   "execution_count": 17,
   "id": "5927bd36",
   "metadata": {},
   "outputs": [
    {
     "data": {
      "text/plain": [
       "18"
      ]
     },
     "execution_count": 17,
     "metadata": {},
     "output_type": "execute_result"
    }
   ],
   "source": [
    "eval(\"x+8\",{\"x\":10})"
   ]
  },
  {
   "cell_type": "code",
   "execution_count": 18,
   "id": "0b334e45",
   "metadata": {},
   "outputs": [
    {
     "data": {
      "text/plain": [
       "28"
      ]
     },
     "execution_count": 18,
     "metadata": {},
     "output_type": "execute_result"
    }
   ],
   "source": [
    "a = 20\n",
    "eval(\"x+8\",{\"x\":a})"
   ]
  },
  {
   "cell_type": "code",
   "execution_count": 19,
   "id": "c49b1270",
   "metadata": {},
   "outputs": [
    {
     "data": {
      "text/plain": [
       "40"
      ]
     },
     "execution_count": 19,
     "metadata": {},
     "output_type": "execute_result"
    }
   ],
   "source": [
    "a = 20\n",
    "b = 20\n",
    "eval(\"a+b\")"
   ]
  },
  {
   "cell_type": "markdown",
   "id": "04a2869e",
   "metadata": {},
   "source": [
    "## Locals - Used in the Eval Functions"
   ]
  },
  {
   "cell_type": "code",
   "execution_count": 20,
   "id": "1d179601",
   "metadata": {},
   "outputs": [
    {
     "data": {
      "text/plain": [
       "60"
      ]
     },
     "execution_count": 20,
     "metadata": {},
     "output_type": "execute_result"
    }
   ],
   "source": [
    "eval(\"a+b+c\",{},{\"a\":10,\"b\":20,\"c\":30})"
   ]
  },
  {
   "cell_type": "code",
   "execution_count": 23,
   "id": "99fcd22c",
   "metadata": {},
   "outputs": [
    {
     "data": {
      "text/plain": [
       "86"
      ]
     },
     "execution_count": 23,
     "metadata": {},
     "output_type": "execute_result"
    }
   ],
   "source": [
    "eval(\"a+b+c\",{\"c\":56},{\"a\":10,\"b\":20}) ## Both global and local can be used"
   ]
  },
  {
   "cell_type": "code",
   "execution_count": null,
   "id": "2ddd20dc",
   "metadata": {},
   "outputs": [],
   "source": []
  },
  {
   "cell_type": "code",
   "execution_count": null,
   "id": "6ee3e40b",
   "metadata": {},
   "outputs": [],
   "source": []
  },
  {
   "cell_type": "code",
   "execution_count": null,
   "id": "afd99838",
   "metadata": {},
   "outputs": [],
   "source": []
  },
  {
   "cell_type": "code",
   "execution_count": null,
   "id": "29099309",
   "metadata": {},
   "outputs": [],
   "source": []
  }
 ],
 "metadata": {
  "kernelspec": {
   "display_name": "Python 3 (ipykernel)",
   "language": "python",
   "name": "python3"
  },
  "language_info": {
   "codemirror_mode": {
    "name": "ipython",
    "version": 3
   },
   "file_extension": ".py",
   "mimetype": "text/x-python",
   "name": "python",
   "nbconvert_exporter": "python",
   "pygments_lexer": "ipython3",
   "version": "3.9.7"
  }
 },
 "nbformat": 4,
 "nbformat_minor": 5
}
