{
 "cells": [
  {
   "cell_type": "markdown",
   "id": "cd1b2490",
   "metadata": {},
   "source": [
    "# Exception handling\n",
    "\n",
    "1. In Build Exception Handling\n",
    "2. Custom Exception handling"
   ]
  },
  {
   "cell_type": "markdown",
   "id": "67e58069",
   "metadata": {},
   "source": [
    "## Try Block ==> InBuild Exception Handling"
   ]
  },
  {
   "cell_type": "code",
   "execution_count": 2,
   "id": "207a0747",
   "metadata": {},
   "outputs": [
    {
     "name": "stdout",
     "output_type": "stream",
     "text": [
      "Hai\n",
      "Exception example occured\n"
     ]
    }
   ],
   "source": [
    "try:\n",
    "    ## Code block\n",
    "    print(\"Hai\") \n",
    "    a=b\n",
    "except:\n",
    "    print(\"Exception example occured\")"
   ]
  },
  {
   "cell_type": "code",
   "execution_count": 4,
   "id": "f8157b7a",
   "metadata": {},
   "outputs": [
    {
     "name": "stdout",
     "output_type": "stream",
     "text": [
      "Hai\n",
      "Exception example occured ===> name 'b' is not defined\n"
     ]
    }
   ],
   "source": [
    "try:\n",
    "    ## Code block\n",
    "    print(\"Hai\") \n",
    "    a=b\n",
    "except Exception as ex: ## Generic Exception at High Level\n",
    "    print(\"Exception example occured ===>\",ex)"
   ]
  },
  {
   "cell_type": "code",
   "execution_count": 7,
   "id": "8e33499e",
   "metadata": {},
   "outputs": [
    {
     "name": "stdout",
     "output_type": "stream",
     "text": [
      "Hai\n",
      "The user error name 'b' is not defined\n"
     ]
    }
   ],
   "source": [
    "try:\n",
    "    ## Code block\n",
    "    print(\"Hai\") \n",
    "    a=b\n",
    "except NameError as ex1: ## Specific error handling\n",
    "    print(\"The user error\", ex1)\n",
    "except Exception as ex: \n",
    "    print(\"Exception example occured ===>\",ex)"
   ]
  },
  {
   "cell_type": "code",
   "execution_count": 9,
   "id": "bc301c8e",
   "metadata": {},
   "outputs": [
    {
     "name": "stdout",
     "output_type": "stream",
     "text": [
      "Enter 1st number : 15\n",
      "Enter 2nd number : 0\n",
      "Sero cant be your dividend\n"
     ]
    }
   ],
   "source": [
    "try:\n",
    "    a = int(input(\"Enter 1st number : \"))\n",
    "    b = int(input(\"Enter 2nd number : \"))\n",
    "    d=a/b\n",
    "    m=a*b\n",
    "    s=a+b\n",
    "    print(\"Division of {} by {} is {}\".format(a,b,d))\n",
    "    print(\"Multiply of {} and {} is {}\".format(a,b,m))\n",
    "    print(\"Sum of {} and {} is {}\".format(a,b,s))\n",
    "except NameError:\n",
    "    print(\"Typo eror\")\n",
    "except TypeError:\n",
    "    print(\"Typo eror 1\")\n",
    "except ZeroDivisionError:\n",
    "    print(\"zero cant be your dividend\")\n",
    "except Exception as ex:\n",
    "    print(ex)"
   ]
  },
  {
   "cell_type": "markdown",
   "id": "e9ffb6c2",
   "metadata": {},
   "source": [
    "## Else Block in the Try..Except Block\n",
    "\n",
    "1. The else will execute when Try is executed successfully"
   ]
  },
  {
   "cell_type": "code",
   "execution_count": 11,
   "id": "89227b3a",
   "metadata": {},
   "outputs": [
    {
     "name": "stdout",
     "output_type": "stream",
     "text": [
      "Enter 1st number : 25\n",
      "Enter 2nd number : 0\n",
      "Zero can be a divient\n"
     ]
    }
   ],
   "source": [
    "try :\n",
    "    a = int(input(\"Enter 1st number : \"))\n",
    "    b = int(input(\"Enter 2nd number : \"))\n",
    "    c=a/b\n",
    "except NameError:\n",
    "    print(\"Name Error\")\n",
    "except ZeroDivisionError:\n",
    "    print(\"Zero can be a divient\")\n",
    "except Exception as ex:\n",
    "    print(ex)\n",
    "else:\n",
    "    print(c)    "
   ]
  },
  {
   "cell_type": "markdown",
   "id": "e071862b",
   "metadata": {},
   "source": [
    "## Finally Block in try..Except..Else Block\n",
    "\n",
    "1. Finally Block will run If try block success or exception"
   ]
  },
  {
   "cell_type": "code",
   "execution_count": 13,
   "id": "dcd4d2da",
   "metadata": {},
   "outputs": [
    {
     "name": "stdout",
     "output_type": "stream",
     "text": [
      "Enter 1st number : 52\n",
      "Enter 2nd number : 2\n",
      "26.0\n",
      "Finally executed\n"
     ]
    }
   ],
   "source": [
    "try :\n",
    "    a = int(input(\"Enter 1st number : \"))\n",
    "    b = int(input(\"Enter 2nd number : \"))\n",
    "    c=a/b\n",
    "except NameError:\n",
    "    print(\"Name Error\")\n",
    "except ZeroDivisionError:\n",
    "    print(\"Zero can be a divient\")\n",
    "except Exception as ex:\n",
    "    print(ex)\n",
    "else:\n",
    "    print(c)\n",
    "finally:\n",
    "    print(\"Finally executed\")"
   ]
  },
  {
   "cell_type": "markdown",
   "id": "539bd374",
   "metadata": {},
   "source": [
    "## Custom Exception Handling"
   ]
  },
  {
   "cell_type": "code",
   "execution_count": 17,
   "id": "992e9e91",
   "metadata": {},
   "outputs": [],
   "source": [
    "class MyCustomException(Exception): ##Inheriting the base exception class\n",
    "    pass\n",
    "class dobException(MyCustomException): ##Inheriting the my custom exception class in another custom exception\n",
    "    pass"
   ]
  },
  {
   "cell_type": "code",
   "execution_count": 26,
   "id": "f86b41dc",
   "metadata": {},
   "outputs": [
    {
     "name": "stdout",
     "output_type": "stream",
     "text": [
      "Enter your DOY : 1994\n",
      "Good for exam 28\n"
     ]
    }
   ],
   "source": [
    "try:\n",
    "    year = int(input(\"Enter your DOY : \"))\n",
    "    age = 2022 - year\n",
    "    if age>18 and age<=30:\n",
    "        print(\"Good for exam\",age)\n",
    "    else:\n",
    "        raise dobException ## throw or raise the custom exception wherever we need\n",
    "except dobException as dex:\n",
    "    print(\"Year is not in valid range\")\n",
    "except Exception as ex:\n",
    "    print(ex)\n",
    "    "
   ]
  },
  {
   "cell_type": "code",
   "execution_count": null,
   "id": "39c9e9a1",
   "metadata": {},
   "outputs": [],
   "source": []
  },
  {
   "cell_type": "code",
   "execution_count": null,
   "id": "2060d878",
   "metadata": {},
   "outputs": [],
   "source": []
  },
  {
   "cell_type": "code",
   "execution_count": null,
   "id": "a7e9b6f6",
   "metadata": {},
   "outputs": [],
   "source": []
  },
  {
   "cell_type": "code",
   "execution_count": null,
   "id": "b7c8523e",
   "metadata": {},
   "outputs": [],
   "source": []
  },
  {
   "cell_type": "code",
   "execution_count": null,
   "id": "e52ba121",
   "metadata": {},
   "outputs": [],
   "source": []
  }
 ],
 "metadata": {
  "kernelspec": {
   "display_name": "Python 3 (ipykernel)",
   "language": "python",
   "name": "python3"
  },
  "language_info": {
   "codemirror_mode": {
    "name": "ipython",
    "version": 3
   },
   "file_extension": ".py",
   "mimetype": "text/x-python",
   "name": "python",
   "nbconvert_exporter": "python",
   "pygments_lexer": "ipython3",
   "version": "3.9.7"
  }
 },
 "nbformat": 4,
 "nbformat_minor": 5
}
