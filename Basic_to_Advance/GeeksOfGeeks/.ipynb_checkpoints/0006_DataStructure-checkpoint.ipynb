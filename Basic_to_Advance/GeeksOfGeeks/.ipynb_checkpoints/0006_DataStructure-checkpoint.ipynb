{
 "cells": [
  {
   "cell_type": "markdown",
   "id": "cb06bdc4",
   "metadata": {},
   "source": [
    "### List\n",
    "\n",
    "###### Python Lists are just like dynamically sized arrays, declared in other languages (vector in C++ and ArrayList in Java). In simple language, a list is a collection of things, enclosed in [ ] and separated by commas. \n",
    "\n",
    "###### A single list may contain DataTypes like Integers, Strings, as well as Objects\n",
    "\n",
    "###### Lists are mutable, and hence, they can be altered even after their creation."
   ]
  },
  {
   "cell_type": "markdown",
   "id": "4da37565",
   "metadata": {},
   "source": [
    "#### Creating List"
   ]
  },
  {
   "cell_type": "code",
   "execution_count": 4,
   "id": "56b533cf",
   "metadata": {},
   "outputs": [
    {
     "name": "stdout",
     "output_type": "stream",
     "text": [
      "['Sure', 'Hello', 'Everyone']\n"
     ]
    }
   ],
   "source": [
    "li = [\"Sure\",\"Hello\",\"Everyone\"]\n",
    "print(li)"
   ]
  },
  {
   "cell_type": "code",
   "execution_count": 5,
   "id": "2252448b",
   "metadata": {},
   "outputs": [
    {
     "name": "stdout",
     "output_type": "stream",
     "text": [
      "[12, 5, 'Ahr']\n"
     ]
    }
   ],
   "source": [
    "li1 = list([12,5,\"Ahr\"])\n",
    "print(li1)"
   ]
  },
  {
   "cell_type": "markdown",
   "id": "1df6b2fb",
   "metadata": {},
   "source": [
    "#### Accessing the List\n",
    "\n",
    "#### In order to access the list items refer to the index number. Use the index operator [ ] to access an item in a list. The index must be an integer. Nested lists are accessed using nested indexing. "
   ]
  },
  {
   "cell_type": "code",
   "execution_count": 6,
   "id": "a7581e24",
   "metadata": {},
   "outputs": [
    {
     "name": "stdout",
     "output_type": "stream",
     "text": [
      "12\n",
      "Everyone\n"
     ]
    }
   ],
   "source": [
    "print(li1[0])\n",
    "print(li[2])"
   ]
  },
  {
   "cell_type": "code",
   "execution_count": 7,
   "id": "82531cfa",
   "metadata": {},
   "outputs": [
    {
     "name": "stdout",
     "output_type": "stream",
     "text": [
      "['hello', ['come', 'to'], 'my', 'home']\n"
     ]
    }
   ],
   "source": [
    "l2 = [\"hello\",[\"come\" , \"to\"], \"my\",\"home\"]\n",
    "print(l2)"
   ]
  },
  {
   "cell_type": "code",
   "execution_count": 8,
   "id": "5fdf7ff0",
   "metadata": {},
   "outputs": [
    {
     "name": "stdout",
     "output_type": "stream",
     "text": [
      "hello\n",
      "come\n"
     ]
    }
   ],
   "source": [
    "print(l2[0])\n",
    "print(l2[1][0])"
   ]
  },
  {
   "cell_type": "code",
   "execution_count": 12,
   "id": "34df90b5",
   "metadata": {},
   "outputs": [
    {
     "name": "stdout",
     "output_type": "stream",
     "text": [
      "home\n",
      "come\n",
      "['hello', ['come', 'to']]\n"
     ]
    }
   ],
   "source": [
    "print(l2[-1])\n",
    "print(l2[-3][0])\n",
    "print(l2[0:2])"
   ]
  },
  {
   "cell_type": "markdown",
   "id": "00813ba7",
   "metadata": {},
   "source": [
    "#### Size"
   ]
  },
  {
   "cell_type": "code",
   "execution_count": 11,
   "id": "f0072465",
   "metadata": {},
   "outputs": [
    {
     "name": "stdout",
     "output_type": "stream",
     "text": [
      "4\n"
     ]
    }
   ],
   "source": [
    "print(len(l2))"
   ]
  },
  {
   "cell_type": "markdown",
   "id": "444c82e1",
   "metadata": {},
   "source": [
    "#### Adding items into the list"
   ]
  },
  {
   "cell_type": "code",
   "execution_count": 28,
   "id": "16e0c201",
   "metadata": {},
   "outputs": [
    {
     "name": "stdout",
     "output_type": "stream",
     "text": [
      "Empty List ====>  []\n",
      "Items are added  ['Hello', 'is']\n",
      "Dynamic Items are added  ['Hello', 'is', '', 'Hello ', 'Hello Hello ']\n",
      "Inserting to the position  ['Hello', 'is', 'Good', '', 'Hello ', 'Hello Hello ']\n"
     ]
    }
   ],
   "source": [
    "listt = []\n",
    "print(\"Empty List ====> \",listt)\n",
    "\n",
    "## append\n",
    "\n",
    "listt.append(\"Hello\")\n",
    "listt.append(\"is\")\n",
    "print(\"Items are added \" , listt)\n",
    "for i in range(3):\n",
    "    listt.append(\"Hello \" * i)\n",
    "print(\"Dynamic Items are added \" , listt)\n",
    "\n",
    "## insert\n",
    "listt.insert(2,\"Good\")\n",
    "print(\"Inserting to the position \", listt)"
   ]
  },
  {
   "cell_type": "markdown",
   "id": "42fc1508",
   "metadata": {},
   "source": [
    "#### Count of items in the list"
   ]
  },
  {
   "cell_type": "code",
   "execution_count": 29,
   "id": "07649729",
   "metadata": {},
   "outputs": [
    {
     "name": "stdout",
     "output_type": "stream",
     "text": [
      "1\n"
     ]
    }
   ],
   "source": [
    "print(listt.count(\"Hello\"))"
   ]
  },
  {
   "cell_type": "markdown",
   "id": "a14897d0",
   "metadata": {},
   "source": [
    "#### Delete Operation"
   ]
  },
  {
   "cell_type": "code",
   "execution_count": 30,
   "id": "fa21d442",
   "metadata": {},
   "outputs": [
    {
     "name": "stdout",
     "output_type": "stream",
     "text": [
      "After deleting the empty  ['Hello', 'is', 'Good', 'Hello ', 'Hello Hello ']\n",
      "After deleting an item  ['Hello', 'Good', 'Hello ', 'Hello Hello ']\n",
      "After removing hello  ['Good', 'Hello ', 'Hello Hello ']\n",
      "After poping  ['Good', 'Hello ']\n",
      "After poping using specific position ['Hello ']\n"
     ]
    }
   ],
   "source": [
    "## Del \n",
    "\n",
    "del listt[-3]\n",
    "print(\"After deleting the empty \",listt)\n",
    "del listt[1]\n",
    "print(\"After deleting an item \",listt)\n",
    "\n",
    "## remove\n",
    "listt.remove(\"Hello\")\n",
    "print(\"After removing hello \", listt)\n",
    "\n",
    "## pop()\n",
    "listt.pop()\n",
    "print(\"After poping \",listt)\n",
    "listt.pop(0)\n",
    "print(\"After poping using specific position\",listt)"
   ]
  },
  {
   "cell_type": "markdown",
   "id": "b062bdad",
   "metadata": {},
   "source": [
    "#### ELement Operation using methods"
   ]
  },
  {
   "cell_type": "code",
   "execution_count": 38,
   "id": "12a8566d",
   "metadata": {},
   "outputs": [
    {
     "name": "stdout",
     "output_type": "stream",
     "text": [
      "Original List  [1, 8, 6, -8, 4, 5, 96]\n",
      "Maximum value in the list  96\n",
      "Minimum value in the list  -8\n",
      "After sort  [-8, 1, 4, 5, 6, 8, 96]\n",
      "After reverse sort  [96, 8, 6, 5, 4, 1, -8]\n",
      "After using reverse  [-8, 1, 4, 5, 6, 8, 96]\n"
     ]
    }
   ],
   "source": [
    "lin = [1,8,6,-8,6-2,5,96]\n",
    "print(\"Original List \",lin )\n",
    "\n",
    "## MAx\n",
    "print(\"Maximum value in the list \" ,max(lin))\n",
    "\n",
    "##Min\n",
    "print(\"Minimum value in the list \",min(lin))\n",
    "\n",
    "## Sort\n",
    "lin.sort()\n",
    "print(\"After sort \", lin)\n",
    "lin.sort(reverse=True)\n",
    "print(\"After reverse sort \", lin)\n",
    "\n",
    "## reverse\n",
    "lin.reverse()\n",
    "print(\"After using reverse \", lin)"
   ]
  },
  {
   "cell_type": "markdown",
   "id": "c6442b3e",
   "metadata": {},
   "source": [
    "### Tuples\n",
    "\n",
    "###### Tuple is a collection of objects separated by commas. In some ways, a tuple is similar to a list in terms of indexing, nested objects, and repetition but a tuple is immutable, unlike lists which are mutable."
   ]
  },
  {
   "cell_type": "markdown",
   "id": "4b58bda9",
   "metadata": {},
   "source": [
    "#### creating tuples"
   ]
  },
  {
   "cell_type": "code",
   "execution_count": 2,
   "id": "4c4c6598",
   "metadata": {},
   "outputs": [
    {
     "name": "stdout",
     "output_type": "stream",
     "text": [
      "(1, 'wqe', 2.03, 'Hello everyone', True, '2.365')\n"
     ]
    }
   ],
   "source": [
    "tu = (1,\"wqe\",2.03,\"Hello everyone\",True,\"2.365\")\n",
    "print(tu)"
   ]
  },
  {
   "cell_type": "markdown",
   "id": "e6295ab8",
   "metadata": {},
   "source": [
    "#### Accessing  and slicing Tuples"
   ]
  },
  {
   "cell_type": "code",
   "execution_count": 5,
   "id": "3ebb6811",
   "metadata": {},
   "outputs": [
    {
     "name": "stdout",
     "output_type": "stream",
     "text": [
      "(2.03, 'Hello everyone', True)\n",
      "Hello everyone\n",
      "('Hello everyone', True, '2.365')\n",
      "(1, 'wqe', 2.03)\n"
     ]
    }
   ],
   "source": [
    "print(tu[2:5])\n",
    "print(tu[-3])\n",
    "print(tu[-3:])\n",
    "print(tu[:-3])"
   ]
  },
  {
   "cell_type": "markdown",
   "id": "106c3a47",
   "metadata": {},
   "source": [
    "#### Length Tuples"
   ]
  },
  {
   "cell_type": "code",
   "execution_count": 8,
   "id": "222128b6",
   "metadata": {},
   "outputs": [
    {
     "name": "stdout",
     "output_type": "stream",
     "text": [
      "6\n"
     ]
    }
   ],
   "source": [
    "print(len(tu))"
   ]
  },
  {
   "cell_type": "markdown",
   "id": "d134d873",
   "metadata": {},
   "source": [
    "### Set\n",
    "\n",
    "###### A Set is an unordered collection data type that is iterable, mutable and has no duplicate elements. "
   ]
  },
  {
   "cell_type": "code",
   "execution_count": 10,
   "id": "78fe99d4",
   "metadata": {},
   "outputs": [
    {
     "name": "stdout",
     "output_type": "stream",
     "text": [
      "Empty Set  {}\n",
      "Set items  {'Good', 'Hello', 'hello', 'Eve'}\n",
      "{1, 2.03, 2.365, 'Hello everyone', 'wqe', '2.365', '1'}\n"
     ]
    }
   ],
   "source": [
    "se = {}\n",
    "print(\"Empty Set \", se)\n",
    "se = {\"Hello\",\"Eve\",\"hello\",\"Good\"}\n",
    "print(\"Set items \",se)\n",
    "se = set([1,\"wqe\",2.03,\"Hello everyone\",True,\"2.365\",2.365,2.03,\"1\"])\n",
    "print(se)"
   ]
  },
  {
   "cell_type": "markdown",
   "id": "b1148cfb",
   "metadata": {},
   "source": [
    "#### Adding"
   ]
  },
  {
   "cell_type": "code",
   "execution_count": 13,
   "id": "1dbedc31",
   "metadata": {},
   "outputs": [
    {
     "name": "stdout",
     "output_type": "stream",
     "text": [
      "Added a element  {1, 2.03, 2.365, 'Ruesday', 'Hello everyone', 'wqe', '2.365', '1'}\n",
      "Adding the dynamic elements  {1, 2.03, 2.365, 'Ruesday', 'goo goo goo ', 'Hello everyone', 'goo goo goo goo ', 'wqe', '2.365', 'goo goo ', '1'}\n"
     ]
    }
   ],
   "source": [
    "se.add(\"Ruesday\")\n",
    "print(\"Added a element \", se)\n",
    "for i in range(2,5):\n",
    "    se.add(\"goo \"*i)\n",
    "print(\"Adding the dynamic elements \",se)\n"
   ]
  },
  {
   "cell_type": "markdown",
   "id": "db0b9b4a",
   "metadata": {},
   "source": [
    "#### Basic Set Operation"
   ]
  },
  {
   "cell_type": "code",
   "execution_count": 22,
   "id": "fe24ea30",
   "metadata": {},
   "outputs": [
    {
     "name": "stdout",
     "output_type": "stream",
     "text": [
      "union Using method  {'thiru', 'erd', 'mas', 'chn', 'basky'}\n",
      "union Using | symbol  {'thiru', 'erd', 'mas', 'chn', 'basky'}\n",
      "Intersection Using method  {'mas'}\n",
      "Intersection Using & symbol  {'mas'}\n",
      "Difference Using method  {'chn', 'erd'}\n",
      "Difference Using - symbol  {'chn', 'erd'}\n",
      "Difference Using method  {'thiru', 'basky'}\n",
      "Difference Using - symbol  {'thiru', 'basky'}\n",
      "containment check  False\n",
      "non-containment check  True\n",
      "equivalent check  False\n",
      "non-equivalent check  True\n",
      "s1 is subset of s2  False\n",
      "s1 is proper subset of s2  False\n",
      "s1 is super subset of s2  False\n",
      "s1 is proper super subset of s2  False\n",
      "the set of elements in precisely one of s1 or s2  {'thiru', 'chn', 'erd', 'basky'}\n"
     ]
    }
   ],
   "source": [
    "## Union\n",
    "s1 = {\"chn\",\"mas\",\"erd\"}\n",
    "s2 = {\"thiru\",\"basky\",\"mas\"}\n",
    "print(\"union Using method \", s1.union(s2))\n",
    "print(\"union Using | symbol \", (s1 | s2))\n",
    "\n",
    "## Intersection\n",
    "\n",
    "print(\"Intersection Using method \", s1.intersection(s2))\n",
    "print(\"Intersection Using & symbol \", (s1 & s2))\n",
    "\n",
    "## Difference\n",
    "\n",
    "print(\"Difference Using method \", s1.difference(s2))\n",
    "print(\"Difference Using - symbol \", (s1 - s2))\n",
    "\n",
    "print(\"Difference Using method \", s2.difference(s1))\n",
    "print(\"Difference Using - symbol \", (s2 - s1))\n",
    "\n",
    "## Additional USeful Operation\n",
    "\n",
    "print(\"containment check \" , (s1 in s2))\n",
    "print(\"non-containment check \" , (s1 not in s2))\n",
    "\n",
    "print(\"equivalent check \" , (s1 == s2))\n",
    "print(\"non-equivalent check \" , (s1 != s2))\n",
    "\n",
    "print(\"s1 is subset of s2 \", (s1 <= s2))\n",
    "print(\"s1 is proper subset of s2 \",(s1<s2))\n",
    "\n",
    "print(\"s1 is super subset of s2 \", (s1 >= s2))\n",
    "print(\"s1 is proper super subset of s2 \",(s1>s2))\n",
    "\n",
    "print(\"the set of elements in precisely one of s1 or s2 \",(s1 ^ s2))\n"
   ]
  },
  {
   "cell_type": "code",
   "execution_count": 20,
   "id": "418b8789",
   "metadata": {},
   "outputs": [],
   "source": [
    "## Clearing the set\n",
    "\n",
    "s1.clear()"
   ]
  },
  {
   "cell_type": "markdown",
   "id": "b2ac1452",
   "metadata": {},
   "source": [
    "### Frozen Set\n",
    "###### Frozen sets in Python are immutable objects that only support methods and operators that produce a result without affecting the frozen set or sets to which they are applied."
   ]
  },
  {
   "cell_type": "code",
   "execution_count": 19,
   "id": "9a531843",
   "metadata": {},
   "outputs": [
    {
     "name": "stdout",
     "output_type": "stream",
     "text": [
      "Frozen Set   frozenset({'r', 'e'})\n",
      "Add or set or put method are not there in the frozen set\n"
     ]
    }
   ],
   "source": [
    "fs = frozenset([\"e\",\"r\",\"e\"])\n",
    "print(\"Frozen Set  \", fs)\n",
    "print(\"Add or set or put method are not there in the frozen set\")"
   ]
  },
  {
   "cell_type": "markdown",
   "id": "28890db4",
   "metadata": {},
   "source": [
    "### Dictionary\n",
    "\n",
    "###### a dictionary can be created by placing a sequence of elements within curly {} braces, separated by ‘comma’. Dictionary holds pairs of values, one being the Key and the other corresponding pair element being its Key:value. Values in a dictionary can be of any data type and can be duplicated, whereas keys can’t be repeated and must be immutable. "
   ]
  },
  {
   "cell_type": "markdown",
   "id": "c385087c",
   "metadata": {},
   "source": [
    "#### Creating"
   ]
  },
  {
   "cell_type": "code",
   "execution_count": 27,
   "id": "7faad80b",
   "metadata": {},
   "outputs": [
    {
     "name": "stdout",
     "output_type": "stream",
     "text": [
      "Normal Dictionary  {1: 'Geeks', 2: 'For', 3: 'Geeks'}\n",
      "Nested Dictionary  {'n': '1', 1: ['we', 'are'], 'dict': {'label': 'head', 'tail': 'monkey'}}\n",
      "Dictionary using in-build method  {'key': 'val', 'key1': 'val1'}\n",
      "Dictionary using list of tuples  {1: 'hello', 2: 'welomce'}\n"
     ]
    }
   ],
   "source": [
    "d1 = {1: 'Geeks', 2: 'For', 3: 'Geeks'}\n",
    "d2 = {\"n\":\"1\",1:[\"we\",\"are\"],\"dict\":{\"label\":\"head\",\"tail\":\"monkey\"}}\n",
    "d3 = dict({\"key\":\"val\",\"key1\":\"val1\"})\n",
    "d4 = dict([(1,\"hello\"),(2,\"welomce\")])\n",
    "print(\"Normal Dictionary \" ,d1)\n",
    "print(\"Nested Dictionary \" ,d2)\n",
    "print(\"Dictionary using in-build method \" ,d3)\n",
    "print(\"Dictionary using list of tuples \", d4)"
   ]
  },
  {
   "cell_type": "markdown",
   "id": "ebc4f6b9",
   "metadata": {},
   "source": [
    "#### Adding elements"
   ]
  },
  {
   "cell_type": "code",
   "execution_count": 30,
   "id": "5cd95fb3",
   "metadata": {},
   "outputs": [
    {
     "name": "stdout",
     "output_type": "stream",
     "text": [
      "Adding to a one time  {1: 'Geeks', 2: 'For', 3: 'Geeks', 4: 'Adding to a one point', 'Value At a key': 'val1111'}\n"
     ]
    }
   ],
   "source": [
    "d1[4] = \"Adding to a one point\"\n",
    "d1[\"Value At a key\"] = \"val1111\"\n",
    "print(\"Adding to a one time \" , d1)\n"
   ]
  },
  {
   "cell_type": "markdown",
   "id": "43a2692c",
   "metadata": {},
   "source": [
    "#### UPdating Elements"
   ]
  },
  {
   "cell_type": "code",
   "execution_count": 31,
   "id": "c8d4337f",
   "metadata": {},
   "outputs": [
    {
     "name": "stdout",
     "output_type": "stream",
     "text": [
      "Updated value at a specific postion  {1: 'Geeks', 2: 'For', 3: 'Geeks', 4: 'Updated valu', 'Value At a key': 'val1111'}\n"
     ]
    }
   ],
   "source": [
    "d1[4] = \"Updated valu\"\n",
    "print(\"Updated value at a specific postion \", d1)"
   ]
  },
  {
   "cell_type": "markdown",
   "id": "e0e885e0",
   "metadata": {},
   "source": [
    "#### Accessing the elements"
   ]
  },
  {
   "cell_type": "code",
   "execution_count": 35,
   "id": "5c0d4889",
   "metadata": {},
   "outputs": [
    {
     "name": "stdout",
     "output_type": "stream",
     "text": [
      "For\n",
      "val\n",
      "For unknown key  None\n",
      "For nested key access  are\n",
      "For nested key access  monkey\n"
     ]
    }
   ],
   "source": [
    "print(d1[2])\n",
    "print(d3['key'])\n",
    "#print(d3['124']) ## It will give key error because unknown key, to overcome this use get()\n",
    "print(\"For unknown key \" , d3.get('124'))\n",
    "print(\"For nested key access \", d2.get(1)[1])\n",
    "print(\"For nested key access \", d2.get('dict')['tail'])"
   ]
  },
  {
   "cell_type": "markdown",
   "id": "dcea6838",
   "metadata": {},
   "source": [
    "### Additional MEthod"
   ]
  },
  {
   "cell_type": "code",
   "execution_count": 36,
   "id": "086a991a",
   "metadata": {},
   "outputs": [
    {
     "name": "stdout",
     "output_type": "stream",
     "text": [
      "Returns a list containing a tuple for each key value pair   dict_items([('key', 'val'), ('key1', 'val1')])\n"
     ]
    }
   ],
   "source": [
    "print(\"Returns a list containing a tuple for each key value pair  \", d3.items())"
   ]
  },
  {
   "cell_type": "code",
   "execution_count": 37,
   "id": "138a53e8",
   "metadata": {},
   "outputs": [
    {
     "name": "stdout",
     "output_type": "stream",
     "text": [
      "Returns a list containing dictionary’s keys  dict_keys(['n', 1, 'dict'])\n"
     ]
    }
   ],
   "source": [
    "print(\"Returns a list containing dictionary’s keys \" , d2.keys())"
   ]
  },
  {
   "cell_type": "code",
   "execution_count": 38,
   "id": "f71e89e4",
   "metadata": {},
   "outputs": [
    {
     "name": "stdout",
     "output_type": "stream",
     "text": [
      "Returns a list of all the values of dictionary  dict_values(['val', 'val1'])\n"
     ]
    }
   ],
   "source": [
    "print(\"Returns a list of all the values of dictionary \",d3.values())"
   ]
  },
  {
   "cell_type": "code",
   "execution_count": 39,
   "id": "65c13b82",
   "metadata": {},
   "outputs": [
    {
     "name": "stdout",
     "output_type": "stream",
     "text": [
      "Returns a copy of the dictionary  {1: 'hello', 2: 'welomce'}\n"
     ]
    }
   ],
   "source": [
    "print(\"Returns a copy of the dictionary \", d4.copy())"
   ]
  },
  {
   "cell_type": "code",
   "execution_count": 41,
   "id": "6960e7e4",
   "metadata": {},
   "outputs": [
    {
     "name": "stdout",
     "output_type": "stream",
     "text": [
      "Before removing  {1: 'Geeks', 2: 'For', 3: 'Geeks', 4: 'Updated valu', 'Value At a key': 'val1111'}\n",
      "Remove the element with specified key using pop()  {1: 'Geeks', 3: 'Geeks', 4: 'Updated valu', 'Value At a key': 'val1111'}\n"
     ]
    }
   ],
   "source": [
    "print(\"Before removing \", d1)\n",
    "d1.pop(2)\n",
    "print(\"Remove the element with specified key using pop() \", d1)"
   ]
  },
  {
   "cell_type": "code",
   "execution_count": 42,
   "id": "f6e20d44",
   "metadata": {},
   "outputs": [
    {
     "name": "stdout",
     "output_type": "stream",
     "text": [
      "Before removing  {1: 'Geeks', 3: 'Geeks', 4: 'Updated valu', 'Value At a key': 'val1111'}\n",
      "Removes the last inserted key-value pair using popitem()  {1: 'Geeks', 3: 'Geeks', 4: 'Updated valu'}\n"
     ]
    }
   ],
   "source": [
    "print(\"Before removing \", d1)\n",
    "d1.popitem()\n",
    "print(\"Removes the last inserted key-value pair using popitem() \", d1)"
   ]
  },
  {
   "cell_type": "code",
   "execution_count": 43,
   "id": "02493223",
   "metadata": {},
   "outputs": [
    {
     "name": "stdout",
     "output_type": "stream",
     "text": [
      "Before Updating  {1: 'Geeks', 3: 'Geeks', 4: 'Updated valu'}\n",
      "After updating using update()  {1: 'Geeks', 3: 'My update', 4: 'Updated valu'}\n"
     ]
    }
   ],
   "source": [
    "print(\"Before Updating \", d1)\n",
    "d1.update({3:\"My update\"})\n",
    "print(\"After updating using update() \", d1)"
   ]
  },
  {
   "cell_type": "code",
   "execution_count": 44,
   "id": "b8f255d5",
   "metadata": {},
   "outputs": [
    {
     "name": "stdout",
     "output_type": "stream",
     "text": [
      "After clearing the dictionary  {}\n"
     ]
    }
   ],
   "source": [
    "d3.clear()\n",
    "print(\"After clearing the dictionary \",d3)"
   ]
  },
  {
   "cell_type": "code",
   "execution_count": null,
   "id": "35b1f71e",
   "metadata": {},
   "outputs": [],
   "source": []
  },
  {
   "cell_type": "code",
   "execution_count": null,
   "id": "e73912ec",
   "metadata": {},
   "outputs": [],
   "source": []
  },
  {
   "cell_type": "code",
   "execution_count": null,
   "id": "e778458a",
   "metadata": {},
   "outputs": [],
   "source": []
  }
 ],
 "metadata": {
  "kernelspec": {
   "display_name": "Python 3 (ipykernel)",
   "language": "python",
   "name": "python3"
  },
  "language_info": {
   "codemirror_mode": {
    "name": "ipython",
    "version": 3
   },
   "file_extension": ".py",
   "mimetype": "text/x-python",
   "name": "python",
   "nbconvert_exporter": "python",
   "pygments_lexer": "ipython3",
   "version": "3.10.4"
  }
 },
 "nbformat": 4,
 "nbformat_minor": 5
}
