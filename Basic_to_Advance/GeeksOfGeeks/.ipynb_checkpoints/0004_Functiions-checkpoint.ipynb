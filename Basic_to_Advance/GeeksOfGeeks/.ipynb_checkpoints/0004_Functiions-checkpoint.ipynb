{
 "cells": [
  {
   "cell_type": "code",
   "execution_count": 1,
   "id": "6665f995",
   "metadata": {},
   "outputs": [],
   "source": [
    "def fun():\n",
    "    print(\"Welcome to world\")"
   ]
  },
  {
   "cell_type": "code",
   "execution_count": 2,
   "id": "0cf40fe9",
   "metadata": {},
   "outputs": [
    {
     "name": "stdout",
     "output_type": "stream",
     "text": [
      "Welcome to world\n"
     ]
    }
   ],
   "source": [
    "fun()"
   ]
  },
  {
   "cell_type": "code",
   "execution_count": 3,
   "id": "f0f24816",
   "metadata": {},
   "outputs": [],
   "source": [
    "def fun(a):\n",
    "    if a in [2,3]:\n",
    "        return True\n",
    "    else:\n",
    "        return False"
   ]
  },
  {
   "cell_type": "code",
   "execution_count": 6,
   "id": "820fec13",
   "metadata": {},
   "outputs": [
    {
     "data": {
      "text/plain": [
       "True"
      ]
     },
     "execution_count": 6,
     "metadata": {},
     "output_type": "execute_result"
    }
   ],
   "source": [
    "fun(3)"
   ]
  },
  {
   "cell_type": "code",
   "execution_count": 7,
   "id": "d7925f5c",
   "metadata": {},
   "outputs": [
    {
     "data": {
      "text/plain": [
       "False"
      ]
     },
     "execution_count": 7,
     "metadata": {},
     "output_type": "execute_result"
    }
   ],
   "source": [
    "fun(5)"
   ]
  },
  {
   "cell_type": "markdown",
   "id": "b3e0b41d",
   "metadata": {},
   "source": [
    "### Default Arguments"
   ]
  },
  {
   "cell_type": "code",
   "execution_count": 8,
   "id": "783ffd7c",
   "metadata": {},
   "outputs": [],
   "source": [
    "def myFun(x,y=30): ## y is the default argument example\n",
    "    return x + y"
   ]
  },
  {
   "cell_type": "code",
   "execution_count": 9,
   "id": "07cbb63f",
   "metadata": {},
   "outputs": [
    {
     "data": {
      "text/plain": [
       "45"
      ]
     },
     "execution_count": 9,
     "metadata": {},
     "output_type": "execute_result"
    }
   ],
   "source": [
    "myFun(15)"
   ]
  },
  {
   "cell_type": "code",
   "execution_count": 10,
   "id": "0f40c425",
   "metadata": {},
   "outputs": [
    {
     "data": {
      "text/plain": [
       "65"
      ]
     },
     "execution_count": 10,
     "metadata": {},
     "output_type": "execute_result"
    }
   ],
   "source": [
    "myFun(60,5)"
   ]
  },
  {
   "cell_type": "markdown",
   "id": "353d720d",
   "metadata": {},
   "source": [
    "### Keyword Arugment"
   ]
  },
  {
   "cell_type": "code",
   "execution_count": 11,
   "id": "d5e869b1",
   "metadata": {},
   "outputs": [],
   "source": [
    "def myFction(name,age):\n",
    "    print(\"My name is %s and age is %d\" %(name,age))"
   ]
  },
  {
   "cell_type": "code",
   "execution_count": 12,
   "id": "eeb31648",
   "metadata": {},
   "outputs": [
    {
     "name": "stdout",
     "output_type": "stream",
     "text": [
      "My name is Sure and age is 58\n"
     ]
    }
   ],
   "source": [
    "myFction(age=58,name=\"Sure\") ## example of keyword arguments"
   ]
  },
  {
   "cell_type": "code",
   "execution_count": 13,
   "id": "69cb743e",
   "metadata": {},
   "outputs": [
    {
     "name": "stdout",
     "output_type": "stream",
     "text": [
      "My name is rav and age is 16\n"
     ]
    }
   ],
   "source": [
    "myFction(\"rav\",16)"
   ]
  },
  {
   "cell_type": "code",
   "execution_count": 15,
   "id": "69e6bf62",
   "metadata": {},
   "outputs": [
    {
     "name": "stdout",
     "output_type": "stream",
     "text": [
      "My name is Vi and age is 58\n"
     ]
    }
   ],
   "source": [
    "myFction(name=\"Vi\",age=58) ## example of keyword arguments"
   ]
  },
  {
   "cell_type": "markdown",
   "id": "85416df3",
   "metadata": {},
   "source": [
    "### Variable LEngth arguments\n",
    "\n",
    "###### *args (Non-Keyword Arguments)\n",
    "###### **kwargs (Keyword Arguments)"
   ]
  },
  {
   "cell_type": "code",
   "execution_count": 18,
   "id": "e2046d4e",
   "metadata": {},
   "outputs": [],
   "source": [
    "def myFav(*argv):\n",
    "    for a in argv:\n",
    "        print(a)"
   ]
  },
  {
   "cell_type": "code",
   "execution_count": 19,
   "id": "b8fcdf59",
   "metadata": {},
   "outputs": [
    {
     "name": "stdout",
     "output_type": "stream",
     "text": [
      "dfg\n",
      "ewr\n",
      "ewr\n",
      "ewr\n"
     ]
    }
   ],
   "source": [
    "myFav(\"dfg\",\"ewr\",\"ewr\",\"ewr\")"
   ]
  },
  {
   "cell_type": "markdown",
   "id": "e71e9e19",
   "metadata": {},
   "source": [
    "### Docstring"
   ]
  },
  {
   "cell_type": "code",
   "execution_count": 20,
   "id": "f0eb3ca1",
   "metadata": {},
   "outputs": [],
   "source": [
    "def doc():\n",
    "    \"\"\" Hello this is dummy \"\"\"\n",
    "    \"\"\" Doo what i say\"\"\"\n",
    "    print(\"hai\")"
   ]
  },
  {
   "cell_type": "code",
   "execution_count": 21,
   "id": "53903d8f",
   "metadata": {},
   "outputs": [
    {
     "data": {
      "text/plain": [
       "' Hello this is dummy '"
      ]
     },
     "execution_count": 21,
     "metadata": {},
     "output_type": "execute_result"
    }
   ],
   "source": [
    "doc.__doc__"
   ]
  },
  {
   "cell_type": "markdown",
   "id": "6347c155",
   "metadata": {},
   "source": [
    "### Return statement in Python "
   ]
  },
  {
   "cell_type": "code",
   "execution_count": 22,
   "id": "a8873339",
   "metadata": {},
   "outputs": [],
   "source": [
    "def square(val):\n",
    "    return val * val"
   ]
  },
  {
   "cell_type": "code",
   "execution_count": 23,
   "id": "f5077c4f",
   "metadata": {},
   "outputs": [
    {
     "data": {
      "text/plain": [
       "25"
      ]
     },
     "execution_count": 23,
     "metadata": {},
     "output_type": "execute_result"
    }
   ],
   "source": [
    "square(5)"
   ]
  },
  {
   "cell_type": "code",
   "execution_count": 24,
   "id": "a770eb70",
   "metadata": {},
   "outputs": [
    {
     "data": {
      "text/plain": [
       "100"
      ]
     },
     "execution_count": 24,
     "metadata": {},
     "output_type": "execute_result"
    }
   ],
   "source": [
    "square(10)"
   ]
  },
  {
   "cell_type": "markdown",
   "id": "b3e23e9f",
   "metadata": {},
   "source": [
    "### Pass by value and Pass by Reference"
   ]
  },
  {
   "cell_type": "code",
   "execution_count": 25,
   "id": "4dbc9e35",
   "metadata": {},
   "outputs": [],
   "source": [
    "def refFun(x):\n",
    "    x.append(25)"
   ]
  },
  {
   "cell_type": "code",
   "execution_count": 26,
   "id": "e4605615",
   "metadata": {},
   "outputs": [
    {
     "name": "stdout",
     "output_type": "stream",
     "text": [
      "[1, 2.1, 3, 36, 5]\n",
      "[1, 2.1, 3, 36, 5, 25]\n"
     ]
    }
   ],
   "source": [
    "lst = [1,2.1,3,36,5]\n",
    "print(lst)\n",
    "refFun(lst)\n",
    "print(lst)"
   ]
  },
  {
   "cell_type": "code",
   "execution_count": null,
   "id": "8cb915a7",
   "metadata": {},
   "outputs": [],
   "source": []
  },
  {
   "cell_type": "code",
   "execution_count": null,
   "id": "21426ae6",
   "metadata": {},
   "outputs": [],
   "source": []
  },
  {
   "cell_type": "code",
   "execution_count": null,
   "id": "c9fd6879",
   "metadata": {},
   "outputs": [],
   "source": []
  },
  {
   "cell_type": "code",
   "execution_count": null,
   "id": "7929990a",
   "metadata": {},
   "outputs": [],
   "source": []
  }
 ],
 "metadata": {
  "kernelspec": {
   "display_name": "Python 3 (ipykernel)",
   "language": "python",
   "name": "python3"
  },
  "language_info": {
   "codemirror_mode": {
    "name": "ipython",
    "version": 3
   },
   "file_extension": ".py",
   "mimetype": "text/x-python",
   "name": "python",
   "nbconvert_exporter": "python",
   "pygments_lexer": "ipython3",
   "version": "3.10.4"
  }
 },
 "nbformat": 4,
 "nbformat_minor": 5
}
