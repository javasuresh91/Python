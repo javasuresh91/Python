{
 "cells": [
  {
   "cell_type": "code",
   "execution_count": 1,
   "id": "99445ab6",
   "metadata": {},
   "outputs": [
    {
     "name": "stdout",
     "output_type": "stream",
     "text": [
      "A Computer Scient\n"
     ]
    }
   ],
   "source": [
    "print(\"A Computer Scient\")"
   ]
  },
  {
   "cell_type": "code",
   "execution_count": 4,
   "id": "7cdaee54",
   "metadata": {},
   "outputs": [
    {
     "name": "stdout",
     "output_type": "stream",
     "text": [
      "Create a string with single quote\n"
     ]
    }
   ],
   "source": [
    "string1 = 'Create a string with single quote'\n",
    "print(string1)"
   ]
  },
  {
   "cell_type": "code",
   "execution_count": 5,
   "id": "54bb5602",
   "metadata": {},
   "outputs": [
    {
     "name": "stdout",
     "output_type": "stream",
     "text": [
      "Create a string with dobule quote\n"
     ]
    }
   ],
   "source": [
    "String2 = \"Create a string with dobule quote\"\n",
    "print(String2)"
   ]
  },
  {
   "cell_type": "code",
   "execution_count": 6,
   "id": "f19d42ff",
   "metadata": {},
   "outputs": [
    {
     "name": "stdout",
     "output_type": "stream",
     "text": [
      " Create a string with triple quote \n"
     ]
    }
   ],
   "source": [
    "String3 = ''' Create a string with triple quote '''\n",
    "print(String3)"
   ]
  },
  {
   "cell_type": "code",
   "execution_count": 7,
   "id": "96891ebb",
   "metadata": {},
   "outputs": [
    {
     "name": "stdout",
     "output_type": "stream",
     "text": [
      "\n",
      "Multiple line\n",
      "String in the\n",
      "Triple Quotes\n",
      "\n"
     ]
    }
   ],
   "source": [
    "String4 = '''\n",
    "Multiple line\n",
    "String in the\n",
    "Triple Quotes\n",
    "'''\n",
    "print(String4)"
   ]
  },
  {
   "cell_type": "code",
   "execution_count": 1,
   "id": "14aff1d1",
   "metadata": {},
   "outputs": [
    {
     "name": "stdout",
     "output_type": "stream",
     "text": [
      "First Character A\n",
      "Last Character e\n"
     ]
    }
   ],
   "source": [
    "a = \"Accessing the String example\"\n",
    "print(\"First Character %s\" %a[0])\n",
    "print(\"Last Character %s\" %a[-1])"
   ]
  },
  {
   "cell_type": "markdown",
   "id": "2902a4f0",
   "metadata": {},
   "source": [
    "### String slicing"
   ]
  },
  {
   "cell_type": "code",
   "execution_count": 20,
   "id": "ddabbd70",
   "metadata": {},
   "outputs": [
    {
     "name": "stdout",
     "output_type": "stream",
     "text": [
      "Character ces\n",
      "Reserve elpmaxe gnirtS eht gnisseccA\n",
      "Character Accessing the String exampl\n",
      "essing the String exam\n"
     ]
    }
   ],
   "source": [
    "print(\"Character %s\" %a[2:5])\n",
    "print(\"Reserve %s\" %a[::-1])\n",
    "print(\"Character %s\" %a[:-1])\n",
    "print(a[3:-3])"
   ]
  },
  {
   "cell_type": "markdown",
   "id": "2d567df0",
   "metadata": {},
   "source": [
    "### ord() - To Get ASCII(Unique) value"
   ]
  },
  {
   "cell_type": "code",
   "execution_count": 21,
   "id": "867d669e",
   "metadata": {},
   "outputs": [
    {
     "name": "stdout",
     "output_type": "stream",
     "text": [
      "65\n",
      "97\n"
     ]
    }
   ],
   "source": [
    "print(ord('A'))\n",
    "print(ord('a'))"
   ]
  },
  {
   "cell_type": "markdown",
   "id": "1d1f0480",
   "metadata": {},
   "source": [
    "### chr() - To Get Character from the int"
   ]
  },
  {
   "cell_type": "code",
   "execution_count": 22,
   "id": "837e42d6",
   "metadata": {},
   "outputs": [
    {
     "name": "stdout",
     "output_type": "stream",
     "text": [
      "A\n",
      "a\n"
     ]
    }
   ],
   "source": [
    "print(chr(65))\n",
    "print(chr(97))"
   ]
  },
  {
   "cell_type": "markdown",
   "id": "716047cd",
   "metadata": {},
   "source": [
    "### Escape Sequencing"
   ]
  },
  {
   "cell_type": "code",
   "execution_count": 1,
   "id": "6eff0f65",
   "metadata": {},
   "outputs": [
    {
     "name": "stdout",
     "output_type": "stream",
     "text": [
      " I'm a good \n"
     ]
    }
   ],
   "source": [
    "# Using single quotes in the Triple quotes\n",
    "a = ''' I'm a good '''\n",
    "print(a)"
   ]
  },
  {
   "cell_type": "code",
   "execution_count": 2,
   "id": "e861f548",
   "metadata": {},
   "outputs": [
    {
     "name": "stdout",
     "output_type": "stream",
     "text": [
      "I'm good\n"
     ]
    }
   ],
   "source": [
    "# Using single quotes in the single quotes\n",
    "a = 'I\\'m good'\n",
    "print(a)"
   ]
  },
  {
   "cell_type": "code",
   "execution_count": 3,
   "id": "64d11a44",
   "metadata": {},
   "outputs": [
    {
     "name": "stdout",
     "output_type": "stream",
     "text": [
      " I m a \"Good\" boy\n"
     ]
    }
   ],
   "source": [
    "# Using double quotes in the double quotes\n",
    "a = \" I m a \\\"Good\\\" boy\"\n",
    "print(a)"
   ]
  },
  {
   "cell_type": "code",
   "execution_count": 5,
   "id": "31144f50",
   "metadata": {},
   "outputs": [
    {
     "name": "stdout",
     "output_type": "stream",
     "text": [
      "I 'm a good \n",
      "I m a \"good\" boy\n",
      "I'm a \"good\" boy\n"
     ]
    }
   ],
   "source": [
    "# Mixing the quotes\n",
    "a = \"I 'm a good \"\n",
    "b = 'I m a \"good\" boy'\n",
    "c = \"I'm a \\\"good\\\" boy\"\n",
    "print(a)\n",
    "print(b)\n",
    "print(c)"
   ]
  },
  {
   "cell_type": "code",
   "execution_count": 9,
   "id": "1bcb49a2",
   "metadata": {},
   "outputs": [
    {
     "name": "stdout",
     "output_type": "stream",
     "text": [
      "c:\\pa\\df\f",
      "d\n",
      "c:\\pa\\df\\fd\n",
      "Come \tbaby\n",
      "\n",
      "Come to \n",
      " the class\n"
     ]
    }
   ],
   "source": [
    "# Escape path\n",
    "a = \"c:\\pa\\df\\fd\"\n",
    "b = \"c:\\\\pa\\\\df\\\\fd\"\n",
    "c = \"Come \\tbaby\\n\"\n",
    "d = \"Come to \\n the class\"\n",
    "print(a)\n",
    "print(b)\n",
    "print(c)\n",
    "print(d)"
   ]
  },
  {
   "cell_type": "markdown",
   "id": "21651acf",
   "metadata": {},
   "source": [
    "### String Operation"
   ]
  },
  {
   "cell_type": "code",
   "execution_count": 3,
   "id": "5ddb26c8",
   "metadata": {},
   "outputs": [],
   "source": [
    "s1 = \"Today is a goodday\"\n",
    "s2 = \"day\""
   ]
  },
  {
   "cell_type": "code",
   "execution_count": 12,
   "id": "baddb3cd",
   "metadata": {},
   "outputs": [
    {
     "name": "stdout",
     "output_type": "stream",
     "text": [
      "False\n"
     ]
    }
   ],
   "source": [
    "print(s1 in s2)"
   ]
  },
  {
   "cell_type": "code",
   "execution_count": 13,
   "id": "335051dd",
   "metadata": {},
   "outputs": [
    {
     "name": "stdout",
     "output_type": "stream",
     "text": [
      "True\n"
     ]
    }
   ],
   "source": [
    "print(s2 in s1)"
   ]
  },
  {
   "cell_type": "code",
   "execution_count": 14,
   "id": "b7010925",
   "metadata": {},
   "outputs": [
    {
     "name": "stdout",
     "output_type": "stream",
     "text": [
      "True\n"
     ]
    }
   ],
   "source": [
    "print( s1 not in s2)"
   ]
  },
  {
   "cell_type": "code",
   "execution_count": 4,
   "id": "be517f2a",
   "metadata": {},
   "outputs": [
    {
     "name": "stdout",
     "output_type": "stream",
     "text": [
      "Today is a gooddayday\n",
      "Hello Hello Hello Hello Hello Hello Hello Hello Hello Hello \n"
     ]
    }
   ],
   "source": [
    "# Concatenation using + Operator\n",
    "s3 = s1 + s2\n",
    "print(s3)\n",
    "# String MUltiplication\n",
    "print(\"Hello \" * 10)"
   ]
  },
  {
   "cell_type": "markdown",
   "id": "80eee28c",
   "metadata": {},
   "source": [
    "####  index() Method \n",
    "###### allows a user to find the index of the first occurrence of an existing substring inside a given string."
   ]
  },
  {
   "cell_type": "code",
   "execution_count": 16,
   "id": "695299cb",
   "metadata": {},
   "outputs": [
    {
     "data": {
      "text/plain": [
       "11"
      ]
     },
     "execution_count": 16,
     "metadata": {},
     "output_type": "execute_result"
    }
   ],
   "source": [
    "s1.index(\"good\")"
   ]
  },
  {
   "cell_type": "code",
   "execution_count": 17,
   "id": "e632b7fe",
   "metadata": {},
   "outputs": [
    {
     "data": {
      "text/plain": [
       "11"
      ]
     },
     "execution_count": 17,
     "metadata": {},
     "output_type": "execute_result"
    }
   ],
   "source": [
    "s1.index(\"good\",10)"
   ]
  },
  {
   "cell_type": "code",
   "execution_count": 22,
   "id": "1c367635",
   "metadata": {},
   "outputs": [
    {
     "ename": "ValueError",
     "evalue": "substring not found",
     "output_type": "error",
     "traceback": [
      "\u001b[1;31m---------------------------------------------------------------------------\u001b[0m",
      "\u001b[1;31mValueError\u001b[0m                                Traceback (most recent call last)",
      "Cell \u001b[1;32mIn[22], line 1\u001b[0m\n\u001b[1;32m----> 1\u001b[0m \u001b[43ms1\u001b[49m\u001b[38;5;241;43m.\u001b[39;49m\u001b[43mindex\u001b[49m\u001b[43m(\u001b[49m\u001b[38;5;124;43m\"\u001b[39;49m\u001b[38;5;124;43mgood\u001b[39;49m\u001b[38;5;124;43m\"\u001b[39;49m\u001b[43m,\u001b[49m\u001b[38;5;241;43m10\u001b[39;49m\u001b[43m,\u001b[49m\u001b[38;5;241;43m12\u001b[39;49m\u001b[43m)\u001b[49m \u001b[38;5;66;03m# end index shold greater than the index of searching text end character index\u001b[39;00m\n",
      "\u001b[1;31mValueError\u001b[0m: substring not found"
     ]
    }
   ],
   "source": [
    "s1.index(\"good\",10,12) # end index shold greater than the index of searching text end character index"
   ]
  },
  {
   "cell_type": "code",
   "execution_count": 19,
   "id": "8fb73d53",
   "metadata": {},
   "outputs": [
    {
     "ename": "ValueError",
     "evalue": "substring not found",
     "output_type": "error",
     "traceback": [
      "\u001b[1;31m---------------------------------------------------------------------------\u001b[0m",
      "\u001b[1;31mValueError\u001b[0m                                Traceback (most recent call last)",
      "Cell \u001b[1;32mIn[19], line 1\u001b[0m\n\u001b[1;32m----> 1\u001b[0m \u001b[43ms1\u001b[49m\u001b[38;5;241;43m.\u001b[39;49m\u001b[43mindex\u001b[49m\u001b[43m(\u001b[49m\u001b[38;5;124;43m\"\u001b[39;49m\u001b[38;5;124;43mgood\u001b[39;49m\u001b[38;5;124;43m\"\u001b[39;49m\u001b[43m,\u001b[49m\u001b[38;5;241;43m10\u001b[39;49m\u001b[43m,\u001b[49m\u001b[38;5;241;43m13\u001b[39;49m\u001b[43m)\u001b[49m\n",
      "\u001b[1;31mValueError\u001b[0m: substring not found"
     ]
    }
   ],
   "source": [
    "s1.index(\"good\",10,13)"
   ]
  },
  {
   "cell_type": "code",
   "execution_count": 31,
   "id": "75d0d5e0",
   "metadata": {},
   "outputs": [
    {
     "data": {
      "text/plain": [
       "11"
      ]
     },
     "execution_count": 31,
     "metadata": {},
     "output_type": "execute_result"
    }
   ],
   "source": [
    "s1.index(\"good\",10,15)"
   ]
  },
  {
   "cell_type": "code",
   "execution_count": 33,
   "id": "0149d178",
   "metadata": {},
   "outputs": [
    {
     "data": {
      "text/plain": [
       "11"
      ]
     },
     "execution_count": 33,
     "metadata": {},
     "output_type": "execute_result"
    }
   ],
   "source": [
    "s1.index(\"good\",10,-3)"
   ]
  },
  {
   "cell_type": "markdown",
   "id": "080835ed",
   "metadata": {},
   "source": [
    " ### rindex() \n",
    "###### method returns the highest index of the substring inside the string if the substring is found. Otherwise, it raises ValueError."
   ]
  },
  {
   "cell_type": "code",
   "execution_count": 23,
   "id": "462fa160",
   "metadata": {},
   "outputs": [],
   "source": [
    "s3 = \"Have a good start with the good day\""
   ]
  },
  {
   "cell_type": "code",
   "execution_count": 24,
   "id": "d9ced30c",
   "metadata": {},
   "outputs": [
    {
     "data": {
      "text/plain": [
       "27"
      ]
     },
     "execution_count": 24,
     "metadata": {},
     "output_type": "execute_result"
    }
   ],
   "source": [
    "s3.rindex(\"good\")"
   ]
  },
  {
   "cell_type": "code",
   "execution_count": 25,
   "id": "e3fd8ec7",
   "metadata": {},
   "outputs": [
    {
     "data": {
      "text/plain": [
       "27"
      ]
     },
     "execution_count": 25,
     "metadata": {},
     "output_type": "execute_result"
    }
   ],
   "source": [
    "s3.rindex(\"good\",10)"
   ]
  },
  {
   "cell_type": "code",
   "execution_count": 26,
   "id": "279c874c",
   "metadata": {},
   "outputs": [
    {
     "ename": "ValueError",
     "evalue": "substring not found",
     "output_type": "error",
     "traceback": [
      "\u001b[1;31m---------------------------------------------------------------------------\u001b[0m",
      "\u001b[1;31mValueError\u001b[0m                                Traceback (most recent call last)",
      "Cell \u001b[1;32mIn[26], line 1\u001b[0m\n\u001b[1;32m----> 1\u001b[0m \u001b[43ms3\u001b[49m\u001b[38;5;241;43m.\u001b[39;49m\u001b[43mrindex\u001b[49m\u001b[43m(\u001b[49m\u001b[38;5;124;43m\"\u001b[39;49m\u001b[38;5;124;43mgood\u001b[39;49m\u001b[38;5;124;43m\"\u001b[39;49m\u001b[43m,\u001b[49m\u001b[38;5;241;43m10\u001b[39;49m\u001b[43m,\u001b[49m\u001b[38;5;241;43m26\u001b[39;49m\u001b[43m)\u001b[49m\n",
      "\u001b[1;31mValueError\u001b[0m: substring not found"
     ]
    }
   ],
   "source": [
    "s3.rindex(\"good\",10,26)"
   ]
  },
  {
   "cell_type": "code",
   "execution_count": 27,
   "id": "fd16cf03",
   "metadata": {},
   "outputs": [
    {
     "data": {
      "text/plain": [
       "27"
      ]
     },
     "execution_count": 27,
     "metadata": {},
     "output_type": "execute_result"
    }
   ],
   "source": [
    "s3.rindex(\"good\",0)"
   ]
  },
  {
   "cell_type": "code",
   "execution_count": 28,
   "id": "380b708c",
   "metadata": {},
   "outputs": [
    {
     "ename": "ValueError",
     "evalue": "substring not found",
     "output_type": "error",
     "traceback": [
      "\u001b[1;31m---------------------------------------------------------------------------\u001b[0m",
      "\u001b[1;31mValueError\u001b[0m                                Traceback (most recent call last)",
      "Cell \u001b[1;32mIn[28], line 1\u001b[0m\n\u001b[1;32m----> 1\u001b[0m \u001b[43ms3\u001b[49m\u001b[38;5;241;43m.\u001b[39;49m\u001b[43mrindex\u001b[49m\u001b[43m(\u001b[49m\u001b[38;5;124;43m\"\u001b[39;49m\u001b[38;5;124;43mgood\u001b[39;49m\u001b[38;5;124;43m\"\u001b[39;49m\u001b[43m,\u001b[49m\u001b[38;5;241;43m0\u001b[39;49m\u001b[43m,\u001b[49m\u001b[38;5;241;43m10\u001b[39;49m\u001b[43m)\u001b[49m\n",
      "\u001b[1;31mValueError\u001b[0m: substring not found"
     ]
    }
   ],
   "source": [
    "s3.rindex(\"good\",0,10)"
   ]
  },
  {
   "cell_type": "code",
   "execution_count": 29,
   "id": "4739fed5",
   "metadata": {},
   "outputs": [
    {
     "data": {
      "text/plain": [
       "7"
      ]
     },
     "execution_count": 29,
     "metadata": {},
     "output_type": "execute_result"
    }
   ],
   "source": [
    "s3.rindex(\"good\",0,11)"
   ]
  },
  {
   "cell_type": "code",
   "execution_count": 30,
   "id": "af91174c",
   "metadata": {},
   "outputs": [
    {
     "data": {
      "text/plain": [
       "12"
      ]
     },
     "execution_count": 30,
     "metadata": {},
     "output_type": "execute_result"
    }
   ],
   "source": [
    "s3.rindex(\"start\",5,-5)"
   ]
  },
  {
   "cell_type": "markdown",
   "id": "e8b94546",
   "metadata": {},
   "source": [
    "### Case Changing"
   ]
  },
  {
   "cell_type": "code",
   "execution_count": 2,
   "id": "a779beed",
   "metadata": {},
   "outputs": [
    {
     "name": "stdout",
     "output_type": "stream",
     "text": [
      "Full Uppercase THIS IS A PYTHON\n",
      "Full Lowercase this is a python\n",
      "Camel case This Is A Python\n"
     ]
    }
   ],
   "source": [
    "a = \"This is a Python\"\n",
    "print(\"Full Uppercase \"+a.upper())\n",
    "print(\"Full Lowercase \"+a.lower())\n",
    "print(\"Camel case \"+a.title())"
   ]
  },
  {
   "cell_type": "markdown",
   "id": "4ca68c23",
   "metadata": {},
   "source": [
    "### startswith() method"
   ]
  },
  {
   "cell_type": "code",
   "execution_count": 3,
   "id": "d27a35f4",
   "metadata": {},
   "outputs": [
    {
     "data": {
      "text/plain": [
       "False"
      ]
     },
     "execution_count": 3,
     "metadata": {},
     "output_type": "execute_result"
    }
   ],
   "source": [
    "a.startswith(\"is\")"
   ]
  },
  {
   "cell_type": "code",
   "execution_count": 4,
   "id": "bbda7ba2",
   "metadata": {},
   "outputs": [
    {
     "data": {
      "text/plain": [
       "False"
      ]
     },
     "execution_count": 4,
     "metadata": {},
     "output_type": "execute_result"
    }
   ],
   "source": [
    "a.startswith(\"is\" , 0)"
   ]
  },
  {
   "cell_type": "code",
   "execution_count": 7,
   "id": "d97ff59a",
   "metadata": {},
   "outputs": [
    {
     "data": {
      "text/plain": [
       "True"
      ]
     },
     "execution_count": 7,
     "metadata": {},
     "output_type": "execute_result"
    }
   ],
   "source": [
    "a.startswith(\"is\",2)"
   ]
  },
  {
   "cell_type": "code",
   "execution_count": 10,
   "id": "6324f715",
   "metadata": {},
   "outputs": [
    {
     "data": {
      "text/plain": [
       "True"
      ]
     },
     "execution_count": 10,
     "metadata": {},
     "output_type": "execute_result"
    }
   ],
   "source": [
    "a.startswith(\"Py\",-6)"
   ]
  },
  {
   "cell_type": "markdown",
   "id": "0111e15d",
   "metadata": {},
   "source": [
    "### endswith() method"
   ]
  },
  {
   "cell_type": "code",
   "execution_count": 11,
   "id": "e0ce3f69",
   "metadata": {},
   "outputs": [
    {
     "data": {
      "text/plain": [
       "True"
      ]
     },
     "execution_count": 11,
     "metadata": {},
     "output_type": "execute_result"
    }
   ],
   "source": [
    "a.endswith(\"n\")"
   ]
  },
  {
   "cell_type": "code",
   "execution_count": 12,
   "id": "e2e962be",
   "metadata": {},
   "outputs": [
    {
     "data": {
      "text/plain": [
       "False"
      ]
     },
     "execution_count": 12,
     "metadata": {},
     "output_type": "execute_result"
    }
   ],
   "source": [
    "a.endswith(\"n\",0,-3)"
   ]
  },
  {
   "cell_type": "code",
   "execution_count": 13,
   "id": "28cd49e9",
   "metadata": {},
   "outputs": [
    {
     "data": {
      "text/plain": [
       "True"
      ]
     },
     "execution_count": 13,
     "metadata": {},
     "output_type": "execute_result"
    }
   ],
   "source": [
    "a.endswith(\"n\",-1)"
   ]
  },
  {
   "cell_type": "code",
   "execution_count": 14,
   "id": "d5a6dd6c",
   "metadata": {},
   "outputs": [
    {
     "data": {
      "text/plain": [
       "False"
      ]
     },
     "execution_count": 14,
     "metadata": {},
     "output_type": "execute_result"
    }
   ],
   "source": [
    "a.endswith(\"n\",-3,-7)"
   ]
  },
  {
   "cell_type": "code",
   "execution_count": 15,
   "id": "93940f30",
   "metadata": {},
   "outputs": [
    {
     "data": {
      "text/plain": [
       "False"
      ]
     },
     "execution_count": 15,
     "metadata": {},
     "output_type": "execute_result"
    }
   ],
   "source": [
    "a.endswith(\"no\")"
   ]
  },
  {
   "cell_type": "code",
   "execution_count": 16,
   "id": "a0d1f4f5",
   "metadata": {},
   "outputs": [
    {
     "data": {
      "text/plain": [
       "True"
      ]
     },
     "execution_count": 16,
     "metadata": {},
     "output_type": "execute_result"
    }
   ],
   "source": [
    "a.endswith(\"on\")"
   ]
  },
  {
   "cell_type": "markdown",
   "id": "c58f7f1c",
   "metadata": {},
   "source": [
    "### split() and join()"
   ]
  },
  {
   "cell_type": "code",
   "execution_count": 24,
   "id": "ad474ca6",
   "metadata": {},
   "outputs": [
    {
     "name": "stdout",
     "output_type": "stream",
     "text": [
      "['Hello', 'everyone', 'come', 'here']\n",
      "['You are', 'looking', 'good']\n",
      "['You are', 'looking', 'good']\n",
      "['You are', 'looking-good']\n",
      "['You are-looking', 'good']\n"
     ]
    }
   ],
   "source": [
    "a = \"Hello everyone come here\"\n",
    "b = \"You are-looking-good\"\n",
    "print(a.split(\" \"))\n",
    "print(b.split(\"-\"))\n",
    "print(b.rsplit(\"-\"))\n",
    "print(b.split(\"-\" , 1))\n",
    "print(b.rsplit(\"-\" , 1))"
   ]
  },
  {
   "cell_type": "code",
   "execution_count": 20,
   "id": "7ac88baa",
   "metadata": {},
   "outputs": [
    {
     "name": "stdout",
     "output_type": "stream",
     "text": [
      "hello~guys~sooper~film\n"
     ]
    }
   ],
   "source": [
    "c = \"~\".join([\"hello\",\"guys\",\"sooper\",\"film\"])\n",
    "print(c)"
   ]
  },
  {
   "cell_type": "markdown",
   "id": "fa75a1b1",
   "metadata": {},
   "source": [
    "### Removing space around the String"
   ]
  },
  {
   "cell_type": "code",
   "execution_count": 21,
   "id": "40b9c9d7",
   "metadata": {},
   "outputs": [
    {
     "name": "stdout",
     "output_type": "stream",
     "text": [
      "hello good morning to all\n",
      "hello good morning to all \n",
      " hello good morning to all\n"
     ]
    }
   ],
   "source": [
    "d = \" hello good morning to all \"\n",
    "print(d.strip())\n",
    "print(d.lstrip())\n",
    "print(d.rstrip())"
   ]
  },
  {
   "cell_type": "markdown",
   "id": "8c2b57b4",
   "metadata": {},
   "source": [
    "### find() Method"
   ]
  },
  {
   "cell_type": "markdown",
   "id": "aed7bf9c",
   "metadata": {},
   "source": [
    "###### same as index() method it will work"
   ]
  },
  {
   "cell_type": "markdown",
   "id": "fb2f44ac",
   "metadata": {},
   "source": [
    "### String comparison"
   ]
  },
  {
   "cell_type": "code",
   "execution_count": 25,
   "id": "16c8ff11",
   "metadata": {},
   "outputs": [
    {
     "name": "stdout",
     "output_type": "stream",
     "text": [
      "True\n",
      "True\n",
      "False\n",
      "False\n"
     ]
    }
   ],
   "source": [
    "print(\"Geek\" == \"Geek\")\n",
    "print(\"Geek\" < \"geek\")\n",
    "print(\"Geek\" > \"geek\")\n",
    "print(\"Geek\" != \"Geek\")"
   ]
  },
  {
   "cell_type": "code",
   "execution_count": 7,
   "id": "0e553810",
   "metadata": {},
   "outputs": [
    {
     "name": "stdout",
     "output_type": "stream",
     "text": [
      "<class 'set'>\n"
     ]
    }
   ],
   "source": [
    "print(type(set()))"
   ]
  },
  {
   "cell_type": "code",
   "execution_count": 5,
   "id": "1d1b2462",
   "metadata": {},
   "outputs": [
    {
     "data": {
      "text/plain": [
       "12"
      ]
     },
     "execution_count": 5,
     "metadata": {},
     "output_type": "execute_result"
    }
   ],
   "source": [
    "sum((2,3,4),3)"
   ]
  },
  {
   "cell_type": "code",
   "execution_count": null,
   "id": "02840a15",
   "metadata": {},
   "outputs": [],
   "source": []
  },
  {
   "cell_type": "code",
   "execution_count": null,
   "id": "ebfd99d3",
   "metadata": {},
   "outputs": [],
   "source": []
  },
  {
   "cell_type": "code",
   "execution_count": null,
   "id": "d31f38f1",
   "metadata": {},
   "outputs": [],
   "source": []
  },
  {
   "cell_type": "code",
   "execution_count": null,
   "id": "5f28a32d",
   "metadata": {},
   "outputs": [],
   "source": []
  },
  {
   "cell_type": "code",
   "execution_count": null,
   "id": "bd592347",
   "metadata": {},
   "outputs": [],
   "source": []
  },
  {
   "cell_type": "code",
   "execution_count": null,
   "id": "ad0d14ea",
   "metadata": {},
   "outputs": [],
   "source": []
  },
  {
   "cell_type": "code",
   "execution_count": null,
   "id": "aa8ad47f",
   "metadata": {},
   "outputs": [],
   "source": []
  },
  {
   "cell_type": "code",
   "execution_count": null,
   "id": "4eab96bd",
   "metadata": {},
   "outputs": [],
   "source": []
  },
  {
   "cell_type": "code",
   "execution_count": null,
   "id": "39b4edb7",
   "metadata": {},
   "outputs": [],
   "source": []
  },
  {
   "cell_type": "code",
   "execution_count": null,
   "id": "eb8917cb",
   "metadata": {},
   "outputs": [],
   "source": []
  },
  {
   "cell_type": "code",
   "execution_count": null,
   "id": "7efa5ace",
   "metadata": {},
   "outputs": [],
   "source": []
  },
  {
   "cell_type": "code",
   "execution_count": null,
   "id": "9119a500",
   "metadata": {},
   "outputs": [],
   "source": []
  },
  {
   "cell_type": "code",
   "execution_count": null,
   "id": "2bec47ea",
   "metadata": {},
   "outputs": [],
   "source": []
  },
  {
   "cell_type": "code",
   "execution_count": null,
   "id": "3ccfcbda",
   "metadata": {},
   "outputs": [],
   "source": []
  },
  {
   "cell_type": "code",
   "execution_count": null,
   "id": "d623d393",
   "metadata": {},
   "outputs": [],
   "source": []
  },
  {
   "cell_type": "code",
   "execution_count": null,
   "id": "7e31ce32",
   "metadata": {},
   "outputs": [],
   "source": []
  },
  {
   "cell_type": "code",
   "execution_count": null,
   "id": "80951cf4",
   "metadata": {},
   "outputs": [],
   "source": []
  },
  {
   "cell_type": "code",
   "execution_count": null,
   "id": "8475767f",
   "metadata": {},
   "outputs": [],
   "source": []
  },
  {
   "cell_type": "code",
   "execution_count": null,
   "id": "0b8e0937",
   "metadata": {},
   "outputs": [],
   "source": []
  }
 ],
 "metadata": {
  "kernelspec": {
   "display_name": "Python 3 (ipykernel)",
   "language": "python",
   "name": "python3"
  },
  "language_info": {
   "codemirror_mode": {
    "name": "ipython",
    "version": 3
   },
   "file_extension": ".py",
   "mimetype": "text/x-python",
   "name": "python",
   "nbconvert_exporter": "python",
   "pygments_lexer": "ipython3",
   "version": "3.10.4"
  }
 },
 "nbformat": 4,
 "nbformat_minor": 5
}
