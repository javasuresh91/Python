{
 "cells": [
  {
   "cell_type": "markdown",
   "id": "389e203d",
   "metadata": {},
   "source": [
    "### Addition"
   ]
  },
  {
   "cell_type": "code",
   "execution_count": 2,
   "id": "3cc8a1ab",
   "metadata": {},
   "outputs": [
    {
     "name": "stdout",
     "output_type": "stream",
     "text": [
      "5\n"
     ]
    }
   ],
   "source": [
    "val1 = 2\n",
    "val2 = 3\n",
    "res = val1+val2\n",
    "print(res)"
   ]
  },
  {
   "cell_type": "markdown",
   "id": "34a7c5a1",
   "metadata": {},
   "source": [
    "### Subtraction"
   ]
  },
  {
   "cell_type": "code",
   "execution_count": 3,
   "id": "5eb032ce",
   "metadata": {},
   "outputs": [
    {
     "name": "stdout",
     "output_type": "stream",
     "text": [
      "-10\n"
     ]
    }
   ],
   "source": [
    "x = 10\n",
    "y = 20\n",
    "res = x -y\n",
    "print(res)"
   ]
  },
  {
   "cell_type": "markdown",
   "id": "2304c522",
   "metadata": {},
   "source": [
    "### Multiplication"
   ]
  },
  {
   "cell_type": "code",
   "execution_count": 5,
   "id": "78398059",
   "metadata": {},
   "outputs": [
    {
     "name": "stdout",
     "output_type": "stream",
     "text": [
      "1040\n"
     ]
    }
   ],
   "source": [
    "x = 52\n",
    "y = 20\n",
    "res = x * y\n",
    "print(res)"
   ]
  },
  {
   "cell_type": "markdown",
   "id": "a7991489",
   "metadata": {},
   "source": [
    "### Division"
   ]
  },
  {
   "cell_type": "code",
   "execution_count": 6,
   "id": "ec5be78c",
   "metadata": {},
   "outputs": [
    {
     "name": "stdout",
     "output_type": "stream",
     "text": [
      "25.0\n"
     ]
    }
   ],
   "source": [
    "a = 50\n",
    "b = 2\n",
    "res = a / b\n",
    "print(res)"
   ]
  },
  {
   "cell_type": "markdown",
   "id": "7804b1e8",
   "metadata": {},
   "source": [
    "### Modulus"
   ]
  },
  {
   "cell_type": "code",
   "execution_count": 7,
   "id": "81cc4eb8",
   "metadata": {},
   "outputs": [
    {
     "name": "stdout",
     "output_type": "stream",
     "text": [
      "5\n"
     ]
    }
   ],
   "source": [
    "x = 80\n",
    "y = 25\n",
    "res = x %y\n",
    "print(res)"
   ]
  },
  {
   "cell_type": "markdown",
   "id": "91eb201b",
   "metadata": {},
   "source": [
    "### Exponentiation"
   ]
  },
  {
   "cell_type": "code",
   "execution_count": 8,
   "id": "d9773738",
   "metadata": {},
   "outputs": [
    {
     "name": "stdout",
     "output_type": "stream",
     "text": [
      "243\n"
     ]
    }
   ],
   "source": [
    "x = 3\n",
    "y = 5\n",
    "res = x ** y\n",
    "print(res)"
   ]
  },
  {
   "cell_type": "markdown",
   "id": "a095dd8e",
   "metadata": {},
   "source": [
    "### Floor division"
   ]
  },
  {
   "cell_type": "code",
   "execution_count": 9,
   "id": "c266c766",
   "metadata": {},
   "outputs": [
    {
     "name": "stdout",
     "output_type": "stream",
     "text": [
      "1\n"
     ]
    }
   ],
   "source": [
    "x = 3\n",
    "y = 2\n",
    "res = x // y\n",
    "print(res)"
   ]
  },
  {
   "cell_type": "markdown",
   "id": "774fd85b",
   "metadata": {},
   "source": [
    "### Logical Operator"
   ]
  },
  {
   "cell_type": "code",
   "execution_count": 10,
   "id": "f9f14dcf",
   "metadata": {},
   "outputs": [
    {
     "name": "stdout",
     "output_type": "stream",
     "text": [
      "All values are greater than zero\n",
      "Condition not met\n"
     ]
    }
   ],
   "source": [
    "a = 10\n",
    "b = 20\n",
    "c = 30\n",
    "\n",
    "if a > 0 and b > 0 and  c > 0:\n",
    "    print(\"All values are greater than zero\")\n",
    "if a > 5 and b < 50 and c > 40:\n",
    "    print(\"Consstion met\")\n",
    "else:\n",
    "    print(\"Condition not met\")"
   ]
  },
  {
   "cell_type": "code",
   "execution_count": 11,
   "id": "8e63f8f0",
   "metadata": {},
   "outputs": [
    {
     "name": "stdout",
     "output_type": "stream",
     "text": [
      "Condition met\n",
      "Second Cont met\n"
     ]
    }
   ],
   "source": [
    "if a > 10 or b <= 25:\n",
    "    print(\"Condition met\")\n",
    "if c == 30 or b > 50:\n",
    "    print(\"Second Cont met\")"
   ]
  },
  {
   "cell_type": "code",
   "execution_count": 12,
   "id": "d0b004df",
   "metadata": {},
   "outputs": [
    {
     "name": "stdout",
     "output_type": "stream",
     "text": [
      "Constion met\n"
     ]
    }
   ],
   "source": [
    "if not (a > 5 and b < 25):\n",
    "    print(\"Negative cont met\")\n",
    "else:\n",
    "    print(\"Constion met\")"
   ]
  },
  {
   "cell_type": "markdown",
   "id": "a3286726",
   "metadata": {},
   "source": [
    "### Membership Operator\n",
    "\n",
    "###### The ‘in’ operator is used to check if a character/ substring/ element exists in a sequence or not. Evaluate to True if it finds the specified element in a sequence otherwise False"
   ]
  },
  {
   "cell_type": "markdown",
   "id": "f66ee9b2",
   "metadata": {},
   "source": [
    "#### in Operator"
   ]
  },
  {
   "cell_type": "code",
   "execution_count": 18,
   "id": "d9a7c640",
   "metadata": {},
   "outputs": [
    {
     "name": "stdout",
     "output_type": "stream",
     "text": [
      "Yes Preset\n",
      "Not Present\n",
      "Presnet\n",
      "Yeah..! it ther\n",
      "Key is present\n",
      "Key is not present\n"
     ]
    }
   ],
   "source": [
    "str = \"Hello Everyone\"\n",
    "if \"H\" in str:\n",
    "    print(\"Yes Preset\")\n",
    "if \"h\" in str:\n",
    "    print(\"Yes Preset\")\n",
    "else:\n",
    "    print(\"Not Present\")\n",
    "if \"Su\" in [\"Su\",\"re\",\"sh\"]:\n",
    "    print(\"Presnet\")\n",
    "if 100 in [\"Sur\",100,12.90,True]:\n",
    "    print(\"Yeah..! it ther\")\n",
    "di = {\"it1\":\"dsa\",\"it2\":133}\n",
    "if \"it2\" in di:\n",
    "    print(\"Key is present\")\n",
    "if \"it3\" in di:\n",
    "    print(\"Key is present\")\n",
    "else:\n",
    "    print(\"Key is not present\")"
   ]
  },
  {
   "cell_type": "code",
   "execution_count": 21,
   "id": "0494e045",
   "metadata": {},
   "outputs": [
    {
     "name": "stdout",
     "output_type": "stream",
     "text": [
      " 1 is not present \n",
      " 2 is present \n",
      " 3 is not present \n",
      " 4 is present \n",
      " 5 is present \n"
     ]
    }
   ],
   "source": [
    "list1 = [1, 2, 3, 4, 5]\n",
    "list2 = [2 , 6, 5 , 7, 8, 9,4]\n",
    "for item in list1:\n",
    "    if item in list2:\n",
    "        print(\" %d is present \" %(item))\n",
    "    else:\n",
    "        print(\" %d is not present \" %(item))"
   ]
  },
  {
   "cell_type": "markdown",
   "id": "9abdbb93",
   "metadata": {},
   "source": [
    "#### not in Operator"
   ]
  },
  {
   "cell_type": "code",
   "execution_count": 22,
   "id": "29ccbac7",
   "metadata": {},
   "outputs": [
    {
     "name": "stdout",
     "output_type": "stream",
     "text": [
      "Yes not Preset\n",
      "Yes Preset\n",
      "NOt Presnet\n",
      "Yeah..! it is not there\n",
      "Key is not present\n",
      "Given Key is not present\n"
     ]
    }
   ],
   "source": [
    "str = \"Hello Everyone\"\n",
    "if \"O\" not in str:\n",
    "    print(\"Yes not Preset\")\n",
    "if \"h\" not in str:\n",
    "    print(\"Yes Preset\")\n",
    "else:\n",
    "    print(\"Not Present\")\n",
    "if \"Sure\" not in [\"Su\",\"re\",\"sh\"]:\n",
    "    print(\"NOt Presnet\")\n",
    "if 1000 not in [\"Sur\",100,12.90,True]:\n",
    "    print(\"Yeah..! it is not there\")\n",
    "di = {\"it1\":\"dsa\",\"it2\":133}\n",
    "if \"it20\" not in di:\n",
    "    print(\"Key is not present\")\n",
    "if \"it3\" not in di:\n",
    "    print(\"Given Key is not present\")\n",
    "else:\n",
    "    print(\"Key is  present\")"
   ]
  },
  {
   "cell_type": "markdown",
   "id": "e8f77cad",
   "metadata": {},
   "source": [
    "### Identity Operator\n",
    "\n",
    "##### Identity operators are used to compare the objects if both the objects are actually of the same data type and share the same memory location."
   ]
  },
  {
   "cell_type": "markdown",
   "id": "42da57c6",
   "metadata": {},
   "source": [
    "#### is Operator"
   ]
  },
  {
   "cell_type": "code",
   "execution_count": 23,
   "id": "5172441f",
   "metadata": {},
   "outputs": [
    {
     "name": "stdout",
     "output_type": "stream",
     "text": [
      "True\n"
     ]
    },
    {
     "data": {
      "text/plain": [
       "1906868748656"
      ]
     },
     "execution_count": 23,
     "metadata": {},
     "output_type": "execute_result"
    }
   ],
   "source": [
    "x = 5\n",
    "y = 5\n",
    "print(x is y)\n",
    "id(x)\n",
    "id(y)\n"
   ]
  },
  {
   "cell_type": "markdown",
   "id": "b8dfa5cc",
   "metadata": {},
   "source": [
    "#### not is operator"
   ]
  },
  {
   "cell_type": "code",
   "execution_count": 24,
   "id": "58771b02",
   "metadata": {},
   "outputs": [
    {
     "name": "stdout",
     "output_type": "stream",
     "text": [
      "false\n",
      "true\n"
     ]
    }
   ],
   "source": [
    "x = 5\n",
    "if (type(x) is not int):\n",
    "    print(\"true\")\n",
    "else:\n",
    "    print(\"false\")\n",
    "\n",
    "# Prints True\n",
    "x = 5.6\n",
    "if (type(x) is not int):\n",
    "    print(\"true\")\n",
    "else:\n",
    "    print(\"false\")"
   ]
  },
  {
   "cell_type": "markdown",
   "id": "ef811f70",
   "metadata": {},
   "source": [
    "### Bitwise Operator\n",
    "\n",
    "######  bitwise operators are used to perform bitwise calculations on integers. The integers are first converted into binary and then operations are performed on bit by bit, hence the name bitwise operators. Then the result is returned in decimal format."
   ]
  },
  {
   "cell_type": "markdown",
   "id": "9f77115a",
   "metadata": {},
   "source": [
    "#### Bitwise AND\n",
    "\n",
    "###### Returns 1 if both the bits are 1 else 0."
   ]
  },
  {
   "cell_type": "code",
   "execution_count": 26,
   "id": "8c855c4c",
   "metadata": {},
   "outputs": [
    {
     "name": "stdout",
     "output_type": "stream",
     "text": [
      "Either one bit value is 0\n"
     ]
    }
   ],
   "source": [
    "a = 10 \n",
    "b = 4\n",
    "if a & b :\n",
    "    print(\"Both bit value is 1\")\n",
    "else:\n",
    "    print(\"Either one bit value is 0\")"
   ]
  },
  {
   "cell_type": "markdown",
   "id": "5df56555",
   "metadata": {},
   "source": [
    "#### Bitwise or operator: \n",
    "###### Returns 1 if either of the bit is 1 else 0."
   ]
  },
  {
   "cell_type": "code",
   "execution_count": 28,
   "id": "9cfeead8",
   "metadata": {},
   "outputs": [
    {
     "name": "stdout",
     "output_type": "stream",
     "text": [
      "Either bit value is 1\n"
     ]
    }
   ],
   "source": [
    "a = 10 \n",
    "b = 4\n",
    "if a | b :\n",
    "    print(\"Either bit value is 1\")\n",
    "else:\n",
    "    print(\"Both  bit value is 0\")"
   ]
  },
  {
   "cell_type": "markdown",
   "id": "03b7a39f",
   "metadata": {},
   "source": [
    "#### Bitwise not operator\n",
    "###### Returns one's complement of the number"
   ]
  },
  {
   "cell_type": "code",
   "execution_count": 1,
   "id": "f90f36a8",
   "metadata": {},
   "outputs": [
    {
     "name": "stdout",
     "output_type": "stream",
     "text": [
      "-11\n"
     ]
    }
   ],
   "source": [
    "a = 10\n",
    "print(~a)"
   ]
  },
  {
   "cell_type": "markdown",
   "id": "eec20df8",
   "metadata": {},
   "source": [
    "#### Bitwise xor operator: \n",
    "###### Returns 1 if one of the bits is 1 and the other is 0 else returns 0."
   ]
  },
  {
   "cell_type": "code",
   "execution_count": 2,
   "id": "eac4a64e",
   "metadata": {},
   "outputs": [
    {
     "name": "stdout",
     "output_type": "stream",
     "text": [
      "14\n"
     ]
    }
   ],
   "source": [
    "a = 10\n",
    "b = 4\n",
    "print(a ^ b)"
   ]
  },
  {
   "cell_type": "markdown",
   "id": "ff2520ed",
   "metadata": {},
   "source": [
    "### Shift Opeartor\n",
    "\n",
    "###### These operators are used to shift the bits of a number left or right thereby multiplying or dividing the number by two respectively. They can be used when we have to multiply or divide a number by two. "
   ]
  },
  {
   "cell_type": "markdown",
   "id": "ef0174a3",
   "metadata": {},
   "source": [
    "#### Bitwise right shift: \n",
    "###### Shifts the bits of the number to the right and fills 0 on voids left( fills 1 in the case of a negative number) as a result. Similar effect as of dividing the number with some power of two."
   ]
  },
  {
   "cell_type": "code",
   "execution_count": 4,
   "id": "5f367a37",
   "metadata": {},
   "outputs": [
    {
     "name": "stdout",
     "output_type": "stream",
     "text": [
      "5\n",
      "-5\n"
     ]
    }
   ],
   "source": [
    "a = 10\n",
    "print(a >> 1)\n",
    "b = -10\n",
    "print(b >> 1)"
   ]
  },
  {
   "cell_type": "markdown",
   "id": "9aa42a3a",
   "metadata": {},
   "source": [
    "### Bitwise left shift\n",
    "###### Shifts the bits of the number to the left and fills 0 on voids right as a result. Similar effect as of multiplying the number with some power of two."
   ]
  },
  {
   "cell_type": "code",
   "execution_count": 5,
   "id": "c2ec9e00",
   "metadata": {},
   "outputs": [
    {
     "name": "stdout",
     "output_type": "stream",
     "text": [
      "20\n",
      "-20\n"
     ]
    }
   ],
   "source": [
    "a = 10\n",
    "print(a << 1)\n",
    "b = -10\n",
    "print(b << 1)"
   ]
  },
  {
   "cell_type": "code",
   "execution_count": 13,
   "id": "471dbaea",
   "metadata": {},
   "outputs": [
    {
     "name": "stdout",
     "output_type": "stream",
     "text": [
      "True\n",
      "False\n",
      "g\n",
      "True\n"
     ]
    }
   ],
   "source": [
    "s = \"gfg\"\n",
    "print((\"g\" or \"\") in s)\n",
    "print(not(\"g\" or \"\"))\n",
    "print((\"g\" or \"\"))\n",
    "print(not(\"g\" or \"\") not in s )"
   ]
  },
  {
   "cell_type": "code",
   "execution_count": 16,
   "id": "537347e1",
   "metadata": {},
   "outputs": [
    {
     "name": "stdout",
     "output_type": "stream",
     "text": [
      "-3\n"
     ]
    }
   ],
   "source": [
    "print((~2))"
   ]
  },
  {
   "cell_type": "code",
   "execution_count": null,
   "id": "c91e34b9",
   "metadata": {},
   "outputs": [],
   "source": []
  }
 ],
 "metadata": {
  "kernelspec": {
   "display_name": "Python 3 (ipykernel)",
   "language": "python",
   "name": "python3"
  },
  "language_info": {
   "codemirror_mode": {
    "name": "ipython",
    "version": 3
   },
   "file_extension": ".py",
   "mimetype": "text/x-python",
   "name": "python",
   "nbconvert_exporter": "python",
   "pygments_lexer": "ipython3",
   "version": "3.10.4"
  }
 },
 "nbformat": 4,
 "nbformat_minor": 5
}
