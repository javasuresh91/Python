{
 "cells": [
  {
   "cell_type": "markdown",
   "id": "aa3cbd13",
   "metadata": {},
   "source": [
    "### File Types\n",
    "\n",
    "#### 1. Text File and 2. Binary File\n",
    "\n",
    "### File Access Mode\n",
    "\n",
    "#### 1. Read Only (r)   2. Read and Write(r+)   3.Write Only(w)   4. Write and Read(w+)  5.Append Only(a)   6.Append and Read(a+) \n",
    "\n"
   ]
  },
  {
   "cell_type": "markdown",
   "id": "5ba54812",
   "metadata": {},
   "source": [
    "### Opening and writing a File"
   ]
  },
  {
   "cell_type": "code",
   "execution_count": 12,
   "id": "f002cdfb",
   "metadata": {},
   "outputs": [
    {
     "data": {
      "text/plain": [
       "17"
      ]
     },
     "execution_count": 12,
     "metadata": {},
     "output_type": "execute_result"
    }
   ],
   "source": [
    "file1 = open('data\\myfile.txt',\"a\")\n",
    "file1.write(\" Hello First Film\")"
   ]
  },
  {
   "cell_type": "code",
   "execution_count": 9,
   "id": "678a8556",
   "metadata": {},
   "outputs": [],
   "source": [
    "file2 = open('data\\myfile1.txt',\"w+\")\n",
    "file2.write(\" Hello Second Film \\n\")\n",
    "l = [\"hello\" , \"good\",\"morning\"]\n",
    "file2.writelines(l)"
   ]
  },
  {
   "cell_type": "markdown",
   "id": "23ec0896",
   "metadata": {},
   "source": [
    "### Read the Files"
   ]
  },
  {
   "cell_type": "code",
   "execution_count": 13,
   "id": "79d6ec02",
   "metadata": {},
   "outputs": [
    {
     "data": {
      "text/plain": [
       "' Hello Second Film \\nhellogoodmorning'"
      ]
     },
     "execution_count": 13,
     "metadata": {},
     "output_type": "execute_result"
    }
   ],
   "source": [
    "file2 = open('data\\myfile1.txt',\"r+\")\n",
    "file2.read()"
   ]
  },
  {
   "cell_type": "code",
   "execution_count": null,
   "id": "c9f5918e",
   "metadata": {},
   "outputs": [],
   "source": []
  },
  {
   "cell_type": "code",
   "execution_count": null,
   "id": "674527cc",
   "metadata": {},
   "outputs": [],
   "source": []
  },
  {
   "cell_type": "code",
   "execution_count": null,
   "id": "c2e27006",
   "metadata": {},
   "outputs": [],
   "source": []
  }
 ],
 "metadata": {
  "kernelspec": {
   "display_name": "Python 3 (ipykernel)",
   "language": "python",
   "name": "python3"
  },
  "language_info": {
   "codemirror_mode": {
    "name": "ipython",
    "version": 3
   },
   "file_extension": ".py",
   "mimetype": "text/x-python",
   "name": "python",
   "nbconvert_exporter": "python",
   "pygments_lexer": "ipython3",
   "version": "3.10.4"
  }
 },
 "nbformat": 4,
 "nbformat_minor": 5
}
