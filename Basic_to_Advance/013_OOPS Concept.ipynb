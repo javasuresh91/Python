{
 "cells": [
  {
   "cell_type": "markdown",
   "id": "fe0da2aa",
   "metadata": {},
   "source": [
    "# OOPS in Python"
   ]
  },
  {
   "cell_type": "markdown",
   "id": "8c34b1c6",
   "metadata": {},
   "source": [
    "## Class\n",
    "\n",
    "1. Real world Object\n",
    "2. Consist of various properties like attributes, functions and etc\n",
    "3. Instance can be created usign this class\n",
    "4. Class is the blue print of the object.\n",
    "5. Bad way of creating class is using the <b>PASS</b> keyword inside the class.\n"
   ]
  },
  {
   "cell_type": "code",
   "execution_count": 23,
   "id": "c2fadc31",
   "metadata": {},
   "outputs": [],
   "source": [
    "class car:\n",
    "    pass ##Pass keyword is used to execute the class with out errors which does not have anything for now"
   ]
  },
  {
   "cell_type": "markdown",
   "id": "b89af629",
   "metadata": {},
   "source": [
    "### Instantiate the class"
   ]
  },
  {
   "cell_type": "code",
   "execution_count": 24,
   "id": "41781778",
   "metadata": {},
   "outputs": [
    {
     "data": {
      "text/plain": [
       "<__main__.car at 0x2235c8c8370>"
      ]
     },
     "execution_count": 24,
     "metadata": {},
     "output_type": "execute_result"
    }
   ],
   "source": [
    "ca = car()\n",
    "ca"
   ]
  },
  {
   "cell_type": "markdown",
   "id": "83701950",
   "metadata": {},
   "source": [
    "### Define the properties"
   ]
  },
  {
   "cell_type": "code",
   "execution_count": 25,
   "id": "498d3cfc",
   "metadata": {},
   "outputs": [],
   "source": [
    "ca.window = 5\n",
    "ca.doors = 4"
   ]
  },
  {
   "cell_type": "code",
   "execution_count": 26,
   "id": "790207dc",
   "metadata": {
    "scrolled": true
   },
   "outputs": [
    {
     "name": "stdout",
     "output_type": "stream",
     "text": [
      "<__main__.car object at 0x000002235C8C8370>\n",
      "5\n"
     ]
    }
   ],
   "source": [
    "print(ca)\n",
    "print(ca.window)"
   ]
  },
  {
   "cell_type": "code",
   "execution_count": 27,
   "id": "06a97664",
   "metadata": {},
   "outputs": [
    {
     "name": "stdout",
     "output_type": "stream",
     "text": [
      "<__main__.car object at 0x000002235C8C83A0>\n"
     ]
    },
    {
     "ename": "AttributeError",
     "evalue": "'car' object has no attribute 'windows'",
     "output_type": "error",
     "traceback": [
      "\u001b[1;31m---------------------------------------------------------------------------\u001b[0m",
      "\u001b[1;31mAttributeError\u001b[0m                            Traceback (most recent call last)",
      "\u001b[1;32m~\\AppData\\Local\\Temp/ipykernel_20576/3684747426.py\u001b[0m in \u001b[0;36m<module>\u001b[1;34m\u001b[0m\n\u001b[0;32m      1\u001b[0m \u001b[0mca1\u001b[0m \u001b[1;33m=\u001b[0m \u001b[0mcar\u001b[0m\u001b[1;33m(\u001b[0m\u001b[1;33m)\u001b[0m\u001b[1;33m\u001b[0m\u001b[1;33m\u001b[0m\u001b[0m\n\u001b[0;32m      2\u001b[0m \u001b[0mprint\u001b[0m\u001b[1;33m(\u001b[0m\u001b[0mca1\u001b[0m\u001b[1;33m)\u001b[0m\u001b[1;33m\u001b[0m\u001b[1;33m\u001b[0m\u001b[0m\n\u001b[1;32m----> 3\u001b[1;33m \u001b[0mprint\u001b[0m\u001b[1;33m(\u001b[0m\u001b[0mca1\u001b[0m\u001b[1;33m.\u001b[0m\u001b[0mwindows\u001b[0m\u001b[1;33m)\u001b[0m \u001b[1;31m## So ca and c1 is not similar we should we its own properties for the new Instantiate object\u001b[0m\u001b[1;33m\u001b[0m\u001b[1;33m\u001b[0m\u001b[0m\n\u001b[0m",
      "\u001b[1;31mAttributeError\u001b[0m: 'car' object has no attribute 'windows'"
     ]
    }
   ],
   "source": [
    "ca1 = car()\n",
    "print(ca1)\n",
    "print(ca1.windows) ## So ca and c1 is not similar we should we its own properties for the new Instantiate object"
   ]
  },
  {
   "cell_type": "code",
   "execution_count": 28,
   "id": "8838123b",
   "metadata": {},
   "outputs": [],
   "source": [
    "ca1.window = 3"
   ]
  },
  {
   "cell_type": "code",
   "execution_count": 29,
   "id": "d8a30a70",
   "metadata": {},
   "outputs": [
    {
     "name": "stdout",
     "output_type": "stream",
     "text": [
      "3\n",
      "5\n"
     ]
    }
   ],
   "source": [
    "print(ca1.window)\n",
    "print(ca.window)"
   ]
  },
  {
   "cell_type": "code",
   "execution_count": 30,
   "id": "86bf0eeb",
   "metadata": {},
   "outputs": [
    {
     "data": {
      "text/plain": [
       "['__class__',\n",
       " '__delattr__',\n",
       " '__dict__',\n",
       " '__dir__',\n",
       " '__doc__',\n",
       " '__eq__',\n",
       " '__format__',\n",
       " '__ge__',\n",
       " '__getattribute__',\n",
       " '__gt__',\n",
       " '__hash__',\n",
       " '__init__',\n",
       " '__init_subclass__',\n",
       " '__le__',\n",
       " '__lt__',\n",
       " '__module__',\n",
       " '__ne__',\n",
       " '__new__',\n",
       " '__reduce__',\n",
       " '__reduce_ex__',\n",
       " '__repr__',\n",
       " '__setattr__',\n",
       " '__sizeof__',\n",
       " '__str__',\n",
       " '__subclasshook__',\n",
       " '__weakref__',\n",
       " 'doors',\n",
       " 'window']"
      ]
     },
     "execution_count": 30,
     "metadata": {},
     "output_type": "execute_result"
    }
   ],
   "source": [
    "## To check the what are the in-build function in the class\n",
    "dir(ca)"
   ]
  },
  {
   "cell_type": "markdown",
   "id": "bb5673fe",
   "metadata": {},
   "source": [
    "#### Problem in creating the properties for each Object by its own will create a bad approach because anyone can create any properties for this class. "
   ]
  },
  {
   "cell_type": "markdown",
   "id": "8a1c0448",
   "metadata": {},
   "source": [
    "### Define the Variables/Properties\n",
    "\n",
    "#### To overcome above problem, we should use __init__ pre-defined method, which is basically know as constructor in python"
   ]
  },
  {
   "cell_type": "code",
   "execution_count": 31,
   "id": "b40bf58d",
   "metadata": {},
   "outputs": [],
   "source": [
    "class car:\n",
    "    def __init__(self,window,door,enginetype):  ## self keyword speaks about current instance(object) of this class and its own property values\n",
    "        self.window = window\n",
    "        self.door=door\n",
    "        self.enginetype=enginetype"
   ]
  },
  {
   "cell_type": "code",
   "execution_count": 32,
   "id": "5356a399",
   "metadata": {},
   "outputs": [
    {
     "ename": "TypeError",
     "evalue": "__init__() missing 3 required positional arguments: 'window', 'door', and 'enginetype'",
     "output_type": "error",
     "traceback": [
      "\u001b[1;31m---------------------------------------------------------------------------\u001b[0m",
      "\u001b[1;31mTypeError\u001b[0m                                 Traceback (most recent call last)",
      "\u001b[1;32m~\\AppData\\Local\\Temp/ipykernel_20576/3490220116.py\u001b[0m in \u001b[0;36m<module>\u001b[1;34m\u001b[0m\n\u001b[1;32m----> 1\u001b[1;33m \u001b[0mca\u001b[0m \u001b[1;33m=\u001b[0m \u001b[0mcar\u001b[0m\u001b[1;33m(\u001b[0m\u001b[1;33m)\u001b[0m \u001b[1;31m## If we try to create a object without properties which we gave in the init method\u001b[0m\u001b[1;33m\u001b[0m\u001b[1;33m\u001b[0m\u001b[0m\n\u001b[0m",
      "\u001b[1;31mTypeError\u001b[0m: __init__() missing 3 required positional arguments: 'window', 'door', and 'enginetype'"
     ]
    }
   ],
   "source": [
    "ca = car() ## If we try to create a object without properties which we gave in the init method"
   ]
  },
  {
   "cell_type": "code",
   "execution_count": 33,
   "id": "f3371c73",
   "metadata": {},
   "outputs": [],
   "source": [
    "ca = car(5,4,\"Petrol\") ## When this line is executed, the init method is called adn the values are initiate "
   ]
  },
  {
   "cell_type": "code",
   "execution_count": 34,
   "id": "d1f0f7e7",
   "metadata": {},
   "outputs": [],
   "source": [
    "ca1 = car(3,5,\"Diesel\")"
   ]
  },
  {
   "cell_type": "code",
   "execution_count": 35,
   "id": "ff2d7b75",
   "metadata": {},
   "outputs": [
    {
     "name": "stdout",
     "output_type": "stream",
     "text": [
      "<__main__.car object at 0x000002235C8C8F10>\n",
      "<__main__.car object at 0x000002235C8C87F0>\n",
      "5\n",
      "3\n"
     ]
    }
   ],
   "source": [
    "print(ca)\n",
    "print(ca1)\n",
    "print(ca.window)\n",
    "print(ca1.window)"
   ]
  },
  {
   "cell_type": "markdown",
   "id": "469d7963",
   "metadata": {},
   "source": [
    "###  Adding user defined Function or method to the class"
   ]
  },
  {
   "cell_type": "code",
   "execution_count": 36,
   "id": "bba70837",
   "metadata": {},
   "outputs": [],
   "source": [
    "class car:\n",
    "    def __init__(self,window,door,enginetype):\n",
    "        self.window = window\n",
    "        self.door=door\n",
    "        self.enginetype=enginetype\n",
    "    def get_engine_type(self): ## self keyword is used to get the current object of this class\n",
    "        return \"This car has {} type engine\".format(self.enginetype)"
   ]
  },
  {
   "cell_type": "code",
   "execution_count": 37,
   "id": "07d0c9ce",
   "metadata": {},
   "outputs": [],
   "source": [
    "ca = car(4,3,\"Petrol\")\n",
    "ca1 = car(4,2,\"Diesel\")"
   ]
  },
  {
   "cell_type": "code",
   "execution_count": 38,
   "id": "e3d54713",
   "metadata": {},
   "outputs": [
    {
     "name": "stdout",
     "output_type": "stream",
     "text": [
      "This car has Petrol type engine\n",
      "This car has Diesel type engine\n"
     ]
    }
   ],
   "source": [
    "print(ca.get_engine_type())\n",
    "print(ca1.get_engine_type())"
   ]
  },
  {
   "cell_type": "markdown",
   "id": "56366e20",
   "metadata": {},
   "source": [
    "## Some default(in-build) Methods in class\n",
    "\n",
    "if we put dir(<class_insatnce_variable>) we can see all the methods and it can be also override adn the default behaviour"
   ]
  },
  {
   "cell_type": "code",
   "execution_count": 44,
   "id": "e8caee89",
   "metadata": {},
   "outputs": [],
   "source": [
    "class bike:\n",
    "    def __init__(self,handle,brake,enginetype):\n",
    "        self.handle = handle\n",
    "        self.brake=brake\n",
    "        self.enginetype=enginetype"
   ]
  },
  {
   "cell_type": "code",
   "execution_count": 45,
   "id": "7fe04dbc",
   "metadata": {},
   "outputs": [
    {
     "data": {
      "text/plain": [
       "['__class__',\n",
       " '__delattr__',\n",
       " '__dict__',\n",
       " '__dir__',\n",
       " '__doc__',\n",
       " '__eq__',\n",
       " '__format__',\n",
       " '__ge__',\n",
       " '__getattribute__',\n",
       " '__gt__',\n",
       " '__hash__',\n",
       " '__init__',\n",
       " '__init_subclass__',\n",
       " '__le__',\n",
       " '__lt__',\n",
       " '__module__',\n",
       " '__ne__',\n",
       " '__new__',\n",
       " '__reduce__',\n",
       " '__reduce_ex__',\n",
       " '__repr__',\n",
       " '__setattr__',\n",
       " '__sizeof__',\n",
       " '__str__',\n",
       " '__subclasshook__',\n",
       " '__weakref__',\n",
       " 'brake',\n",
       " 'enginetype',\n",
       " 'handle']"
      ]
     },
     "execution_count": 45,
     "metadata": {},
     "output_type": "execute_result"
    }
   ],
   "source": [
    "bii= bike(\"good\",\"disk\",\"petrol\")\n",
    "dir(bii)"
   ]
  },
  {
   "cell_type": "code",
   "execution_count": 50,
   "id": "1fd83e05",
   "metadata": {},
   "outputs": [
    {
     "name": "stdout",
     "output_type": "stream",
     "text": [
      "<__main__.bike object at 0x000002235C904B80>\n",
      "32\n"
     ]
    }
   ],
   "source": [
    "print(bii) ## To print the below the implicitly __str__ is called\n",
    "print(bii.__sizeof__()) "
   ]
  },
  {
   "cell_type": "code",
   "execution_count": 85,
   "id": "0b598bd0",
   "metadata": {},
   "outputs": [],
   "source": [
    "class bike:  \n",
    "    def __init__(self,handle,brake,enginetype):\n",
    "        self.handle = handle\n",
    "        self.brake=brake\n",
    "        self.enginetype=enginetype    \n",
    "    def __str__(self):\n",
    "        return \"String format\"\n",
    "    def __sizeof__(self):\n",
    "        return \"Size\""
   ]
  },
  {
   "cell_type": "code",
   "execution_count": 86,
   "id": "50fb04d7",
   "metadata": {},
   "outputs": [],
   "source": [
    "bii1 = bike(\"good\",\"disk\",\"petrol\")"
   ]
  },
  {
   "cell_type": "code",
   "execution_count": 87,
   "id": "28d32d28",
   "metadata": {},
   "outputs": [
    {
     "name": "stdout",
     "output_type": "stream",
     "text": [
      "String format\n"
     ]
    }
   ],
   "source": [
    "print(bii1)"
   ]
  },
  {
   "cell_type": "code",
   "execution_count": null,
   "id": "ba2b0a23",
   "metadata": {},
   "outputs": [],
   "source": []
  },
  {
   "cell_type": "code",
   "execution_count": null,
   "id": "8f4e5301",
   "metadata": {},
   "outputs": [],
   "source": []
  },
  {
   "cell_type": "code",
   "execution_count": null,
   "id": "b90c9812",
   "metadata": {},
   "outputs": [],
   "source": []
  },
  {
   "cell_type": "code",
   "execution_count": null,
   "id": "3508d7ab",
   "metadata": {},
   "outputs": [],
   "source": []
  },
  {
   "cell_type": "code",
   "execution_count": null,
   "id": "4d034805",
   "metadata": {},
   "outputs": [],
   "source": []
  },
  {
   "cell_type": "code",
   "execution_count": null,
   "id": "090865e3",
   "metadata": {},
   "outputs": [],
   "source": []
  },
  {
   "cell_type": "code",
   "execution_count": null,
   "id": "38d8c2f6",
   "metadata": {},
   "outputs": [],
   "source": []
  },
  {
   "cell_type": "markdown",
   "id": "e9dd0a8f",
   "metadata": {},
   "source": [
    "## Inheritance"
   ]
  },
  {
   "cell_type": "code",
   "execution_count": 39,
   "id": "9853ec52",
   "metadata": {},
   "outputs": [],
   "source": [
    "class Audit(car):\n",
    "    def __init__(self,window,door,enginetype,aienabled):\n",
    "        super().__init__(window,door,enginetype) ## Inherit and use the property in the parent class\n",
    "        self.aienabled=aienabled ## initialize for this class\n",
    "    def selfdriving(self):\n",
    "        print(\"Audit has self driving also\")"
   ]
  },
  {
   "cell_type": "code",
   "execution_count": 40,
   "id": "dbe8ed52",
   "metadata": {},
   "outputs": [],
   "source": [
    "au = Audit(5,4,\"Diesel\",True)"
   ]
  },
  {
   "cell_type": "code",
   "execution_count": 41,
   "id": "041175ec",
   "metadata": {},
   "outputs": [
    {
     "data": {
      "text/plain": [
       "['__class__',\n",
       " '__delattr__',\n",
       " '__dict__',\n",
       " '__dir__',\n",
       " '__doc__',\n",
       " '__eq__',\n",
       " '__format__',\n",
       " '__ge__',\n",
       " '__getattribute__',\n",
       " '__gt__',\n",
       " '__hash__',\n",
       " '__init__',\n",
       " '__init_subclass__',\n",
       " '__le__',\n",
       " '__lt__',\n",
       " '__module__',\n",
       " '__ne__',\n",
       " '__new__',\n",
       " '__reduce__',\n",
       " '__reduce_ex__',\n",
       " '__repr__',\n",
       " '__setattr__',\n",
       " '__sizeof__',\n",
       " '__str__',\n",
       " '__subclasshook__',\n",
       " '__weakref__',\n",
       " 'aienabled',\n",
       " 'door',\n",
       " 'enginetype',\n",
       " 'get_engine_type',\n",
       " 'selfdriving',\n",
       " 'window']"
      ]
     },
     "execution_count": 41,
     "metadata": {},
     "output_type": "execute_result"
    }
   ],
   "source": [
    "dir(au)"
   ]
  },
  {
   "cell_type": "code",
   "execution_count": 43,
   "id": "705c62cf",
   "metadata": {},
   "outputs": [
    {
     "name": "stdout",
     "output_type": "stream",
     "text": [
      "4\n",
      "True\n",
      "This car has Diesel type engine\n",
      "Audit has self driving also\n"
     ]
    }
   ],
   "source": [
    "print(au.door)\n",
    "print(au.aienabled)\n",
    "print(au.get_engine_type())\n",
    "au.selfdriving()"
   ]
  },
  {
   "cell_type": "markdown",
   "id": "ad73804b",
   "metadata": {},
   "source": [
    "## Multiple Inheritance"
   ]
  },
  {
   "cell_type": "code",
   "execution_count": 1,
   "id": "d12cba29",
   "metadata": {},
   "outputs": [],
   "source": [
    "class A:\n",
    "    def method_one(self):\n",
    "        print(\"A class method_one is called\")"
   ]
  },
  {
   "cell_type": "code",
   "execution_count": 2,
   "id": "58263f9b",
   "metadata": {},
   "outputs": [],
   "source": [
    "class B(A):\n",
    "    def method_one(self):\n",
    "        print(\"B class method_one is called\")\n",
    "    def method_two(self):\n",
    "        print(\"B class method_two is called\")"
   ]
  },
  {
   "cell_type": "code",
   "execution_count": 3,
   "id": "327f9d9d",
   "metadata": {},
   "outputs": [],
   "source": [
    "class C(A):\n",
    "    def method_one(self):\n",
    "        print(\"C class methos_one is called\")"
   ]
  },
  {
   "cell_type": "code",
   "execution_count": 4,
   "id": "c4e19d54",
   "metadata": {},
   "outputs": [],
   "source": [
    "class D(C,B): ## MUltiple Inheritance\n",
    "    def method_one(self):\n",
    "        print(\"D class method_one is called\")"
   ]
  },
  {
   "cell_type": "code",
   "execution_count": 5,
   "id": "d597e817",
   "metadata": {},
   "outputs": [
    {
     "name": "stdout",
     "output_type": "stream",
     "text": [
      "D class method_one is called\n"
     ]
    }
   ],
   "source": [
    "d= D()\n",
    "d.method_one()"
   ]
  },
  {
   "cell_type": "markdown",
   "id": "d88ed51b",
   "metadata": {},
   "source": [
    "### To call the methods in the parent class from child class"
   ]
  },
  {
   "cell_type": "code",
   "execution_count": 7,
   "id": "c0482aa7",
   "metadata": {},
   "outputs": [
    {
     "name": "stdout",
     "output_type": "stream",
     "text": [
      "B class method_two is called\n"
     ]
    }
   ],
   "source": [
    "d.method_two()"
   ]
  },
  {
   "cell_type": "code",
   "execution_count": 8,
   "id": "d8c69c16",
   "metadata": {},
   "outputs": [
    {
     "name": "stdout",
     "output_type": "stream",
     "text": [
      "B class method_one is called\n"
     ]
    }
   ],
   "source": [
    "B.method_one(d)"
   ]
  },
  {
   "cell_type": "code",
   "execution_count": 10,
   "id": "5126454c",
   "metadata": {},
   "outputs": [
    {
     "name": "stdout",
     "output_type": "stream",
     "text": [
      "A class method_one is called\n"
     ]
    }
   ],
   "source": [
    "A.method_one(d)"
   ]
  },
  {
   "cell_type": "code",
   "execution_count": 17,
   "id": "fa2206be",
   "metadata": {},
   "outputs": [],
   "source": [
    "class E:\n",
    "    def method1(self):\n",
    "        print(\"E class Method 1 called\")\n",
    "class F(E):\n",
    "    def method1(self):\n",
    "        print(\"F class method 1 called\")\n",
    "        E.method1(self)\n",
    "class G(F):\n",
    "    def method1(self):\n",
    "        print(\"G class method 1 called\")\n",
    "        F.method1(self) ## We can call the parent method in this way too"
   ]
  },
  {
   "cell_type": "code",
   "execution_count": 18,
   "id": "98cbb549",
   "metadata": {},
   "outputs": [],
   "source": [
    "g = G()"
   ]
  },
  {
   "cell_type": "code",
   "execution_count": 19,
   "id": "12ee22e3",
   "metadata": {},
   "outputs": [
    {
     "name": "stdout",
     "output_type": "stream",
     "text": [
      "G class method 1 called\n",
      "F class method 1 called\n",
      "E class Method 1 called\n"
     ]
    }
   ],
   "source": [
    "g.method1()"
   ]
  },
  {
   "cell_type": "markdown",
   "id": "bba364c9",
   "metadata": {},
   "source": [
    "## Access Modifiers - Public , Protected And Private"
   ]
  },
  {
   "cell_type": "markdown",
   "id": "ccaf4e2d",
   "metadata": {},
   "source": [
    "#### Public Variable\n",
    "1. Without access modifiers, all variables in the class are public variables\n",
    "2. \n",
    "#### Protected Variable\n",
    "1. Starts with Underscore\n",
    "2. Value are can be overwritten, but it should be done in sub class\n",
    "3. It can be accessible in the sub class\n",
    "\n",
    "#### Private Variable\n",
    "1. It cannot be access outside the class\n",
    "2. It cannot be overwritten the value\n",
    "3. Starts with double underscore\n",
    "4. We can give th evaule at the time of Initialize the object"
   ]
  },
  {
   "cell_type": "code",
   "execution_count": 10,
   "id": "79d19288",
   "metadata": {},
   "outputs": [],
   "source": [
    "class Car:\n",
    "    def __init__(self,doors,windows,eng):\n",
    "        self.doors = doors ## public variables\n",
    "        self._win = windows ## Protected Variable \n",
    "        self.__engg = eng        "
   ]
  },
  {
   "cell_type": "code",
   "execution_count": 11,
   "id": "d514714c",
   "metadata": {},
   "outputs": [],
   "source": [
    "audit = Car(5,2,\"Petrol\")"
   ]
  },
  {
   "cell_type": "code",
   "execution_count": 12,
   "id": "c10777d4",
   "metadata": {},
   "outputs": [
    {
     "data": {
      "text/plain": [
       "<__main__.Car at 0x1d3b36a7f70>"
      ]
     },
     "execution_count": 12,
     "metadata": {},
     "output_type": "execute_result"
    }
   ],
   "source": [
    "audit"
   ]
  },
  {
   "cell_type": "code",
   "execution_count": 13,
   "id": "88976dc4",
   "metadata": {},
   "outputs": [
    {
     "data": {
      "text/plain": [
       "['_Car__engg',\n",
       " '__class__',\n",
       " '__delattr__',\n",
       " '__dict__',\n",
       " '__dir__',\n",
       " '__doc__',\n",
       " '__eq__',\n",
       " '__format__',\n",
       " '__ge__',\n",
       " '__getattribute__',\n",
       " '__gt__',\n",
       " '__hash__',\n",
       " '__init__',\n",
       " '__init_subclass__',\n",
       " '__le__',\n",
       " '__lt__',\n",
       " '__module__',\n",
       " '__ne__',\n",
       " '__new__',\n",
       " '__reduce__',\n",
       " '__reduce_ex__',\n",
       " '__repr__',\n",
       " '__setattr__',\n",
       " '__sizeof__',\n",
       " '__str__',\n",
       " '__subclasshook__',\n",
       " '__weakref__',\n",
       " '_win',\n",
       " 'doors']"
      ]
     },
     "execution_count": 13,
     "metadata": {},
     "output_type": "execute_result"
    }
   ],
   "source": [
    "dir(audit)"
   ]
  },
  {
   "cell_type": "code",
   "execution_count": null,
   "id": "e6f530b0",
   "metadata": {},
   "outputs": [],
   "source": []
  },
  {
   "cell_type": "code",
   "execution_count": null,
   "id": "fe4a9065",
   "metadata": {},
   "outputs": [],
   "source": []
  }
 ],
 "metadata": {
  "kernelspec": {
   "display_name": "Python 3 (ipykernel)",
   "language": "python",
   "name": "python3"
  },
  "language_info": {
   "codemirror_mode": {
    "name": "ipython",
    "version": 3
   },
   "file_extension": ".py",
   "mimetype": "text/x-python",
   "name": "python",
   "nbconvert_exporter": "python",
   "pygments_lexer": "ipython3",
   "version": "3.9.7"
  }
 },
 "nbformat": 4,
 "nbformat_minor": 5
}
