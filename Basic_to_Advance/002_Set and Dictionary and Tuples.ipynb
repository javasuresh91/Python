{
 "cells": [
  {
   "cell_type": "markdown",
   "id": "9860b7e8",
   "metadata": {},
   "source": [
    "# Sets\n",
    "Ordered Collection,\n",
    "Iterable,\n",
    "Mutable,\n",
    "Has no duplicate elements,\n",
    "Basic Data structure called hashtable used,\n",
    "Indexing is not supported"
   ]
  },
  {
   "cell_type": "code",
   "execution_count": 3,
   "id": "c1310870",
   "metadata": {},
   "outputs": [
    {
     "name": "stdout",
     "output_type": "stream",
     "text": [
      "set()\n",
      "<class 'set'>\n"
     ]
    }
   ],
   "source": [
    "#Empty Sets\n",
    "set_var = set()\n",
    "print(set_var)\n",
    "print(type(set_var))"
   ]
  },
  {
   "cell_type": "code",
   "execution_count": 4,
   "id": "0f792e9a",
   "metadata": {},
   "outputs": [],
   "source": [
    "set_var = {1,2,3,4,5,5}"
   ]
  },
  {
   "cell_type": "code",
   "execution_count": 5,
   "id": "cc59fe15",
   "metadata": {},
   "outputs": [
    {
     "name": "stdout",
     "output_type": "stream",
     "text": [
      "{1, 2, 3, 4, 5}\n"
     ]
    }
   ],
   "source": [
    "# Removed duplicate automatically\n",
    "print(set_var)"
   ]
  },
  {
   "cell_type": "code",
   "execution_count": 4,
   "id": "a42a07d5",
   "metadata": {},
   "outputs": [],
   "source": [
    "set_var = {\"Zebra\",\"Horse\",\"Cat\"}"
   ]
  },
  {
   "cell_type": "code",
   "execution_count": 5,
   "id": "a9ee7f43",
   "metadata": {},
   "outputs": [
    {
     "name": "stdout",
     "output_type": "stream",
     "text": [
      "{'Horse', 'Cat', 'Zebra'}\n"
     ]
    }
   ],
   "source": [
    "#Ordering\n",
    "print(set_var)"
   ]
  },
  {
   "cell_type": "code",
   "execution_count": 6,
   "id": "6431598d",
   "metadata": {},
   "outputs": [
    {
     "ename": "TypeError",
     "evalue": "'set' object is not subscriptable",
     "output_type": "error",
     "traceback": [
      "\u001b[1;31m---------------------------------------------------------------------------\u001b[0m",
      "\u001b[1;31mTypeError\u001b[0m                                 Traceback (most recent call last)",
      "\u001b[1;32m~\\AppData\\Local\\Temp/ipykernel_8936/828687637.py\u001b[0m in \u001b[0;36m<module>\u001b[1;34m\u001b[0m\n\u001b[0;32m      1\u001b[0m \u001b[1;31m#Indexing\u001b[0m\u001b[1;33m\u001b[0m\u001b[1;33m\u001b[0m\u001b[0m\n\u001b[1;32m----> 2\u001b[1;33m \u001b[0mset_var\u001b[0m\u001b[1;33m[\u001b[0m\u001b[1;36m0\u001b[0m\u001b[1;33m]\u001b[0m\u001b[1;33m\u001b[0m\u001b[1;33m\u001b[0m\u001b[0m\n\u001b[0m",
      "\u001b[1;31mTypeError\u001b[0m: 'set' object is not subscriptable"
     ]
    }
   ],
   "source": [
    "#Indexing\n",
    "set_var[0]"
   ]
  },
  {
   "cell_type": "code",
   "execution_count": 7,
   "id": "ee5b4af6",
   "metadata": {},
   "outputs": [
    {
     "ename": "TypeError",
     "evalue": "'set' object is not subscriptable",
     "output_type": "error",
     "traceback": [
      "\u001b[1;31m---------------------------------------------------------------------------\u001b[0m",
      "\u001b[1;31mTypeError\u001b[0m                                 Traceback (most recent call last)",
      "\u001b[1;32m~\\AppData\\Local\\Temp/ipykernel_8936/336632175.py\u001b[0m in \u001b[0;36m<module>\u001b[1;34m\u001b[0m\n\u001b[1;32m----> 1\u001b[1;33m \u001b[0mset_var\u001b[0m\u001b[1;33m[\u001b[0m\u001b[1;34m\"Cat\"\u001b[0m\u001b[1;33m]\u001b[0m\u001b[1;33m\u001b[0m\u001b[1;33m\u001b[0m\u001b[0m\n\u001b[0m",
      "\u001b[1;31mTypeError\u001b[0m: 'set' object is not subscriptable"
     ]
    }
   ],
   "source": [
    "set_var[\"Cat\"]"
   ]
  },
  {
   "cell_type": "code",
   "execution_count": 8,
   "id": "12e60fb7",
   "metadata": {},
   "outputs": [],
   "source": [
    "#adding\n",
    "set_var.add(\"Ant\")"
   ]
  },
  {
   "cell_type": "code",
   "execution_count": 9,
   "id": "537e6f4d",
   "metadata": {},
   "outputs": [
    {
     "name": "stdout",
     "output_type": "stream",
     "text": [
      "{'Ant', 'Horse', 'Cat', 'Zebra'}\n"
     ]
    }
   ],
   "source": [
    "print(set_var)"
   ]
  },
  {
   "cell_type": "code",
   "execution_count": 10,
   "id": "3808beb7",
   "metadata": {},
   "outputs": [],
   "source": [
    "set1={\"Cat\",\"Zebra\",\"Horse\"}\n",
    "set2={\"Cat\",\"Zebra\",\"Horse\",\"Ant\"}"
   ]
  },
  {
   "cell_type": "code",
   "execution_count": 11,
   "id": "c301777e",
   "metadata": {},
   "outputs": [
    {
     "data": {
      "text/plain": [
       "{'Cat', 'Horse', 'Zebra'}"
      ]
     },
     "execution_count": 11,
     "metadata": {},
     "output_type": "execute_result"
    }
   ],
   "source": [
    "set2.intersection(set1)"
   ]
  },
  {
   "cell_type": "code",
   "execution_count": 12,
   "id": "6c2736d9",
   "metadata": {},
   "outputs": [
    {
     "data": {
      "text/plain": [
       "set()"
      ]
     },
     "execution_count": 12,
     "metadata": {},
     "output_type": "execute_result"
    }
   ],
   "source": [
    "set1.difference(set2)"
   ]
  },
  {
   "cell_type": "code",
   "execution_count": 13,
   "id": "f0f82bac",
   "metadata": {},
   "outputs": [
    {
     "data": {
      "text/plain": [
       "{'Ant'}"
      ]
     },
     "execution_count": 13,
     "metadata": {},
     "output_type": "execute_result"
    }
   ],
   "source": [
    "set2.difference(set1)"
   ]
  },
  {
   "cell_type": "code",
   "execution_count": 14,
   "id": "5dd04daf",
   "metadata": {},
   "outputs": [],
   "source": [
    "set2.difference_update(set1)"
   ]
  },
  {
   "cell_type": "code",
   "execution_count": 15,
   "id": "db2bcce9",
   "metadata": {},
   "outputs": [
    {
     "name": "stdout",
     "output_type": "stream",
     "text": [
      "{'Ant'}\n"
     ]
    }
   ],
   "source": [
    "print(set2)"
   ]
  },
  {
   "cell_type": "code",
   "execution_count": 33,
   "id": "b1b55e55",
   "metadata": {},
   "outputs": [
    {
     "name": "stdout",
     "output_type": "stream",
     "text": [
      "Horse\n",
      "Cat\n",
      "Zebra\n"
     ]
    }
   ],
   "source": [
    "for x in set1:\n",
    "    print(x.capitalize())"
   ]
  },
  {
   "cell_type": "markdown",
   "id": "85365a6a",
   "metadata": {},
   "source": [
    "# Dictionary\n",
    "UnOrdered Collection,\n",
    "Changable,\n",
    "Has no duplicate keys,\n",
    "Indexing is supported"
   ]
  },
  {
   "cell_type": "code",
   "execution_count": 16,
   "id": "4d4fae96",
   "metadata": {},
   "outputs": [],
   "source": [
    "dic={}\n",
    "em_dic = dict()"
   ]
  },
  {
   "cell_type": "code",
   "execution_count": 17,
   "id": "ddeaabdb",
   "metadata": {},
   "outputs": [
    {
     "name": "stdout",
     "output_type": "stream",
     "text": [
      "<class 'dict'>\n",
      "<class 'dict'>\n"
     ]
    }
   ],
   "source": [
    "print(type(dic))\n",
    "print(type(em_dic))"
   ]
  },
  {
   "cell_type": "code",
   "execution_count": 18,
   "id": "20c852f7",
   "metadata": {},
   "outputs": [],
   "source": [
    "dic={1,3,4}"
   ]
  },
  {
   "cell_type": "code",
   "execution_count": 19,
   "id": "0cce2770",
   "metadata": {},
   "outputs": [
    {
     "name": "stdout",
     "output_type": "stream",
     "text": [
      "<class 'set'>\n"
     ]
    }
   ],
   "source": [
    "#IF you give value instead of key:value the Dictionary will change to Set\n",
    "print(type(dic))"
   ]
  },
  {
   "cell_type": "code",
   "execution_count": 20,
   "id": "4a432374",
   "metadata": {},
   "outputs": [],
   "source": [
    "dic={\"Key1\":\"A\",\"Key2\":\"B\"}"
   ]
  },
  {
   "cell_type": "code",
   "execution_count": 21,
   "id": "212eda67",
   "metadata": {},
   "outputs": [
    {
     "name": "stdout",
     "output_type": "stream",
     "text": [
      "{'Key1': 'A', 'Key2': 'B'}\n",
      "<class 'dict'>\n"
     ]
    }
   ],
   "source": [
    "print(dic)\n",
    "print(type(dic))"
   ]
  },
  {
   "cell_type": "code",
   "execution_count": 22,
   "id": "c517b453",
   "metadata": {},
   "outputs": [
    {
     "name": "stdout",
     "output_type": "stream",
     "text": [
      "A\n"
     ]
    }
   ],
   "source": [
    "#Access the items using keys\n",
    "print(dic['Key1'])"
   ]
  },
  {
   "cell_type": "code",
   "execution_count": 23,
   "id": "f81bb1fc",
   "metadata": {},
   "outputs": [
    {
     "name": "stdout",
     "output_type": "stream",
     "text": [
      "Key1\n",
      "Key2\n"
     ]
    }
   ],
   "source": [
    "for x in dic:\n",
    "    print(x)"
   ]
  },
  {
   "cell_type": "code",
   "execution_count": 24,
   "id": "7071d3d6",
   "metadata": {},
   "outputs": [
    {
     "name": "stdout",
     "output_type": "stream",
     "text": [
      "A\n",
      "B\n"
     ]
    }
   ],
   "source": [
    "for x in dic.values():\n",
    "    print(x)"
   ]
  },
  {
   "cell_type": "code",
   "execution_count": 25,
   "id": "1ee85cfb",
   "metadata": {},
   "outputs": [
    {
     "name": "stdout",
     "output_type": "stream",
     "text": [
      "('Key1', 'A')\n",
      "('Key2', 'B')\n"
     ]
    }
   ],
   "source": [
    "for x in dic.items():\n",
    "    print(x)"
   ]
  },
  {
   "cell_type": "code",
   "execution_count": 27,
   "id": "e499f6c3",
   "metadata": {},
   "outputs": [],
   "source": [
    "# Update the values using keys\n",
    "dic[\"Key1\"]=\"Z\""
   ]
  },
  {
   "cell_type": "code",
   "execution_count": 28,
   "id": "40e99979",
   "metadata": {},
   "outputs": [
    {
     "name": "stdout",
     "output_type": "stream",
     "text": [
      "{'Key1': 'Z', 'Key2': 'B'}\n"
     ]
    }
   ],
   "source": [
    "print(dic)"
   ]
  },
  {
   "cell_type": "code",
   "execution_count": 29,
   "id": "fd4708de",
   "metadata": {},
   "outputs": [],
   "source": [
    "#Adding\n",
    "dic[\"Key3\"] = \"r\""
   ]
  },
  {
   "cell_type": "code",
   "execution_count": 30,
   "id": "c77a21e6",
   "metadata": {},
   "outputs": [
    {
     "name": "stdout",
     "output_type": "stream",
     "text": [
      "{'Key1': 'Z', 'Key2': 'B', 'Key3': 'r'}\n"
     ]
    }
   ],
   "source": [
    "print(dic)"
   ]
  },
  {
   "cell_type": "markdown",
   "id": "719c2195",
   "metadata": {},
   "source": [
    "# Nested Dictionary"
   ]
  },
  {
   "cell_type": "code",
   "execution_count": 34,
   "id": "fdf5232b",
   "metadata": {},
   "outputs": [],
   "source": [
    "dic1={\"Age\":20}\n",
    "dic2={\"Age\":30}\n",
    "\n",
    "resdic = {\"data1\":dic1,\"data2\":dic2}"
   ]
  },
  {
   "cell_type": "code",
   "execution_count": 36,
   "id": "c29a4306",
   "metadata": {},
   "outputs": [
    {
     "name": "stdout",
     "output_type": "stream",
     "text": [
      "{'Age': 20}\n",
      "{'data1': {'Age': 20}, 'data2': {'Age': 30}}\n",
      "{'Age': 20}\n",
      "20\n"
     ]
    }
   ],
   "source": [
    "print(dic1)\n",
    "print(resdic)\n",
    "print(resdic[\"data1\"])\n",
    "print(resdic[\"data1\"][\"Age\"])"
   ]
  },
  {
   "cell_type": "markdown",
   "id": "a7c7ec12",
   "metadata": {},
   "source": [
    "# Tuples\n",
    "Non Mutuable elemetns\n"
   ]
  },
  {
   "cell_type": "code",
   "execution_count": 9,
   "id": "98b6e918",
   "metadata": {},
   "outputs": [],
   "source": [
    "#Empty\n",
    "tup = tuple()\n",
    "tup1 = ()"
   ]
  },
  {
   "cell_type": "code",
   "execution_count": 10,
   "id": "2c6b7dff",
   "metadata": {},
   "outputs": [
    {
     "name": "stdout",
     "output_type": "stream",
     "text": [
      "<class 'tuple'>\n",
      "<class 'tuple'>\n"
     ]
    }
   ],
   "source": [
    "print(type(tup))\n",
    "print(type(tup1))"
   ]
  },
  {
   "cell_type": "code",
   "execution_count": 11,
   "id": "a8753f50",
   "metadata": {},
   "outputs": [],
   "source": [
    "my_tup=(\"A\",\"C\",\"B\")"
   ]
  },
  {
   "cell_type": "code",
   "execution_count": 12,
   "id": "17741cba",
   "metadata": {},
   "outputs": [
    {
     "name": "stdout",
     "output_type": "stream",
     "text": [
      "('A', 'C', 'B')\n"
     ]
    }
   ],
   "source": [
    "print(my_tup)"
   ]
  },
  {
   "cell_type": "code",
   "execution_count": 13,
   "id": "cdbf8a4b",
   "metadata": {},
   "outputs": [
    {
     "ename": "TypeError",
     "evalue": "'tuple' object does not support item assignment",
     "output_type": "error",
     "traceback": [
      "\u001b[1;31m---------------------------------------------------------------------------\u001b[0m",
      "\u001b[1;31mTypeError\u001b[0m                                 Traceback (most recent call last)",
      "\u001b[1;32m~\\AppData\\Local\\Temp/ipykernel_8936/2844804664.py\u001b[0m in \u001b[0;36m<module>\u001b[1;34m\u001b[0m\n\u001b[0;32m      1\u001b[0m \u001b[1;31m#Elements are not changeable\u001b[0m\u001b[1;33m\u001b[0m\u001b[1;33m\u001b[0m\u001b[0m\n\u001b[1;32m----> 2\u001b[1;33m \u001b[0mmy_tup\u001b[0m\u001b[1;33m[\u001b[0m\u001b[1;36m0\u001b[0m\u001b[1;33m]\u001b[0m \u001b[1;33m=\u001b[0m \u001b[1;34m\"V\"\u001b[0m\u001b[1;33m\u001b[0m\u001b[1;33m\u001b[0m\u001b[0m\n\u001b[0m",
      "\u001b[1;31mTypeError\u001b[0m: 'tuple' object does not support item assignment"
     ]
    }
   ],
   "source": [
    "#Elements are not changeable\n",
    "my_tup[0] = \"V\""
   ]
  },
  {
   "cell_type": "code",
   "execution_count": 47,
   "id": "95c75e5f",
   "metadata": {},
   "outputs": [],
   "source": [
    "#Tuples are changeable \n",
    "my_tup = (\"N\",\"R\")"
   ]
  },
  {
   "cell_type": "code",
   "execution_count": 46,
   "id": "5b7fffdf",
   "metadata": {},
   "outputs": [
    {
     "data": {
      "text/plain": [
       "('N', 'R')"
      ]
     },
     "execution_count": 46,
     "metadata": {},
     "output_type": "execute_result"
    }
   ],
   "source": [
    "my_tup"
   ]
  }
 ],
 "metadata": {
  "kernelspec": {
   "display_name": "Python 3 (ipykernel)",
   "language": "python",
   "name": "python3"
  },
  "language_info": {
   "codemirror_mode": {
    "name": "ipython",
    "version": 3
   },
   "file_extension": ".py",
   "mimetype": "text/x-python",
   "name": "python",
   "nbconvert_exporter": "python",
   "pygments_lexer": "ipython3",
   "version": "3.9.7"
  }
 },
 "nbformat": 4,
 "nbformat_minor": 5
}
