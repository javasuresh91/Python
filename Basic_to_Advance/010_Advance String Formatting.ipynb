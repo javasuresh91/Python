{
 "cells": [
  {
   "cell_type": "markdown",
   "id": "15e90a06",
   "metadata": {},
   "source": [
    "# String Formatting"
   ]
  },
  {
   "cell_type": "code",
   "execution_count": 1,
   "id": "1e3bec07",
   "metadata": {},
   "outputs": [
    {
     "name": "stdout",
     "output_type": "stream",
     "text": [
      "hello\n"
     ]
    }
   ],
   "source": [
    "print(\"hello\")"
   ]
  },
  {
   "cell_type": "code",
   "execution_count": 4,
   "id": "610bb6bc",
   "metadata": {},
   "outputs": [
    {
     "name": "stdout",
     "output_type": "stream",
     "text": [
      "hello Suresh\n"
     ]
    }
   ],
   "source": [
    "print(\"hello {}\".format(\"Suresh\"))"
   ]
  },
  {
   "cell_type": "code",
   "execution_count": 8,
   "id": "5853c8d9",
   "metadata": {},
   "outputs": [
    {
     "name": "stdout",
     "output_type": "stream",
     "text": [
      "Welcome Suresh , Everyone please welcome him aged 16 very youg blood \n"
     ]
    }
   ],
   "source": [
    "s = \"him\"\n",
    "print(\"Welcome {} , Everyone please welcome {} aged {} very youg blood \".format(\"Suresh\",s,16))"
   ]
  },
  {
   "cell_type": "code",
   "execution_count": 9,
   "id": "c25c9a0b",
   "metadata": {},
   "outputs": [
    {
     "name": "stdout",
     "output_type": "stream",
     "text": [
      "Welcome Suresh, your age is 25\n"
     ]
    }
   ],
   "source": [
    "n = \"Suresh\"\n",
    "a = 25\n",
    "print(\"Welcome {name}, your age is {age}\".format(age=a,name=n)) ## If we give named placehodler, then ordering can be anything"
   ]
  },
  {
   "cell_type": "code",
   "execution_count": null,
   "id": "647e911b",
   "metadata": {},
   "outputs": [],
   "source": []
  },
  {
   "cell_type": "code",
   "execution_count": null,
   "id": "d0f7a6ba",
   "metadata": {},
   "outputs": [],
   "source": []
  }
 ],
 "metadata": {
  "kernelspec": {
   "display_name": "Python 3 (ipykernel)",
   "language": "python",
   "name": "python3"
  },
  "language_info": {
   "codemirror_mode": {
    "name": "ipython",
    "version": 3
   },
   "file_extension": ".py",
   "mimetype": "text/x-python",
   "name": "python",
   "nbconvert_exporter": "python",
   "pygments_lexer": "ipython3",
   "version": "3.9.7"
  }
 },
 "nbformat": 4,
 "nbformat_minor": 5
}
