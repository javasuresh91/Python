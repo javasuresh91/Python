{
 "cells": [
  {
   "cell_type": "markdown",
   "id": "1ef9222b",
   "metadata": {},
   "source": [
    "# Static Methods in Python"
   ]
  },
  {
   "cell_type": "code",
   "execution_count": 1,
   "id": "3258872e",
   "metadata": {},
   "outputs": [],
   "source": [
    "import datetime as dt\n",
    "now = dt.datetime.now()"
   ]
  },
  {
   "cell_type": "code",
   "execution_count": 2,
   "id": "48687cb6",
   "metadata": {},
   "outputs": [
    {
     "data": {
      "text/plain": [
       "2022"
      ]
     },
     "execution_count": 2,
     "metadata": {},
     "output_type": "execute_result"
    }
   ],
   "source": [
    "now.year"
   ]
  },
  {
   "cell_type": "code",
   "execution_count": 7,
   "id": "2b6e880c",
   "metadata": {},
   "outputs": [],
   "source": [
    "class Car:\n",
    "    base_price=2600\n",
    "    def __init__(self,windows,doors,power):\n",
    "        self.windows=windows\n",
    "        self.doors=doors\n",
    "        self.power=power\n",
    "    def what_is_base_price(self):\n",
    "        print(\"The base price of car is {}\".format(self.base_price))\n",
    "    @classmethod\n",
    "    def revised_base_price(cls,inflation):\n",
    "        cls.base_price = cls.base_price + inflation\n",
    "    @staticmethod ## Using @static method we can declare the static methods\n",
    "    def check_year(): ## cls and self is not needed for the static methods\n",
    "        if now.year==2022:\n",
    "            return True\n",
    "        else: \n",
    "            return False\n",
    " ## static methos will loaded while class loaded or executed, it wont wait for object creation or any other action       \n",
    "        "
   ]
  },
  {
   "cell_type": "code",
   "execution_count": 8,
   "id": "cda66673",
   "metadata": {},
   "outputs": [
    {
     "data": {
      "text/plain": [
       "True"
      ]
     },
     "execution_count": 8,
     "metadata": {},
     "output_type": "execute_result"
    }
   ],
   "source": [
    "Car.check_year()"
   ]
  },
  {
   "cell_type": "code",
   "execution_count": null,
   "id": "b6dd770e",
   "metadata": {},
   "outputs": [],
   "source": []
  }
 ],
 "metadata": {
  "kernelspec": {
   "display_name": "Python 3 (ipykernel)",
   "language": "python",
   "name": "python3"
  },
  "language_info": {
   "codemirror_mode": {
    "name": "ipython",
    "version": 3
   },
   "file_extension": ".py",
   "mimetype": "text/x-python",
   "name": "python",
   "nbconvert_exporter": "python",
   "pygments_lexer": "ipython3",
   "version": "3.9.7"
  }
 },
 "nbformat": 4,
 "nbformat_minor": 5
}
