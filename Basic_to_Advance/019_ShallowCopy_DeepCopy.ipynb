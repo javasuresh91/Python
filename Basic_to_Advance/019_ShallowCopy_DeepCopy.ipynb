{
 "cells": [
  {
   "cell_type": "markdown",
   "id": "17eb382d",
   "metadata": {},
   "source": [
    "# Shallow Copy vs Deep Copy"
   ]
  },
  {
   "cell_type": "markdown",
   "id": "fcfc2aae",
   "metadata": {},
   "source": [
    " Difference Between = , copy() , deepcopy()\n",
    " 1. Copy mechanism apply on the Collection element\n",
    " 2. Collection element are the Mutable objects\n",
    " "
   ]
  },
  {
   "cell_type": "markdown",
   "id": "ede23007",
   "metadata": {},
   "source": [
    "## Using = "
   ]
  },
  {
   "cell_type": "code",
   "execution_count": 1,
   "id": "f5fc76a8",
   "metadata": {},
   "outputs": [],
   "source": [
    "lst1 = [1,2,12,36,15]\n",
    "lst2 = lst1"
   ]
  },
  {
   "cell_type": "code",
   "execution_count": 2,
   "id": "d71b9b43",
   "metadata": {},
   "outputs": [
    {
     "name": "stdout",
     "output_type": "stream",
     "text": [
      "[1, 2, 12, 36, 15]\n",
      "[1, 2, 12, 36, 15]\n"
     ]
    }
   ],
   "source": [
    "print(lst1)\n",
    "print(lst2)"
   ]
  },
  {
   "cell_type": "code",
   "execution_count": 3,
   "id": "8026daf4",
   "metadata": {},
   "outputs": [],
   "source": [
    "lst2[1] = 45"
   ]
  },
  {
   "cell_type": "code",
   "execution_count": 4,
   "id": "b7fee587",
   "metadata": {},
   "outputs": [
    {
     "name": "stdout",
     "output_type": "stream",
     "text": [
      "[1, 45, 12, 36, 15]\n",
      "[1, 45, 12, 36, 15]\n"
     ]
    }
   ],
   "source": [
    "print(lst1)\n",
    "print(lst2) ## Both list has been modified because the = will point to the same meory location for the both variable"
   ]
  },
  {
   "cell_type": "markdown",
   "id": "e05717dd",
   "metadata": {},
   "source": [
    "## Using copy() - This shallow copy on the single dimensional list/collection object"
   ]
  },
  {
   "cell_type": "code",
   "execution_count": 5,
   "id": "872b5cef",
   "metadata": {},
   "outputs": [],
   "source": [
    "lst1 = [1,2,12,36,15]\n",
    "lst2 = lst1.copy()"
   ]
  },
  {
   "cell_type": "code",
   "execution_count": 7,
   "id": "95482a92",
   "metadata": {},
   "outputs": [
    {
     "name": "stdout",
     "output_type": "stream",
     "text": [
      "[1, 2, 12, 36, 15]\n",
      "[1, 2, 12, 36, 15]\n"
     ]
    }
   ],
   "source": [
    "print(lst1)\n",
    "print(lst2)"
   ]
  },
  {
   "cell_type": "code",
   "execution_count": 8,
   "id": "2a1ce906",
   "metadata": {},
   "outputs": [],
   "source": [
    "lst2[1] = 45"
   ]
  },
  {
   "cell_type": "code",
   "execution_count": 11,
   "id": "915c2306",
   "metadata": {},
   "outputs": [
    {
     "name": "stdout",
     "output_type": "stream",
     "text": [
      "[1, 2, 12, 36, 15]\n",
      "[1, 45, 12, 36, 15]\n"
     ]
    }
   ],
   "source": [
    "print(lst1)\n",
    "print(lst2)\n",
    "## By using coy method, the copy of the new value has been assigned to the new memory location so \n",
    "## it has change the particular lst only"
   ]
  },
  {
   "cell_type": "markdown",
   "id": "e390db29",
   "metadata": {},
   "source": [
    "## Using copy() - This shallow copy on the Nested list/collection object"
   ]
  },
  {
   "cell_type": "code",
   "execution_count": 12,
   "id": "17d37897",
   "metadata": {},
   "outputs": [],
   "source": [
    "lst1 = [[1,2,12,36,15],[5,8,9,6]]\n",
    "lst2 = lst1.copy()"
   ]
  },
  {
   "cell_type": "code",
   "execution_count": 13,
   "id": "7addfa5e",
   "metadata": {},
   "outputs": [
    {
     "name": "stdout",
     "output_type": "stream",
     "text": [
      "[[1, 2, 12, 36, 15], [5, 8, 9, 6]]\n",
      "[[1, 2, 12, 36, 15], [5, 8, 9, 6]]\n"
     ]
    }
   ],
   "source": [
    "print(lst1)\n",
    "print(lst2)"
   ]
  },
  {
   "cell_type": "code",
   "execution_count": 14,
   "id": "3b6f3a78",
   "metadata": {},
   "outputs": [],
   "source": [
    "lst2[1][1] = 100"
   ]
  },
  {
   "cell_type": "code",
   "execution_count": 17,
   "id": "ee20504d",
   "metadata": {},
   "outputs": [
    {
     "name": "stdout",
     "output_type": "stream",
     "text": [
      "[[1, 2, 12, 36, 15], [5, 100, 9, 6]]\n",
      "[[1, 2, 12, 36, 15], [5, 100, 9, 6]]\n"
     ]
    }
   ],
   "source": [
    "print(lst1)\n",
    "print(lst2) ## The item in the nested list is an list not an single object/element so it will get updated in the both list(Refer to the same memory location of the each list object), this is mean by shallow copy"
   ]
  },
  {
   "cell_type": "code",
   "execution_count": 18,
   "id": "d74cb500",
   "metadata": {},
   "outputs": [],
   "source": [
    "lst1.append([9,1,25,36])"
   ]
  },
  {
   "cell_type": "code",
   "execution_count": 20,
   "id": "86c60ac9",
   "metadata": {},
   "outputs": [
    {
     "name": "stdout",
     "output_type": "stream",
     "text": [
      "[[1, 2, 12, 36, 15], [5, 100, 9, 6], [9, 1, 25, 36]]\n",
      "[[1, 2, 12, 36, 15], [5, 100, 9, 6]]\n"
     ]
    }
   ],
   "source": [
    "print(lst1)\n",
    "print(lst2) ## new item wont get copy to the another list in the shallow copy , but as mentioned above element with the list item/object will get updated"
   ]
  },
  {
   "cell_type": "markdown",
   "id": "d4b8f656",
   "metadata": {},
   "source": [
    "## Using deepCopy() - Deep copy in the single dimensional list"
   ]
  },
  {
   "cell_type": "code",
   "execution_count": 21,
   "id": "c96f2ba3",
   "metadata": {},
   "outputs": [],
   "source": [
    "import copy\n",
    "lst1 = [1,2,12,36,15]\n",
    "lst2 = copy.deepcopy(lst1)"
   ]
  },
  {
   "cell_type": "code",
   "execution_count": 22,
   "id": "c4acf53b",
   "metadata": {},
   "outputs": [
    {
     "name": "stdout",
     "output_type": "stream",
     "text": [
      "[1, 2, 12, 36, 15]\n",
      "[1, 2, 12, 36, 15]\n"
     ]
    }
   ],
   "source": [
    "print(lst1)\n",
    "print(lst2)"
   ]
  },
  {
   "cell_type": "code",
   "execution_count": 23,
   "id": "5790d61b",
   "metadata": {},
   "outputs": [
    {
     "name": "stdout",
     "output_type": "stream",
     "text": [
      "[1, 2, 12, 36, 15]\n",
      "[1, 2, 55, 36, 15]\n"
     ]
    }
   ],
   "source": [
    "lst2[2] = 55\n",
    "print(lst1)\n",
    "print(lst2) ## it wont change value in all list"
   ]
  },
  {
   "cell_type": "markdown",
   "id": "bdc4a9d7",
   "metadata": {},
   "source": [
    "## Using deepCopy() - Deep copy in the Nested list/Collection"
   ]
  },
  {
   "cell_type": "code",
   "execution_count": 24,
   "id": "54cf562f",
   "metadata": {},
   "outputs": [],
   "source": [
    "lst1 = [[1,2,12,36,15],[5,8,9,6]]\n",
    "lst2 = copy.deepcopy(lst1)"
   ]
  },
  {
   "cell_type": "code",
   "execution_count": 25,
   "id": "04c95f0b",
   "metadata": {},
   "outputs": [
    {
     "name": "stdout",
     "output_type": "stream",
     "text": [
      "[[1, 2, 12, 36, 15], [5, 8, 9, 6]]\n",
      "[[1, 2, 12, 36, 15], [5, 8, 9, 6]]\n"
     ]
    }
   ],
   "source": [
    "print(lst1)\n",
    "print(lst2)"
   ]
  },
  {
   "cell_type": "code",
   "execution_count": 26,
   "id": "47cb8cad",
   "metadata": {},
   "outputs": [],
   "source": [
    "lst2[1][1] = 100"
   ]
  },
  {
   "cell_type": "code",
   "execution_count": 28,
   "id": "510d1a51",
   "metadata": {},
   "outputs": [
    {
     "name": "stdout",
     "output_type": "stream",
     "text": [
      "[[1, 2, 12, 36, 15], [5, 8, 9, 6]]\n",
      "[[1, 2, 12, 36, 15], [5, 100, 9, 6]]\n"
     ]
    }
   ],
   "source": [
    "print(lst1)\n",
    "print(lst2)  ## In deep copy will change the element in the corresponding list only"
   ]
  },
  {
   "cell_type": "code",
   "execution_count": null,
   "id": "32733965",
   "metadata": {},
   "outputs": [],
   "source": []
  }
 ],
 "metadata": {
  "kernelspec": {
   "display_name": "Python 3 (ipykernel)",
   "language": "python",
   "name": "python3"
  },
  "language_info": {
   "codemirror_mode": {
    "name": "ipython",
    "version": 3
   },
   "file_extension": ".py",
   "mimetype": "text/x-python",
   "name": "python",
   "nbconvert_exporter": "python",
   "pygments_lexer": "ipython3",
   "version": "3.9.7"
  }
 },
 "nbformat": 4,
 "nbformat_minor": 5
}
