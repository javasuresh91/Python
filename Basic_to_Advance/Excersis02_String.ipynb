{
 "cells": [
  {
   "cell_type": "code",
   "execution_count": 8,
   "id": "1857db7f",
   "metadata": {},
   "outputs": [
    {
     "name": "stdout",
     "output_type": "stream",
     "text": [
      "Jms\n"
     ]
    }
   ],
   "source": [
    "## Create a string made of the first, middle and last character\n",
    "str1 = \"James\"\n",
    "res = str1[0]\n",
    "l = len(str1)\n",
    "res = res + str1[int(l/2)]\n",
    "res = res + str1[l-1]\n",
    "print(res)"
   ]
  },
  {
   "cell_type": "code",
   "execution_count": 13,
   "id": "b937e016",
   "metadata": {},
   "outputs": [
    {
     "name": "stdout",
     "output_type": "stream",
     "text": [
      "Son\n"
     ]
    }
   ],
   "source": [
    "## Create a string made of the middle three characters\n",
    "str1 = \"JaSonAy\"\n",
    "l = len(str1)\n",
    "res = str1[int(l/2)-1]\n",
    "res = res + str1[int(l/2)]\n",
    "res = res + str1[int(l/2)+1]\n",
    "print(res)"
   ]
  },
  {
   "cell_type": "code",
   "execution_count": 6,
   "id": "e3af9de5",
   "metadata": {},
   "outputs": [
    {
     "name": "stdout",
     "output_type": "stream",
     "text": [
      "Au\n",
      "AuKelly\n",
      "AuKellylt\n"
     ]
    }
   ],
   "source": [
    "## Append new string in the middle of a given string\n",
    "s1 = \"Ault\"\n",
    "s2 = \"Kelly\"\n",
    "m1 = int(len(s1)/2)\n",
    "x = s1[:m1]\n",
    "print(x)\n",
    "x = x + s2\n",
    "print(x)\n",
    "x = x + s1[m1:]\n",
    "print(x)"
   ]
  },
  {
   "cell_type": "code",
   "execution_count": 10,
   "id": "424e3275",
   "metadata": {},
   "outputs": [
    {
     "name": "stdout",
     "output_type": "stream",
     "text": [
      "AJrpan\n"
     ]
    }
   ],
   "source": [
    "## Create a new string made of the first, middle, and last characters of each input string\n",
    "s1 = \"America\"\n",
    "s2 = \"Japan\"\n",
    "ms1 = int(len(s1)/2)\n",
    "ms2 = int(len(s2)/2)\n",
    "x = s1[0] + s2[0] + s1[ms1] + s2[ms2] + s1[len(s1)-1] + s2[len(s2)-1]\n",
    "print(x)"
   ]
  },
  {
   "cell_type": "code",
   "execution_count": 15,
   "id": "52cb6a2d",
   "metadata": {},
   "outputs": [
    {
     "name": "stdout",
     "output_type": "stream",
     "text": [
      "yaivePNT\n"
     ]
    }
   ],
   "source": [
    "## Arrange string characters such that lowercase letters should come first\n",
    "str1 = \"PyNaTive\"\n",
    "s = \"\"\n",
    "u = \"\"\n",
    "for i in str1:\n",
    "    if i.islower():\n",
    "        s = s + i\n",
    "    else:\n",
    "        u = u +i\n",
    "print(s+u)"
   ]
  },
  {
   "cell_type": "code",
   "execution_count": 20,
   "id": "b1e8b420",
   "metadata": {},
   "outputs": [
    {
     "name": "stdout",
     "output_type": "stream",
     "text": [
      "Leter : 8\n",
      "Digit : 3\n",
      "Symbol : 4\n"
     ]
    }
   ],
   "source": [
    "## Count all letters, digits, and special symbols from a given string\n",
    "lc = 0\n",
    "dc = 0\n",
    "sc = 0\n",
    "str1 = \"P@#yn26at^&i5ve\"\n",
    "for i in str1:\n",
    "    if i.isalpha():\n",
    "        lc +=1\n",
    "    elif i.isdigit():\n",
    "        dc+=1\n",
    "    else:\n",
    "        sc+=1\n",
    "print(\"Leter :\",lc)        \n",
    "print(\"Digit :\",dc)        \n",
    "print(\"Symbol :\",sc)        \n"
   ]
  },
  {
   "cell_type": "code",
   "execution_count": 30,
   "id": "c74b0e9e",
   "metadata": {},
   "outputs": [
    {
     "name": "stdout",
     "output_type": "stream",
     "text": [
      "AzbycX\n"
     ]
    }
   ],
   "source": [
    "## Create a mixed String using the following rules\n",
    "s1 = \"Abc\"\n",
    "s2 = \"Xyz\"\n",
    "s2 = s2[::-1]\n",
    "r =\"\"\n",
    "for i,j in zip(s1,s2):\n",
    "    r = r + i +j\n",
    "print(r)    "
   ]
  },
  {
   "cell_type": "code",
   "execution_count": 3,
   "id": "e95cbb86",
   "metadata": {},
   "outputs": [
    {
     "name": "stdout",
     "output_type": "stream",
     "text": [
      "Welcome & everyone & to & my & channel\n"
     ]
    }
   ],
   "source": [
    "## Convert the list elements to single String\n",
    "lst = [\"Welcome\",\"everyone\",\"to\",\"my\",\"channel\"]\n",
    "print(' & '.join(lst))"
   ]
  },
  {
   "cell_type": "code",
   "execution_count": null,
   "id": "fccdafc7",
   "metadata": {},
   "outputs": [],
   "source": []
  },
  {
   "cell_type": "code",
   "execution_count": null,
   "id": "69aa6ac1",
   "metadata": {},
   "outputs": [],
   "source": []
  },
  {
   "cell_type": "code",
   "execution_count": null,
   "id": "f30d9cfc",
   "metadata": {},
   "outputs": [],
   "source": []
  },
  {
   "cell_type": "code",
   "execution_count": null,
   "id": "a7c68d5f",
   "metadata": {},
   "outputs": [],
   "source": []
  },
  {
   "cell_type": "code",
   "execution_count": null,
   "id": "ee5419cb",
   "metadata": {},
   "outputs": [],
   "source": []
  }
 ],
 "metadata": {
  "kernelspec": {
   "display_name": "Python 3 (ipykernel)",
   "language": "python",
   "name": "python3"
  },
  "language_info": {
   "codemirror_mode": {
    "name": "ipython",
    "version": 3
   },
   "file_extension": ".py",
   "mimetype": "text/x-python",
   "name": "python",
   "nbconvert_exporter": "python",
   "pygments_lexer": "ipython3",
   "version": "3.9.7"
  }
 },
 "nbformat": 4,
 "nbformat_minor": 5
}
