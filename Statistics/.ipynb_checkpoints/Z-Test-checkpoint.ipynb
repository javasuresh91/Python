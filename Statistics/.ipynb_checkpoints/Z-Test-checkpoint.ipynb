{
 "cells": [
  {
   "cell_type": "markdown",
   "id": "5c2626e1",
   "metadata": {},
   "source": [
    "Suppose IQ in a certain population is normally distributed with a mean of (μ) = 100 and SD of (σ) = 15.\n",
    "\n",
    "A researcher wants to know if a new drug affects IQ levels, so he recruits 20 patients to try it records their IQ.\n",
    "\n",
    "The following code shows how to perform a one-sample Z-test in python to determine if the new drug cause a significant difference in IQ level."
   ]
  },
  {
   "cell_type": "code",
   "execution_count": 1,
   "id": "af6c1cbf",
   "metadata": {},
   "outputs": [],
   "source": [
    "from statsmodels.stats.weightstats import ztest as ztest"
   ]
  },
  {
   "cell_type": "code",
   "execution_count": 3,
   "id": "6d75aa01",
   "metadata": {},
   "outputs": [],
   "source": [
    "# IQ data for 20 patients after taking new drug\n",
    "\n",
    "data = [88,92,94,94,96,97,97,97,99,99,105,109,109,109,110,112,112, 113,114,115]"
   ]
  },
  {
   "cell_type": "code",
   "execution_count": 6,
   "id": "f5216027",
   "metadata": {},
   "outputs": [],
   "source": [
    "zt,pvalue = ztest(data,value=100)"
   ]
  },
  {
   "cell_type": "code",
   "execution_count": 9,
   "id": "142b75e9",
   "metadata": {},
   "outputs": [
    {
     "name": "stdout",
     "output_type": "stream",
     "text": [
      "ZTest Value : 1.5976240527147705\n",
      "P Value : 0.1101266701438426\n"
     ]
    }
   ],
   "source": [
    "print(\"ZTest Value :\" , zt)\n",
    "print(\"P Value :\" , pvalue)"
   ]
  },
  {
   "cell_type": "code",
   "execution_count": null,
   "id": "91fc40be",
   "metadata": {},
   "outputs": [],
   "source": []
  },
  {
   "cell_type": "code",
   "execution_count": null,
   "id": "4ca67349",
   "metadata": {},
   "outputs": [],
   "source": []
  },
  {
   "cell_type": "code",
   "execution_count": null,
   "id": "76a9acbd",
   "metadata": {},
   "outputs": [],
   "source": []
  },
  {
   "cell_type": "code",
   "execution_count": null,
   "id": "91fd7c26",
   "metadata": {},
   "outputs": [],
   "source": []
  },
  {
   "cell_type": "code",
   "execution_count": null,
   "id": "b6867037",
   "metadata": {},
   "outputs": [],
   "source": []
  },
  {
   "cell_type": "code",
   "execution_count": null,
   "id": "1f6c7496",
   "metadata": {},
   "outputs": [],
   "source": []
  }
 ],
 "metadata": {
  "kernelspec": {
   "display_name": "Python 3 (ipykernel)",
   "language": "python",
   "name": "python3"
  },
  "language_info": {
   "codemirror_mode": {
    "name": "ipython",
    "version": 3
   },
   "file_extension": ".py",
   "mimetype": "text/x-python",
   "name": "python",
   "nbconvert_exporter": "python",
   "pygments_lexer": "ipython3",
   "version": "3.9.7"
  }
 },
 "nbformat": 4,
 "nbformat_minor": 5
}
