{
 "cells": [
  {
   "cell_type": "code",
   "execution_count": 1,
   "id": "8aa07401",
   "metadata": {},
   "outputs": [],
   "source": [
    "import pandas as pd\n",
    "import numpy as np\n",
    "import matplotlib.pyplot as plt\n",
    "%matplotlib inline"
   ]
  },
  {
   "cell_type": "code",
   "execution_count": 2,
   "id": "13a554a9",
   "metadata": {},
   "outputs": [],
   "source": [
    "dataset = [11,10,12,14,12,15,14,13,15,102,12,14,17,19,107,10,13,12,14,12,108,12,11,14,13,15,10,15,12,10,14,13,15,10]"
   ]
  },
  {
   "cell_type": "markdown",
   "id": "2e55be92",
   "metadata": {},
   "source": [
    "## Find Outliers Using Z-score\n",
    "\n",
    "1. In Normal Distribution we have Emperial Formula as 68-95-99.7% of data\n",
    "2. This is called 1st , 2nd and 3rd Standard Deviation\n",
    "3. We can consider in bell curve after 1st , 2nd and 3rd SD remaining data are Outliers"
   ]
  },
  {
   "cell_type": "code",
   "execution_count": 3,
   "id": "ddf10295",
   "metadata": {},
   "outputs": [],
   "source": [
    "outliers=[]\n",
    "\n",
    "def detect_outliers(data):\n",
    "    threshold=3 ## limit of outliers\n",
    "    mean = np.mean(data)\n",
    "    sd=np.std(data)\n",
    "    print(\"Mean : \",mean)\n",
    "    print(\"SD : \",sd)\n",
    "    for i in data:\n",
    "        z_score=(i-mean)/sd\n",
    "        print(i , z_score , np.abs(z_score))\n",
    "        if np.abs(z_score) > threshold: ## getting the outliers\n",
    "            outliers.append(i)\n",
    "    return outliers        "
   ]
  },
  {
   "cell_type": "code",
   "execution_count": 4,
   "id": "6512fa16",
   "metadata": {},
   "outputs": [
    {
     "name": "stdout",
     "output_type": "stream",
     "text": [
      "Mean :  21.176470588235293\n",
      "SD :  26.37230118696876\n",
      "11 -0.38587723217963826 0.38587723217963826\n",
      "10 -0.4237958041279264 0.4237958041279264\n",
      "12 -0.3479586602313501 0.3479586602313501\n",
      "14 -0.27212151633477377 0.27212151633477377\n",
      "12 -0.3479586602313501 0.3479586602313501\n",
      "15 -0.23420294438648565 0.23420294438648565\n",
      "14 -0.27212151633477377 0.27212151633477377\n",
      "13 -0.31004008828306195 0.31004008828306195\n",
      "15 -0.23420294438648565 0.23420294438648565\n",
      "102 3.064712815114584 3.064712815114584\n",
      "12 -0.3479586602313501 0.3479586602313501\n",
      "14 -0.27212151633477377 0.27212151633477377\n",
      "17 -0.15836580048990934 0.15836580048990934\n",
      "19 -0.08252865659333301 0.08252865659333301\n",
      "107 3.254305674856025 3.254305674856025\n",
      "10 -0.4237958041279264 0.4237958041279264\n",
      "13 -0.31004008828306195 0.31004008828306195\n",
      "12 -0.3479586602313501 0.3479586602313501\n",
      "14 -0.27212151633477377 0.27212151633477377\n",
      "12 -0.3479586602313501 0.3479586602313501\n",
      "108 3.292224246804313 3.292224246804313\n",
      "12 -0.3479586602313501 0.3479586602313501\n",
      "11 -0.38587723217963826 0.38587723217963826\n",
      "14 -0.27212151633477377 0.27212151633477377\n",
      "13 -0.31004008828306195 0.31004008828306195\n",
      "15 -0.23420294438648565 0.23420294438648565\n",
      "10 -0.4237958041279264 0.4237958041279264\n",
      "15 -0.23420294438648565 0.23420294438648565\n",
      "12 -0.3479586602313501 0.3479586602313501\n",
      "10 -0.4237958041279264 0.4237958041279264\n",
      "14 -0.27212151633477377 0.27212151633477377\n",
      "13 -0.31004008828306195 0.31004008828306195\n",
      "15 -0.23420294438648565 0.23420294438648565\n",
      "10 -0.4237958041279264 0.4237958041279264\n",
      "Outliers are : [102, 107, 108]\n"
     ]
    }
   ],
   "source": [
    "print(\"Outliers are :\" ,detect_outliers(dataset))"
   ]
  },
  {
   "cell_type": "markdown",
   "id": "b80ef868",
   "metadata": {},
   "source": [
    "## Find Outliers using Inter Quartile Range(IQR)\n",
    "\n",
    "1. Sort the Elements\n",
    "2. Calculate Q1(25% Percentile) and Q3(75% Percentile)\n",
    "3. Calculate IQR\n",
    "4. Calculate Lower and Upper fence\n",
    "5. Using Five number summary on the Final dataset after removing Outliers"
   ]
  },
  {
   "cell_type": "code",
   "execution_count": 5,
   "id": "8004245a",
   "metadata": {},
   "outputs": [
    {
     "data": {
      "text/plain": [
       "[10,\n",
       " 10,\n",
       " 10,\n",
       " 10,\n",
       " 10,\n",
       " 11,\n",
       " 11,\n",
       " 12,\n",
       " 12,\n",
       " 12,\n",
       " 12,\n",
       " 12,\n",
       " 12,\n",
       " 12,\n",
       " 13,\n",
       " 13,\n",
       " 13,\n",
       " 13,\n",
       " 14,\n",
       " 14,\n",
       " 14,\n",
       " 14,\n",
       " 14,\n",
       " 14,\n",
       " 15,\n",
       " 15,\n",
       " 15,\n",
       " 15,\n",
       " 15,\n",
       " 17,\n",
       " 19,\n",
       " 102,\n",
       " 107,\n",
       " 108]"
      ]
     },
     "execution_count": 5,
     "metadata": {},
     "output_type": "execute_result"
    }
   ],
   "source": [
    "sorted_dataset = sorted(dataset)\n",
    "sorted_dataset"
   ]
  },
  {
   "cell_type": "code",
   "execution_count": 6,
   "id": "e9e759b5",
   "metadata": {},
   "outputs": [
    {
     "name": "stdout",
     "output_type": "stream",
     "text": [
      "Q1 :  12.0 Q3 :  15.0\n"
     ]
    }
   ],
   "source": [
    "#Calculate Q1 and Q3\n",
    "q1,q3=np.percentile(sorted_dataset,[25,75])\n",
    "print(\"Q1 : \",q1,\"Q3 : \",q3)"
   ]
  },
  {
   "cell_type": "code",
   "execution_count": 7,
   "id": "181c88a8",
   "metadata": {},
   "outputs": [
    {
     "name": "stdout",
     "output_type": "stream",
     "text": [
      "IQR :  3.0\n"
     ]
    }
   ],
   "source": [
    "#Calculate IQR\n",
    "iqr = q3-q1\n",
    "print(\"IQR : \",iqr)"
   ]
  },
  {
   "cell_type": "code",
   "execution_count": 8,
   "id": "df954dff",
   "metadata": {},
   "outputs": [
    {
     "name": "stdout",
     "output_type": "stream",
     "text": [
      "Lower fence :  7.5\n",
      "upper fence :  19.5\n"
     ]
    }
   ],
   "source": [
    "#calculate lower and upper fence\n",
    "lower_fence = q1-1.5*iqr\n",
    "upper_fence = q3+1.5*iqr\n",
    "print(\"Lower fence : \",lower_fence)\n",
    "print(\"upper fence : \",upper_fence)"
   ]
  },
  {
   "cell_type": "code",
   "execution_count": 9,
   "id": "34a9e8e9",
   "metadata": {},
   "outputs": [
    {
     "data": {
      "text/plain": [
       "[10,\n",
       " 10,\n",
       " 10,\n",
       " 10,\n",
       " 10,\n",
       " 11,\n",
       " 11,\n",
       " 12,\n",
       " 12,\n",
       " 12,\n",
       " 12,\n",
       " 12,\n",
       " 12,\n",
       " 12,\n",
       " 13,\n",
       " 13,\n",
       " 13,\n",
       " 13,\n",
       " 14,\n",
       " 14,\n",
       " 14,\n",
       " 14,\n",
       " 14,\n",
       " 14,\n",
       " 15,\n",
       " 15,\n",
       " 15,\n",
       " 15,\n",
       " 15,\n",
       " 17,\n",
       " 19]"
      ]
     },
     "execution_count": 9,
     "metadata": {},
     "output_type": "execute_result"
    }
   ],
   "source": [
    "final_dataset = [i for i in sorted_dataset if i>=lower_fence and i<=upper_fence]\n",
    "final_dataset"
   ]
  },
  {
   "cell_type": "code",
   "execution_count": 10,
   "id": "1ca8aaff",
   "metadata": {},
   "outputs": [
    {
     "name": "stdout",
     "output_type": "stream",
     "text": [
      "Minimum Value : 10\n",
      "Q1 : 12.0\n",
      "Median :  13.0\n",
      "Q3 :  15.0\n",
      "maximum Value :  19\n"
     ]
    }
   ],
   "source": [
    "#calculate Five Number summary\n",
    "min_num = min(final_dataset)\n",
    "median = np.median(final_dataset)\n",
    "max_num = max(final_dataset)\n",
    "print(\"Minimum Value :\",min_num)\n",
    "print(\"Q1 :\",q1)\n",
    "print(\"Median : \",median)\n",
    "print(\"Q3 : \",q3)\n",
    "print(\"maximum Value : \",max_num)"
   ]
  },
  {
   "cell_type": "markdown",
   "id": "89e6debf",
   "metadata": {},
   "source": [
    "## Finding Outliers by Seaborn"
   ]
  },
  {
   "cell_type": "code",
   "execution_count": 11,
   "id": "625d239a",
   "metadata": {},
   "outputs": [],
   "source": [
    "import seaborn as sns"
   ]
  },
  {
   "cell_type": "code",
   "execution_count": 12,
   "id": "13cbd001",
   "metadata": {},
   "outputs": [
    {
     "name": "stderr",
     "output_type": "stream",
     "text": [
      "G:\\Datascience\\installation\\anaconda3\\lib\\site-packages\\seaborn\\_decorators.py:36: FutureWarning: Pass the following variable as a keyword arg: x. From version 0.12, the only valid positional argument will be `data`, and passing other arguments without an explicit keyword will result in an error or misinterpretation.\n",
      "  warnings.warn(\n"
     ]
    },
    {
     "data": {
      "text/plain": [
       "<AxesSubplot:>"
      ]
     },
     "execution_count": 12,
     "metadata": {},
     "output_type": "execute_result"
    },
    {
     "data": {
      "image/png": "[encoded data removed]",
      "text/plain": [
       "<Figure size 432x288 with 1 Axes>"
      ]
     },
     "metadata": {
      "needs_background": "light"
     },
     "output_type": "display_data"
    }
   ],
   "source": [
    "sns.boxplot(dataset)"
   ]
  },
  {
   "cell_type": "code",
   "execution_count": null,
   "id": "184600cc",
   "metadata": {},
   "outputs": [],
   "source": []
  },
  {
   "cell_type": "code",
   "execution_count": null,
   "id": "7d52ae88",
   "metadata": {},
   "outputs": [],
   "source": []
  },
  {
   "cell_type": "code",
   "execution_count": null,
   "id": "388b214f",
   "metadata": {},
   "outputs": [],
   "source": []
  },
  {
   "cell_type": "code",
   "execution_count": null,
   "id": "5dcc2ec9",
   "metadata": {},
   "outputs": [],
   "source": []
  },
  {
   "cell_type": "code",
   "execution_count": null,
   "id": "6fc3a009",
   "metadata": {},
   "outputs": [],
   "source": []
  },
  {
   "cell_type": "code",
   "execution_count": null,
   "id": "d280849f",
   "metadata": {},
   "outputs": [],
   "source": []
  }
 ],
 "metadata": {
  "kernelspec": {
   "display_name": "Python 3 (ipykernel)",
   "language": "python",
   "name": "python3"
  },
  "language_info": {
   "codemirror_mode": {
    "name": "ipython",
    "version": 3
   },
   "file_extension": ".py",
   "mimetype": "text/x-python",
   "name": "python",
   "nbconvert_exporter": "python",
   "pygments_lexer": "ipython3",
   "version": "3.9.7"
  }
 },
 "nbformat": 4,
 "nbformat_minor": 5
}
